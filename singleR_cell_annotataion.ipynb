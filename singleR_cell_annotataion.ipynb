{
 "cells": [
  {
   "cell_type": "code",
   "execution_count": 3,
   "id": "bc543049",
   "metadata": {},
   "outputs": [],
   "source": [
    "#BiocManager::install(\"SingleR\")\n",
    "#BiocManager::install(\"celldex\")\n",
    "library(\"Seurat\")\n",
    "library(\"tidyverse\")\n",
    "#library(\"SeuratDisk\")\n",
    "library(SingleR)\n",
    "library(celldex)\n",
    "library(ggplot2)\n",
    "library(dplyr)\n",
    "library(tidyverse)\n",
    "# link for this package https://bioconductor.org/packages/release/data/experiment/vignettes/scRNAseq/inst/doc/scRNAseq.html\n",
    "# this has many scRNAseq datasets which can be used for cell annotation\n",
    "#BiocManager::install(\"scRNAseq\")\n",
    "library(scRNAseq)"
   ]
  },
  {
   "cell_type": "code",
   "execution_count": 2,
   "id": "26625282",
   "metadata": {},
   "outputs": [
    {
     "name": "stderr",
     "output_type": "stream",
     "text": [
      "see ?celldex and browseVignettes('celldex') for documentation\n",
      "\n",
      "loading from cache\n",
      "\n",
      "see ?celldex and browseVignettes('celldex') for documentation\n",
      "\n",
      "loading from cache\n",
      "\n"
     ]
    }
   ],
   "source": [
    "# step 1. read the .rds file\n",
    "SCAF2326 <- readRDS(\"/data/kumarr9/scRNA/atac.scRNA.parth/SCAF2326/alternate_cell_cycle_regress_out/SCAF2326_cell_cycle_regress_difference_out_resolution_1.rds\")\n",
    "# step 2. set the reference dataset\n",
    "ref <- celldex::HumanPrimaryCellAtlasData()\n",
    "# step 3. apply the reference set to the scRNA object\n",
    "results <- SingleR(test= as.SingleCellExperiment(SCAF2326), ref=ref, labels= ref$label.main)\n",
    "results ## to see results\n",
    "# step 4. Apply the labels or pruned.labels and add them in scRNA object\n",
    "SCAF2326$singleR_lables <- results$labels\n",
    "# step 5. Visulaize them in plot \n",
    "png(\"/data/kumarr9/scRNA/atac.scRNA.parth/SCAF2326/alternate_cell_cycle_regress_out/SCAF2326_singleR.jpg\", width = 3000, height = 3000, res=300)\n",
    "DimPlot(SCAF2326, reduction=\"umap\", group.by=\"singleR_lables\", label=TRUE)\n",
    "dev.off()"
   ]
  },
  {
   "cell_type": "code",
   "execution_count": 19,
   "id": "390c4bf0",
   "metadata": {},
   "outputs": [
    {
     "name": "stderr",
     "output_type": "stream",
     "text": [
      "see ?scRNAseq and browseVignettes('scRNAseq') for documentation\n",
      "\n",
      "downloading 1 resources\n",
      "\n",
      "retrieving 1 resource\n",
      "\n",
      "loading from cache\n",
      "\n",
      "see ?scRNAseq and browseVignettes('scRNAseq') for documentation\n",
      "\n",
      "downloading 1 resources\n",
      "\n",
      "retrieving 1 resource\n",
      "\n",
      "loading from cache\n",
      "\n"
     ]
    },
    {
     "data": {
      "text/plain": [
       "class: SingleCellExperiment \n",
       "dim: 18538 1715 \n",
       "metadata(0):\n",
       "assays(1): counts\n",
       "rownames(18538): WASH7P_p1 LINC01002_loc4 ... IL9R_loc1 DDX11L16_loc1\n",
       "rowData names(0):\n",
       "colnames(1715): 1772122_301_C02 1772122_180_E05 ... 1772122_310_H11\n",
       "  1772122_311_H02\n",
       "colData names(3): Cell_ID Cell_type Timepoint\n",
       "reducedDimNames(0):\n",
       "mainExpName: NULL\n",
       "altExpNames(0):"
      ]
     },
     "metadata": {},
     "output_type": "display_data"
    }
   ],
   "source": [
    "LaMannoBrainData('human-es')"
   ]
  },
  {
   "cell_type": "code",
   "execution_count": 20,
   "id": "3ce34463",
   "metadata": {},
   "outputs": [
    {
     "name": "stderr",
     "output_type": "stream",
     "text": [
      "see ?celldex and browseVignettes('celldex') for documentation\n",
      "\n",
      "loading from cache\n",
      "\n",
      "see ?celldex and browseVignettes('celldex') for documentation\n",
      "\n",
      "loading from cache\n",
      "\n"
     ]
    },
    {
     "data": {
      "text/plain": [
       "DataFrame with 4366 rows and 4 columns\n",
       "                                           scores               labels\n",
       "                                         <matrix>          <character>\n",
       "AAACCTGAGAGCAATT-1 0.191123:0.144296:0.168757:... Neuroepithelial_cell\n",
       "AAACCTGAGCCATCGC-1 0.184846:0.151468:0.189854:...     Epithelial_cells\n",
       "AAACCTGAGCCTTGAT-1 0.190781:0.143289:0.172659:...            iPS_cells\n",
       "AAACCTGAGGAGTAGA-1 0.125202:0.086540:0.105571:...     Epithelial_cells\n",
       "AAACCTGCAATGAAAC-1 0.164510:0.117662:0.136877:... Neuroepithelial_cell\n",
       "...                                           ...                  ...\n",
       "TTTGTCAGTTAGTGGG-1 0.273011:0.158300:0.208275:... Neuroepithelial_cell\n",
       "TTTGTCAGTTCGGGCT-1 0.182579:0.143883:0.153526:...            Astrocyte\n",
       "TTTGTCAGTTTGACTG-1 0.243161:0.133371:0.172490:...            iPS_cells\n",
       "TTTGTCATCATGGTCA-1 0.284604:0.187167:0.235836:...            iPS_cells\n",
       "TTTGTCATCTAAGCCA-1 0.158287:0.100276:0.126020:...              Neurons\n",
       "                   delta.next        pruned.labels\n",
       "                    <numeric>          <character>\n",
       "AAACCTGAGAGCAATT-1 0.02187426 Neuroepithelial_cell\n",
       "AAACCTGAGCCATCGC-1 0.04632835     Epithelial_cells\n",
       "AAACCTGAGCCTTGAT-1 0.01005842            iPS_cells\n",
       "AAACCTGAGGAGTAGA-1 0.00592794     Epithelial_cells\n",
       "AAACCTGCAATGAAAC-1 0.04716724 Neuroepithelial_cell\n",
       "...                       ...                  ...\n",
       "TTTGTCAGTTAGTGGG-1 0.00488092 Neuroepithelial_cell\n",
       "TTTGTCAGTTCGGGCT-1 0.00259771            Astrocyte\n",
       "TTTGTCAGTTTGACTG-1 0.01605476            iPS_cells\n",
       "TTTGTCATCATGGTCA-1 0.02196847            iPS_cells\n",
       "TTTGTCATCTAAGCCA-1 0.12939264              Neurons"
      ]
     },
     "metadata": {},
     "output_type": "display_data"
    },
    {
     "data": {
      "text/html": [
       "<strong>png:</strong> 2"
      ],
      "text/latex": [
       "\\textbf{png:} 2"
      ],
      "text/markdown": [
       "**png:** 2"
      ],
      "text/plain": [
       "png \n",
       "  2 "
      ]
     },
     "metadata": {},
     "output_type": "display_data"
    }
   ],
   "source": [
    "## for SCAF2497 ###\n",
    "# step 1. read the .rds file\n",
    "SCAF2497 <- readRDS(\"/data/kumarr9/scRNA/atac.scRNA.parth/SCAF2497/alternate_cell_cycle_regress_out/SCAF2497_cell_cycle_regress_difference_out_resolution_1.rds\")\n",
    "# step 2. set the reference dataset\n",
    "ref <- celldex::HumanPrimaryCellAtlasData()\n",
    "# step 3. apply the reference set to the scRNA object\n",
    "results <- SingleR(test= as.SingleCellExperiment(SCAF2497), ref=ref, labels= ref$label.main)\n",
    "results ## to see results\n",
    "# step 4. Apply the labels or pruned.labels and add them in scRNA object\n",
    "SCAF2497$singleR_lables <- results$labels\n",
    "# step 5. Visulaize them in plot \n",
    "png(\"/data/kumarr9/scRNA/atac.scRNA.parth/SCAF2497/alternate_cell_cycle_regress_out/SCAF2497_singleR.jpg\", width = 3000, height = 3000, res=300)\n",
    "DimPlot(SCAF2497, reduction=\"umap\", group.by=\"singleR_lables\", label=TRUE)\n",
    "dev.off()"
   ]
  },
  {
   "cell_type": "code",
   "execution_count": 5,
   "id": "4c398314",
   "metadata": {},
   "outputs": [
    {
     "name": "stderr",
     "output_type": "stream",
     "text": [
      "see ?celldex and browseVignettes('celldex') for documentation\n",
      "\n",
      "loading from cache\n",
      "\n",
      "see ?celldex and browseVignettes('celldex') for documentation\n",
      "\n",
      "loading from cache\n",
      "\n"
     ]
    },
    {
     "data": {
      "text/plain": [
       "DataFrame with 568 rows and 4 columns\n",
       "                                            scores               labels\n",
       "                                          <matrix>          <character>\n",
       "AAACCTGAGATGTGGC-1 0.2109835:0.196515:0.232752:...     Epithelial_cells\n",
       "AAACCTGTCGGAAATA-1 0.0679353:0.130631:0.128637:...         Erythroblast\n",
       "AAAGATGAGAAGGTTT-1 0.0974093:0.140879:0.140784:...                   BM\n",
       "AAAGATGCATACAGCT-1 0.2766617:0.207527:0.268935:...              Neurons\n",
       "AAAGTAGAGACTTGAA-1 0.2674259:0.211680:0.273747:...            iPS_cells\n",
       "...                                            ...                  ...\n",
       "TTTCCTCCATGCCTAA-1  0.284358:0.227106:0.308946:... Embryonic_stem_cells\n",
       "TTTCCTCGTCTTGCGG-1  0.222933:0.199206:0.263090:...           BM & Prog.\n",
       "TTTCCTCTCAGCTCTC-1  0.207434:0.152688:0.210182:... Embryonic_stem_cells\n",
       "TTTGGTTAGACCGGAT-1  0.288523:0.193036:0.270079:...              Neurons\n",
       "TTTGTCAAGAATGTGT-1  0.116860:0.103938:0.118773:...           Macrophage\n",
       "                   delta.next        pruned.labels\n",
       "                    <numeric>          <character>\n",
       "AAACCTGAGATGTGGC-1 0.01380660     Epithelial_cells\n",
       "AAACCTGTCGGAAATA-1 0.08538115         Erythroblast\n",
       "AAAGATGAGAAGGTTT-1 0.05105014                   BM\n",
       "AAAGATGCATACAGCT-1 0.00910483              Neurons\n",
       "AAAGTAGAGACTTGAA-1 0.00556326            iPS_cells\n",
       "...                       ...                  ...\n",
       "TTTCCTCCATGCCTAA-1 0.01884766 Embryonic_stem_cells\n",
       "TTTCCTCGTCTTGCGG-1 0.00189688           BM & Prog.\n",
       "TTTCCTCTCAGCTCTC-1 0.00219024 Embryonic_stem_cells\n",
       "TTTGGTTAGACCGGAT-1 0.01223907              Neurons\n",
       "TTTGTCAAGAATGTGT-1 0.00213359           Macrophage"
      ]
     },
     "metadata": {},
     "output_type": "display_data"
    },
    {
     "data": {
      "text/html": [
       "<strong>png:</strong> 2"
      ],
      "text/latex": [
       "\\textbf{png:} 2"
      ],
      "text/markdown": [
       "**png:** 2"
      ],
      "text/plain": [
       "png \n",
       "  2 "
      ]
     },
     "metadata": {},
     "output_type": "display_data"
    }
   ],
   "source": [
    "## SCAF 2326 subsetted for tumor cluster only \n",
    "SCAF2326 <- readRDS(\"/data/kumarr9/scRNA/atac.scRNA.parth/SCAF2326/alternate_cell_cycle_regress_out/infercnv_result_1_10_1/SCAF2326tumor_subsetted.rds\")\n",
    "# step 2. set the reference dataset\n",
    "ref <- celldex::HumanPrimaryCellAtlasData()\n",
    "# step 3. apply the reference set to the scRNA object\n",
    "results <- SingleR(test= as.SingleCellExperiment(SCAF2326), ref=ref, labels= ref$label.main)\n",
    "results ## to see results\n",
    "# step 4. Apply the labels or pruned.labels and add them in scRNA object\n",
    "SCAF2326$singleR_lables <- results$labels\n",
    "# step 5. Visulaize them in plot \n",
    "png(\"/data/kumarr9/scRNA/atac.scRNA.parth/SCAF2326/alternate_cell_cycle_regress_out/infercnv_result_1_10_1/SCAF2326_tumor_subsetted_singleR.jpg\", width = 3000, height = 3000, res=300)\n",
    "DimPlot(SCAF2326, reduction=\"umap\", group.by=\"singleR_lables\", label=TRUE)\n",
    "dev.off()"
   ]
  },
  {
   "cell_type": "code",
   "execution_count": 15,
   "id": "37f367c2",
   "metadata": {},
   "outputs": [
    {
     "name": "stderr",
     "output_type": "stream",
     "text": [
      "see ?celldex and browseVignettes('celldex') for documentation\n",
      "\n",
      "loading from cache\n",
      "\n",
      "see ?celldex and browseVignettes('celldex') for documentation\n",
      "\n",
      "loading from cache\n",
      "\n"
     ]
    },
    {
     "data": {
      "text/html": [
       "<strong>png:</strong> 2"
      ],
      "text/latex": [
       "\\textbf{png:} 2"
      ],
      "text/markdown": [
       "**png:** 2"
      ],
      "text/plain": [
       "png \n",
       "  2 "
      ]
     },
     "metadata": {},
     "output_type": "display_data"
    }
   ],
   "source": [
    "## SCAF2326 cell annotation baed on Bioinfomagician\n",
    "## SCAF 2326 subsetted for tumor cluster only \n",
    "SCAF2326 <- readRDS(\"/data/kumarr9/scRNA/atac.scRNA.parth/SCAF2326/alternate_cell_cycle_regress_out/infercnv_result_1_10_1/SCAF2326tumor_subsetted.rds\")\n",
    "#SCAF2326 <- readRDS(\"/data/kumarr9/scRNA/atac.scRNA.parth/SCAF2326/alternate_cell_cycle_regress_out/SCAF2326_cell_cycle_regress_difference_out_resolution_1.rds\")\n",
    "ref <- celldex::HumanPrimaryCellAtlasData()\n",
    "pbmc_counts <- GetAssayData(SCAF2326, slot = 'counts')\n",
    "pred <- SingleR(test = pbmc_counts,\n",
    "        ref = ref,\n",
    "        labels = ref$label.main)\n",
    "SCAF2326$singleR.labels <- pred$labels[match(rownames(SCAF2326@meta.data), rownames(pred))]\n",
    "png(\"/data/kumarr9/scRNA/atac.scRNA.parth/SCAF2326/alternate_cell_cycle_regress_out/infercnv_result_1_10_1/SCAF2326_tumor_subsetted_singleR.jpg\", width = 3000, height = 3000, res=300)\n",
    "DimPlot(SCAF2326, reduction = 'umap', group.by = 'singleR.labels')\n",
    "dev.off()"
   ]
  },
  {
   "cell_type": "code",
   "execution_count": 2,
   "id": "4ad50a6d",
   "metadata": {},
   "outputs": [
    {
     "name": "stderr",
     "output_type": "stream",
     "text": [
      "see ?celldex and browseVignettes('celldex') for documentation\n",
      "\n",
      "loading from cache\n",
      "\n",
      "see ?celldex and browseVignettes('celldex') for documentation\n",
      "\n",
      "loading from cache\n",
      "\n"
     ]
    },
    {
     "data": {
      "text/plain": [
       "DataFrame with 8613 rows and 4 columns\n",
       "                                                scores               labels\n",
       "                                              <matrix>          <character>\n",
       "AAACCTGAGATGTGGC-1_1 0.1736153:0.0162367:0.0685127:...              Neurons\n",
       "AAACCTGAGGATTCGG-1_1 0.1370382:0.1181974:0.1172123:...     Pro-B_cell_CD34+\n",
       "AAACCTGCATAACCTG-1_1 0.1074694:0.0868999:0.1099124:...     Epithelial_cells\n",
       "AAACCTGCATTTCACT-1_1 0.0349711:0.1099772:0.0741847:...              NK_cell\n",
       "AAACCTGGTGACTCAT-1_1 0.0937728:0.1634850:0.1825759:...              T_cells\n",
       "...                                                ...                  ...\n",
       "TTTGGTTGTCCAACTA-1_3 0.0160372:0.1088843:0.0978403:...        Keratinocytes\n",
       "TTTGGTTGTCTTCTCG-1_3 0.0925024:0.1091039:0.1117696:... Neuroepithelial_cell\n",
       "TTTGGTTGTGCACGAA-1_3 0.0315450:0.0611517:0.0482999:...         Erythroblast\n",
       "TTTGGTTGTTATCACG-1_3 0.1140555:0.1095950:0.1224956:...     Epithelial_cells\n",
       "TTTGTCAAGGCTAGCA-1_3 0.0366827:0.0946908:0.0562790:...        Keratinocytes\n",
       "                      delta.next        pruned.labels\n",
       "                       <numeric>          <character>\n",
       "AAACCTGAGATGTGGC-1_1 0.010588184              Neurons\n",
       "AAACCTGAGGATTCGG-1_1 0.000422343     Pro-B_cell_CD34+\n",
       "AAACCTGCATAACCTG-1_1 0.020245910     Epithelial_cells\n",
       "AAACCTGCATTTCACT-1_1 0.161901885              NK_cell\n",
       "AAACCTGGTGACTCAT-1_1 0.051247837              T_cells\n",
       "...                          ...                  ...\n",
       "TTTGGTTGTCCAACTA-1_3 0.018215614        Keratinocytes\n",
       "TTTGGTTGTCTTCTCG-1_3 0.001173022 Neuroepithelial_cell\n",
       "TTTGGTTGTGCACGAA-1_3 0.000560183         Erythroblast\n",
       "TTTGGTTGTTATCACG-1_3 0.010975325     Epithelial_cells\n",
       "TTTGTCAAGGCTAGCA-1_3 0.005769518        Keratinocytes"
      ]
     },
     "metadata": {},
     "output_type": "display_data"
    },
    {
     "data": {
      "text/html": [
       "<strong>png:</strong> 2"
      ],
      "text/latex": [
       "\\textbf{png:} 2"
      ],
      "text/markdown": [
       "**png:** 2"
      ],
      "text/plain": [
       "png \n",
       "  2 "
      ]
     },
     "metadata": {},
     "output_type": "display_data"
    }
   ],
   "source": [
    "### for the cluster 1,2, 3 integrated object \n",
    "## perfrom the single R automatic annotation of this integrated object\n",
    "Integrated <- readRDS(\"/data/SCLCgenomics/rajesh/ATAC_scripts/ATAC_analysis/ATAC_batch_1_2_3_quantified_peaks/scRNA_cluster_1_2_3/Seurat_combined_cluster_1_2_3.rds\")\n",
    "# step 2. set the reference dataset\n",
    "ref <- celldex::HumanPrimaryCellAtlasData()\n",
    "# step 3. apply the reference set to the scRNA object\n",
    "results <- SingleR(test= as.SingleCellExperiment(Integrated), ref=ref, labels= ref$label.main)\n",
    "results ## to see results\n",
    "# step 4. Apply the labels or pruned.labels and add them in scRNA object\n",
    "Integrated$singleR_lables <- results$labels\n",
    "# step 5. Visulaize them in plot \n",
    "png(\"/data/SCLCgenomics/rajesh/ATAC_scripts/ATAC_analysis/ATAC_batch_1_2_3_quantified_peaks/scRNA_cluster_1_2_3/Integrated_singleR.jpg\", width = 3000, height = 3000, res=300)\n",
    "DimPlot(Integrated, reduction=\"umap\", group.by=\"singleR_lables\", label=TRUE)\n",
    "dev.off()"
   ]
  },
  {
   "cell_type": "code",
   "execution_count": 42,
   "id": "bafc624a",
   "metadata": {},
   "outputs": [
    {
     "name": "stderr",
     "output_type": "stream",
     "text": [
      "Warning message:\n",
      "\"Could not find HIST1H1A in the default search locations, found in 'RNA' assay instead\"\n",
      "Warning message:\n",
      "\"Could not find TFAP2B in the default search locations, found in 'RNA' assay instead\"\n",
      "Warning message:\n",
      "\"Could not find CEBPA in the default search locations, found in 'RNA' assay instead\"\n",
      "Warning message:\n",
      "\"Could not find RASD2 in the default search locations, found in 'RNA' assay instead\"\n",
      "Warning message:\n",
      "\"Could not find RPSA in the default search locations, found in 'RNA' assay instead\"\n",
      "Warning message:\n",
      "\"Could not find HSP90AB1 in the default search locations, found in 'RNA' assay instead\"\n",
      "Warning message:\n",
      "\"Could not find RPL32 in the default search locations, found in 'RNA' assay instead\"\n",
      "Warning message:\n",
      "\"Could not find DTX4 in the default search locations, found in 'RNA' assay instead\"\n",
      "Warning message:\n",
      "\"Could not find RPL26 in the default search locations, found in 'RNA' assay instead\"\n",
      "Warning message:\n",
      "\"The following requested variables were not found: SPIC\"\n"
     ]
    },
    {
     "data": {
      "text/html": [
       "<strong>png:</strong> 2"
      ],
      "text/latex": [
       "\\textbf{png:} 2"
      ],
      "text/markdown": [
       "**png:** 2"
      ],
      "text/plain": [
       "png \n",
       "  2 "
      ]
     },
     "metadata": {},
     "output_type": "display_data"
    }
   ],
   "source": [
    "# link for dotplot https://divingintogeneticsandgenomics.com/post/how-to-make-a-multi-group-dotplot-for-single-cell-rnaseq-data/\n",
    "Idents(Integrated)<- Integrated$seurat_clusters\n",
    "# NEEDS TO BE FIXED AND SET ORDER CORRECTLY\n",
    "Idents(Integrated) <- factor(Idents(Integrated), \n",
    "                       levels = c(\"0\", \"1\", \"2\", \"3\", \n",
    "                                                \"4\", \"5\",\"6\", \n",
    "                                                \"7\", \"8\", \"9\", \"10\", \n",
    "                                                \"11\", \"12\", \"13\", \"14\", \"15\", \"16\", \"17\", \"18\", \"19\", \"20\", \"21\"))\n",
    "\n",
    "markers.to.plot <- c(\"SPIC\",\"HIST1H1A\",\"TFAP2B\",\"VIM\",\"SPIB\",\"CEBPA\",\"MGP\",\"TPM2\",\"RASD2\",\"PAPSS2\",\"CD44\",\"COL3A1\",\"AHNAK\",\"IGFBP3\",\"RPSA\",\"HSP90AB1\",\"RPL32\",\"DTX4\",\"KRT7\",\"RPL26\",\"GSN\",\"NFKB2\",\"STOM\")\n",
    "png(\"/data/SCLCgenomics/rajesh/ATAC_scripts/ATAC_analysis/ATAC_batch_1_2_3_quantified_peaks/scRNA_cluster_1_2_3/stemness_genes.jpg\", width = 4000, height = 6000, res=300)\n",
    "DotPlot(Integrated, features = markers.to.plot, cols = c(\"blue\", \"red\", \"black\"), \n",
    "        dot.scale = 8, split.by = \"orig.ident\") +\n",
    "        RotatedAxis()\n",
    "dev.off()"
   ]
  },
  {
   "cell_type": "code",
   "execution_count": 44,
   "id": "6aeaff58",
   "metadata": {},
   "outputs": [],
   "source": [
    "# Calculating cell types https://rpubs.com/eraz0001/SingleR\n",
    "new <- table(Integrated$orig.ident, Integrated$singleR_lables)\n",
    "write.table(new, file=\"/data/SCLCgenomics/rajesh/ATAC_scripts/ATAC_analysis/ATAC_batch_1_2_3_quantified_peaks/scRNA_cluster_1_2_3/table.tsv\", sep=\"\\t\")"
   ]
  },
  {
   "cell_type": "code",
   "execution_count": null,
   "id": "7593e1d9",
   "metadata": {},
   "outputs": [],
   "source": []
  }
 ],
 "metadata": {
  "kernelspec": {
   "display_name": "R/4.3",
   "language": "R",
   "name": "ir43"
  },
  "language_info": {
   "codemirror_mode": "r",
   "file_extension": ".r",
   "mimetype": "text/x-r-source",
   "name": "R",
   "pygments_lexer": "r",
   "version": "4.3.2"
  }
 },
 "nbformat": 4,
 "nbformat_minor": 5
}

{
 "cells": [
  {
   "cell_type": "code",
   "execution_count": 1,
   "id": "cb15783a",
   "metadata": {
    "scrolled": true
   },
   "outputs": [
    {
     "name": "stderr",
     "output_type": "stream",
     "text": [
      "The legacy packages maptools, rgdal, and rgeos, underpinning the sp package,\n",
      "which was just loaded, will retire in October 2023.\n",
      "Please refer to R-spatial evolution reports for details, especially\n",
      "https://r-spatial.org/r/2023/05/15/evolution4.html.\n",
      "It may be desirable to make the sf package available;\n",
      "package maintainers should consider adding sf to Suggests:.\n",
      "The sp package is now running under evolution status 2\n",
      "     (status 2 uses the sf package in place of rgdal)\n",
      "\n",
      "Loading required package: SeuratObject\n",
      "\n",
      "Loading required package: sp\n",
      "\n",
      "\n",
      "Attaching package: ‘SeuratObject’\n",
      "\n",
      "\n",
      "The following objects are masked from ‘package:base’:\n",
      "\n",
      "    intersect, saveRDS\n",
      "\n",
      "\n",
      "Loading Seurat v5 beta version \n",
      "To maintain compatibility with previous workflows, new Seurat objects will use the previous object structure by default\n",
      "To use new Seurat v5 assays: Please run: options(Seurat.object.assay.version = 'v5')\n",
      "\n",
      "── \u001b[1mAttaching core tidyverse packages\u001b[22m ────────────────────────────────────────────────────────────────────────────────────────────────────────────────────────────────────────────────────────────── tidyverse 2.0.0 ──\n",
      "\u001b[32m✔\u001b[39m \u001b[34mdplyr    \u001b[39m 1.1.3     \u001b[32m✔\u001b[39m \u001b[34mreadr    \u001b[39m 2.1.4\n",
      "\u001b[32m✔\u001b[39m \u001b[34mforcats  \u001b[39m 1.0.0     \u001b[32m✔\u001b[39m \u001b[34mstringr  \u001b[39m 1.5.0\n",
      "\u001b[32m✔\u001b[39m \u001b[34mggplot2  \u001b[39m 3.4.3     \u001b[32m✔\u001b[39m \u001b[34mtibble   \u001b[39m 3.2.1\n",
      "\u001b[32m✔\u001b[39m \u001b[34mlubridate\u001b[39m 1.9.2     \u001b[32m✔\u001b[39m \u001b[34mtidyr    \u001b[39m 1.3.0\n",
      "\u001b[32m✔\u001b[39m \u001b[34mpurrr    \u001b[39m 1.0.2     \n",
      "── \u001b[1mConflicts\u001b[22m ──────────────────────────────────────────────────────────────────────────────────────────────────────────────────────────────────────────────────────────────────────────────── tidyverse_conflicts() ──\n",
      "\u001b[31m✖\u001b[39m \u001b[34mdplyr\u001b[39m::\u001b[32mfilter()\u001b[39m masks \u001b[34mstats\u001b[39m::filter()\n",
      "\u001b[31m✖\u001b[39m \u001b[34mdplyr\u001b[39m::\u001b[32mlag()\u001b[39m    masks \u001b[34mstats\u001b[39m::lag()\n",
      "\u001b[36mℹ\u001b[39m Use the conflicted package (\u001b[3m\u001b[34m<http://conflicted.r-lib.org/>\u001b[39m\u001b[23m) to force all conflicts to become errors\n",
      "Registered S3 method overwritten by 'SeuratDisk':\n",
      "  method            from  \n",
      "  as.sparse.H5Group Seurat\n",
      "\n"
     ]
    }
   ],
   "source": [
    "\n",
    "######################################################\n",
    "### Attaching and downloading necessary packagaes ####\n",
    "######################################################\n",
    "# if (!requireNamespace(\"BiocManager\", quietly = FALSE))\n",
    "#     install.packages(\"BiocManager\")\n",
    "# BiocManager::version()\n",
    "# library(\"devtools\")\n",
    "# devtools::install_github(\"broadinstitute/infercnv\", force=TRUE)\n",
    "# detach(\"package:infercnv\", unload=T)  ### package infercnv_1.15.3  seems to work fine\n",
    "library(infercnv)\n",
    "#### loading packages and others \n",
    "library(\"Seurat\")\n",
    "library(\"tidyverse\")\n",
    "#remotes::install_github(\"mojaveazure/seurat-disk\")\n",
    "library(\"SeuratDisk\")\n",
    "#install.packages(\"ggplot2\")\n",
    "library(ggplot2)\n",
    "#install.packages(\"remotes\")\n",
    "#remotes::install_github(\"chris-mcginnis-ucsf/DoubletFinder\", force=TRUE)\n",
    "library(DoubletFinder)\n",
    "library(dplyr)\n",
    "library(tidyverse)\n",
    "library(ggpubr)"
   ]
  },
  {
   "cell_type": "code",
   "execution_count": 2,
   "id": "69cd1c5c",
   "metadata": {},
   "outputs": [
    {
     "data": {
      "text/html": [
       "<strong>png:</strong> 2"
      ],
      "text/latex": [
       "\\textbf{png:} 2"
      ],
      "text/markdown": [
       "**png:** 2"
      ],
      "text/plain": [
       "png \n",
       "  2 "
      ]
     },
     "metadata": {},
     "output_type": "display_data"
    },
    {
     "name": "stderr",
     "output_type": "stream",
     "text": [
      "\u001b[1m\u001b[22m`geom_smooth()` using formula = 'y ~ x'\n",
      "\u001b[1m\u001b[22m`geom_smooth()` using formula = 'y ~ x'\n"
     ]
    },
    {
     "data": {
      "text/html": [
       "<strong>png:</strong> 2"
      ],
      "text/latex": [
       "\\textbf{png:} 2"
      ],
      "text/markdown": [
       "**png:** 2"
      ],
      "text/plain": [
       "png \n",
       "  2 "
      ]
     },
     "metadata": {},
     "output_type": "display_data"
    },
    {
     "data": {
      "text/html": [
       "<strong>png:</strong> 2"
      ],
      "text/latex": [
       "\\textbf{png:} 2"
      ],
      "text/markdown": [
       "**png:** 2"
      ],
      "text/plain": [
       "png \n",
       "  2 "
      ]
     },
     "metadata": {},
     "output_type": "display_data"
    },
    {
     "name": "stderr",
     "output_type": "stream",
     "text": [
      "\u001b[1m\u001b[22m`geom_smooth()` using formula = 'y ~ x'\n",
      "\u001b[1m\u001b[22m`geom_smooth()` using formula = 'y ~ x'\n"
     ]
    },
    {
     "data": {
      "text/html": [
       "<strong>png:</strong> 2"
      ],
      "text/latex": [
       "\\textbf{png:} 2"
      ],
      "text/markdown": [
       "**png:** 2"
      ],
      "text/plain": [
       "png \n",
       "  2 "
      ]
     },
     "metadata": {},
     "output_type": "display_data"
    },
    {
     "name": "stderr",
     "output_type": "stream",
     "text": [
      "Warning message:\n",
      "“The following arguments are not used: nselect”\n",
      "When using repel, set xnudge and ynudge to 0 for optimal results\n",
      "\n",
      "Warning message:\n",
      "“\u001b[1m\u001b[22mTransformation introduced infinite values in continuous x-axis”\n",
      "Warning message:\n",
      "“\u001b[1m\u001b[22mTransformation introduced infinite values in continuous x-axis”\n",
      "Warning message:\n",
      "“ggrepel: 6 unlabeled data points (too many overlaps). Consider increasing max.overlaps”\n"
     ]
    },
    {
     "data": {
      "text/html": [
       "<strong>png:</strong> 2"
      ],
      "text/latex": [
       "\\textbf{png:} 2"
      ],
      "text/markdown": [
       "**png:** 2"
      ],
      "text/plain": [
       "png \n",
       "  2 "
      ]
     },
     "metadata": {},
     "output_type": "display_data"
    },
    {
     "name": "stderr",
     "output_type": "stream",
     "text": [
      "Warning message:\n",
      "“The following features are not present in the object: MLF1IP, not searching for symbol synonyms”\n",
      "Warning message:\n",
      "“The following features are not present in the object: FAM64A, HN1, not searching for symbol synonyms”\n",
      "Regressing out CC.Difference\n",
      "\n",
      "Centering and scaling data matrix\n",
      "\n",
      "Warning message in PrepDR(object = object, features = features, verbose = verbose):\n",
      "“The following 3 features requested have not been scaled (running reduction without them): MLF1IP, FAM64A, HN1”\n",
      "Warning message in PrepDR(object = object, features = features, verbose = verbose):\n",
      "“The following 5 features requested have zero variance (running reduction without them): BRIP1, TTK, CDC25C, KIF2C, PSRC1”\n",
      "Warning message in irlba(A = t(x = object), nv = npcs, ...):\n",
      "“You're computing too large a percentage of total singular values, use a standard svd instead.”\n",
      "PC_ 1 \n",
      "Positive:  RANGAP1, G2E3, ECT2, KIF23, GAS2L3, POLA1, UNG, MSH2, KIF20B, CTCF \n",
      "\t   BLM, CASP8AP2, CKS2, GMNN, USP1, GINS2, LBR, CDCA3, ANP32E, TUBB4B \n",
      "\t   CBX5, RRM1, WDR76, PRIM1, RPA2, DTL, MCM2, TIPIN, CKAP5, SLBP \n",
      "Negative:  TOP2A, CKAP2L, NUSAP1, BIRC5, CDCA8, CCNE2, CENPE, GTSE1, AURKB, RAD51AP1 \n",
      "\t   TPX2, NEK2, TYMS, CLSPN, MKI67, CENPF, CDCA2, FEN1, CHAF1B, SMC4 \n",
      "\t   EXO1, CCNB2, CDC45, CDC6, RAD51, E2F8, CENPA, HJURP, HMMR, ANLN \n",
      "PC_ 2 \n",
      "Positive:  CCNB2, NUF2, DLGAP5, NDC80, TOP2A, UHRF1, AURKB, CDCA8, RRM1, MCM2 \n",
      "\t   UBE2C, GTSE1, NEK2, SLBP, CDCA3, UBR7, CKAP2L, PCNA, BIRC5, CKS1B \n",
      "\t   SMC4, NASP, CDCA7, TUBB4B, GINS2, DTL, PRIM1, HMGB2, WDR76, GMNN \n",
      "Negative:  CDC6, CDC45, ANLN, HMMR, HJURP, E2F8, RAD51, CENPA, CHAF1B, DSCC1 \n",
      "\t   TACC3, KIF11, AURKA, TIPIN, TPX2, CDC20, BUB1, CCNE2, FEN1, ANP32E \n",
      "\t   CENPE, TYMS, CKS2, ATAD2, RAD51AP1, CKAP2, CDCA2, HELLS, CDK1, EXO1 \n",
      "PC_ 3 \n",
      "Positive:  CDCA7, CLSPN, WDR76, PRIM1, RAD51AP1, MCM6, DTL, CKAP2, LBR, MCM5 \n",
      "\t   TPX2, CENPE, KIF20B, CCNE2, POLD3, CASP8AP2, SLBP, MCM4, GMNN, TMPO \n",
      "\t   NCAPD2, CTCF, NASP, ANP32E, CDK1, CBX5, MSH2, BLM, CKS2, HMGB2 \n",
      "Negative:  RRM2, CDCA2, UBR7, FEN1, EXO1, AURKB, CDCA8, RFC2, CDCA3, CCNB2 \n",
      "\t   USP1, CDC6, BUB1, CDC20, AURKA, CDC45, HMMR, ANLN, CENPA, HJURP \n",
      "\t   E2F8, RAD51, DSCC1, ATAD2, NEK2, CKAP2L, RRM1, KIF11, RPA2, UHRF1 \n",
      "PC_ 4 \n",
      "Positive:  MCM2, UHRF1, CDCA3, CDCA2, EXO1, RRM2, UBR7, CKS2, PCNA, CDCA7 \n",
      "\t   UBE2C, TUBB4B, ANP32E, AURKB, FEN1, TMPO, SMC4, DTL, PRIM1, CDCA8 \n",
      "\t   TOP2A, CLSPN, HMGB2, GINS2, WDR76, CENPE, CCNE2, LBR, MCM6, CBX5 \n",
      "Negative:  BIRC5, CKAP2L, NUF2, DLGAP5, NDC80, NEK2, GTSE1, CENPF, CKS1B, MKI67 \n",
      "\t   NUSAP1, CKAP5, ATAD2, RPA2, SLBP, RFC2, CDC6, KIF11, TIPIN, NCAPD2 \n",
      "\t   CDC45, HMMR, ANLN, RAD51, CENPA, E2F8, HJURP, USP1, DSCC1, CHAF1B \n",
      "PC_ 5 \n",
      "Positive:  KIF20B, MSH2, UBR7, RPA2, CKAP2, MCM6, CTCF, NCAPD2, POLA1, LBR \n",
      "\t   KIF11, TMPO, CASP8AP2, SMC4, CKAP5, CKS2, NUSAP1, ATAD2, CHAF1B, RFC2 \n",
      "\t   RRM2, MKI67, SLBP, UHRF1, WDR76, PRIM1, USP1, TACC3, HMGB2, GTSE1 \n",
      "Negative:  MCM4, CCNE2, CENPE, DTL, TYMS, UBE2C, BLM, GINS2, TPX2, CLSPN \n",
      "\t   CBX5, MCM2, TOP2A, CDK1, TUBB4B, CKS1B, NASP, UNG, NEK2, CKAP2L \n",
      "\t   G2E3, NDC80, NUF2, DLGAP5, CDC6, POLD3, RAD51AP1, CDC45, RANGAP1, HMMR \n",
      "\n"
     ]
    },
    {
     "data": {
      "text/html": [
       "<strong>png:</strong> 2"
      ],
      "text/latex": [
       "\\textbf{png:} 2"
      ],
      "text/markdown": [
       "**png:** 2"
      ],
      "text/plain": [
       "png \n",
       "  2 "
      ]
     },
     "metadata": {},
     "output_type": "display_data"
    },
    {
     "name": "stderr",
     "output_type": "stream",
     "text": [
      "PC_ 1 \n",
      "Positive:  HSPG2, IGFBP7, A2M, TIMP3, EGFL7, CD34, PLVAP, SPARCL1, APP, SLCO2A1 \n",
      "\t   LDB2, GSN, COL4A2, ADGRL4, IGFBP4, ADGRF5, INSR, TIE1, NFIB, COL4A1 \n",
      "\t   CLEC14A, PODXL, ESAM, SPARC, CAVIN1, FAM167B, IGFBP5, FZD4, TM4SF18, TM4SF1 \n",
      "Negative:  CYBA, DUSP2, CD3D, CXCR4, CCL5, MZB1, CD27, DUSP1, XBP1, DERL3 \n",
      "\t   HIST1H4C, CD7, NR4A2, IRF1, CD69, BTG2, JCHAIN, IGHG4, PLPP5, RGS1 \n",
      "\t   FKBP11, IL7R, FOS, CST7, CD79A, IGLV3-1, HSPE1, SELENOK, DNAJB9, TRBC2 \n",
      "PC_ 2 \n",
      "Positive:  C1QA, C1QC, FCER1G, C1QB, LYZ, CD68, CST3, TYROBP, AIF1, IFI30 \n",
      "\t   CTSB, CFD, IGSF6, GPNMB, PLA2G7, IL18, SPI1, SLC40A1, FCGRT, CALHM6 \n",
      "\t   MS4A6A, LGMN, FTL, PLTP, MS4A7, CTSD, C2, HLA-DRA, FOLR2, SNX10 \n",
      "Negative:  MZB1, DERL3, IGHG3, IGHG4, JCHAIN, XBP1, FKBP11, IGLV3-1, CD79A, SPAG4 \n",
      "\t   RRBP1, SDF2L1, JSRP1, FCRL5, TXNDC5, PRDX4, TNFRSF17, IGKV1-16, PLPP5, SDC1 \n",
      "\t   HERPUD1, SEC11C, AC012236.1, AC104699.1, EAF2, IGHM, POU2AF1, FAM92B, ITM2C, IGHV3-7 \n",
      "PC_ 3 \n",
      "Positive:  MZB1, DERL3, PRDX4, IGHG3, JCHAIN, IGHG4, CD79A, IGLV3-1, SPAG4, JSRP1 \n",
      "\t   FCRL5, TNFRSF17, HERPUD1, SDC1, IGKV1-16, XBP1, AC104699.1, TXNDC5, LY96, AC012236.1 \n",
      "\t   POU2AF1, IGHM, FKBP11, FAM92B, RRBP1, TXNDC15, EAF2, SEC11C, HSP90B1, NPC2 \n",
      "Negative:  IL32, CCL5, CD3D, CD7, CST7, NKG7, CD69, GZMA, CXCR4, TRBC2 \n",
      "\t   ZFP36L1, CTSW, GZMK, S100A6, S100A10, NR4A2, DUSP2, HIST1H4C, CD8A, IL7R \n",
      "\t   COTL1, GNLY, PRF1, TRBC1, AHNAK, ANXA1, KLRK1, CD96, LCP2, GZMB \n",
      "PC_ 4 \n",
      "Positive:  SEZ6L2, CKB, WFDC2, GRP, FAM3B, KRT18, KRT8, AP1M2, CPE, MDK \n",
      "\t   PLPP2, KLK12, GPC5-AS1, IGFBP2, TEX45, PTN, FADS2, LRRC34, PRSS8, RASSF6 \n",
      "\t   DPYSL3, MEST, EPCAM, NUPR2, RBP1, MTX2, TUBB2B, CRYAB, ANKRD65, STMN1 \n",
      "Negative:  HLA-DRB1, PECAM1, S100A10, HLA-DPA1, HLA-DRB5, LDB2, TGFBR2, SLCO2A1, NFKBIA, EPAS1 \n",
      "\t   IER2, ROBO4, ZFP36L1, RNASE1, DUSP1, CD34, KDR, PLPP1, HLA-DPB1, SOX18 \n",
      "\t   KLF6, IL32, HLA-DRA, TM4SF18, AHNAK, PPP1R15A, CYYR1, TMEM88, VWF, CCL5 \n",
      "PC_ 5 \n",
      "Positive:  SEZ6L2, CKB, WFDC2, KRT8, TFF3, LRRC34, AP1M2, KLK12, FAM3B, KRT18 \n",
      "\t   TEX45, GPC5-AS1, PRSS8, STMN1, GRP, SOX4, PLPP2, HMGB3, HES6, KLK11 \n",
      "\t   MDK, RASSF6, CTNNAL1, NUPR2, LAPTM4B, AC127526.5, CCNB2, ID1, ST14, MTX2 \n",
      "Negative:  RGS5, PDGFRB, NOTCH3, PDGFA, GUCY1A1, MYL9, CD248, MFGE8, SLIT3, BGN \n",
      "\t   FBLIM1, PLAC9, FKBP10, AC010618.3, PPP1R14A, GPRC5C, TPM2, ACTA2, PCYOX1, INHBA \n",
      "\t   FSTL1, TGFB1I1, JAG1, TAGLN, EHD2, KANK2, ZDHHC17, LAMA5, PIP5K1B, TBC1D24 \n",
      "\n"
     ]
    },
    {
     "data": {
      "text/html": [
       "<strong>png:</strong> 2"
      ],
      "text/latex": [
       "\\textbf{png:} 2"
      ],
      "text/markdown": [
       "**png:** 2"
      ],
      "text/plain": [
       "png \n",
       "  2 "
      ]
     },
     "metadata": {},
     "output_type": "display_data"
    },
    {
     "data": {
      "text/html": [
       "<strong>png:</strong> 2"
      ],
      "text/latex": [
       "\\textbf{png:} 2"
      ],
      "text/markdown": [
       "**png:** 2"
      ],
      "text/plain": [
       "png \n",
       "  2 "
      ]
     },
     "metadata": {},
     "output_type": "display_data"
    }
   ],
   "source": [
    "## Step 1 . Read a scRNA file \n",
    "dat <- Read10X_h5(\"/data/kumarr9/scRNA/atac.scRNA.parth/SCAF2037_TMSCLC_16_filtered_feature_bc_matrix.h5\")\n",
    "\n",
    "## step 2 . creating seurat object with with desired cell and gene parameters and also name the project\n",
    "dat_seurat_obj <- CreateSeuratObject(counts = dat, min.cells = 3, min.features = 200, project = 'SCLC')\n",
    "\n",
    "## step 3 . Identifying mitochindrial contamination-- and adding it to seurat object -- use MT when human and mt when mouse\n",
    "dat_seurat_obj[[\"percent.mt\"]] <- PercentageFeatureSet(dat_seurat_obj, pattern = \"^MT-\")\n",
    "#View(dat_seurat_obj@meta.data) ## to visualize the data to see mitochondrial cells contamination\n",
    "\n",
    "## step 4. plotting the mitochondrial contamination or data distribution\n",
    "png(\"/data/kumarr9/scRNA/atac.scRNA.parth/SCAF2037/alternate_cell_cycle_regress_out/data_features.jpg\", width = 3000, height = 2000, res=300)\n",
    "VlnPlot(dat_seurat_obj, features = c(\"nFeature_RNA\", \"nCount_RNA\", \"percent.mt\"), ncol = 3, col = \"#FF7F50\")\n",
    "dev.off()\n",
    "\n",
    "## step 5. viewing data distribution before mitochondrial contamination removal\n",
    "png(\"/data/kumarr9/scRNA/atac.scRNA.parth/SCAF2037/alternate_cell_cycle_regress_out/data_distribution.jpg\", width = 3000, height = 2000, res=300)\n",
    "plot1 <- FeatureScatter(dat_seurat_obj, feature1 = \"nCount_RNA\", feature2 = \"percent.mt\") + geom_smooth(method = \"lm\")\n",
    "plot2 <- FeatureScatter(dat_seurat_obj, feature1 = \"nCount_RNA\", feature2 = \"nFeature_RNA\") + geom_smooth(method = \"lm\")\n",
    "SCAF3163_features <- plot1 + plot2\n",
    "SCAF3163_features\n",
    "dev.off()\n",
    "\n",
    "## step 6. Removing low quality cells and mitochondrial contamination\n",
    "dat_seurat_obj_filtered <- subset(dat_seurat_obj, subset = nFeature_RNA > 200 & nFeature_RNA < 2500 & percent.mt < 5)\n",
    "\n",
    "### just to see what number of cells left after feature selection \n",
    "#dat_seurat_obj\n",
    "#dat_seurat_obj_filtered\n",
    "\n",
    "## step 7. plots the results after filtering or filtered features\n",
    "png(\"/data/kumarr9/scRNA/atac.scRNA.parth/SCAF2037/alternate_cell_cycle_regress_out/data_filtered_features.jpg\", width = 3000, height = 2000, res=300)\n",
    "VlnPlot(dat_seurat_obj_filtered, features = c(\"nFeature_RNA\", \"nCount_RNA\", \"percent.mt\"), ncol = 3, col = \"#FF7F50\")\n",
    "dev.off()\n",
    "png(\"/data/kumarr9/scRNA/atac.scRNA.parth/SCAF2037/alternate_cell_cycle_regress_out/data_distribution_filtered_features.jpg\", width = 3000, height = 2000, res=300)\n",
    "plot1 <- FeatureScatter(dat_seurat_obj_filtered, feature1 = \"nCount_RNA\", feature2 = \"percent.mt\") + geom_smooth(method = \"lm\")\n",
    "plot2 <- FeatureScatter(dat_seurat_obj_filtered, feature1 = \"nCount_RNA\", feature2 = \"nFeature_RNA\") + geom_smooth(method = \"lm\")\n",
    "SCAF3163_features_filtered <- plot1 + plot2\n",
    "SCAF3163_features_filtered\n",
    "dev.off()\n",
    "#### Before any kind of scRNA, need to do the Normalization ###\n",
    "### After removing unwanted cells from the dataset, the next step is to normalize the data. I employ a global-scaling normalization method “LogNormalize” that normalizes the feature expression measurements for each cell by the total expression, multiplies this by a scale factor (10,000 by default), and log-transforms the result\n",
    "\n",
    "## step 8. Normalization of the data \n",
    "dat_seurat_obj_filtered <- NormalizeData(dat_seurat_obj_filtered)\n",
    "\n",
    "## step 9. Identifying highly variable features from the normalized data \n",
    "## We next calculate a subset of features that exhibit high cell-to-cell variation in the dataset (i.e, they are highly expressed in some cells, and lowly expressed in others). \n",
    "## focusing on these genes in downstream analysis helps to highlight biological signal in single-cell datasets.\n",
    "dat_seurat_obj_filtered <- FindVariableFeatures(dat_seurat_obj_filtered, selection.method = \"vst\")\n",
    "# Identify the 10 most highly variable genes  (change to to your desired number of genes)\n",
    "top10 <- head(VariableFeatures(dat_seurat_obj_filtered), 10)\n",
    "\n",
    "# plot variable features with and without labels\n",
    "png(\"/data/kumarr9/scRNA/atac.scRNA.parth/SCAF2037/alternate_cell_cycle_regress_out/most_variable.jpg\", width = 3000, height = 2000, res=300)\n",
    "plot1 <- VariableFeaturePlot(dat_seurat_obj_filtered)\n",
    "plot2 <- LabelPoints(plot = plot1, points = top10, repel = TRUE)\n",
    "SCAF3163_filterd_variable <- plot1 + plot2\n",
    "SCAF3163_filterd_variable\n",
    "dev.off()\n",
    "## step 10. scale the data, Regression should be done during scaling of the data \n",
    "#(Note - here, we can also, remove unwanted source of vaiation like mitochondrial cell or cell cycle etc., see vignettes for more details)\n",
    "# Shifts the expression of each gene, so that the mean expression across cells is 0\n",
    "#Scales the expression of each gene, so that the variance across cells is 1\n",
    "#This step gives equal weight in downstream analyses, so that highly-expressed genes do not dominate\n",
    "#The results of this are stored in pbmc[[\"RNA\"]]@scale.data\n",
    "#############################################\n",
    "### Parth ask to assign cell cycle score ####\n",
    "# A list of cell cycle markers, from Tirosh et al, 2015, is loaded with Seurat.  We can\n",
    "# segregate this list into markers of G2/M phase and markers of S phase\n",
    "s.genes <- cc.genes$s.genes\n",
    "g2m.genes <- cc.genes$g2m.genes\n",
    "dat_seurat_obj_filtered <- CellCycleScoring(dat_seurat_obj_filtered, s.features = s.genes, g2m.features = g2m.genes, set.ident = TRUE)\n",
    "### Regressing out cell cycle from the object ###\n",
    "dat_seurat_obj_filtered$CC.Difference <- dat_seurat_obj_filtered$S.Score - dat_seurat_obj_filtered$G2M.Score\n",
    "dat_seurat_obj_filtered <- ScaleData(dat_seurat_obj_filtered, vars.to.regress = \"CC.Difference\", features = rownames(dat_seurat_obj_filtered))\n",
    "png(\"/data/kumarr9/scRNA/atac.scRNA.parth/SCAF2037/alternate_cell_cycle_regress_out/difference_regressed_cell_cyle_SCAF2037.jpg\", width = 3000, height = 2000, res=300)\n",
    "dat_seurat_obj_filtered <- RunPCA(dat_seurat_obj_filtered, features = c(s.genes, g2m.genes))\n",
    "DimPlot(dat_seurat_obj_filtered)\n",
    "dev.off()\n",
    "\n",
    "\n",
    "## step 11. Run PCA to reduce the dimensionality\n",
    "# By default, only the previously determined variable features are used as input, but can be defined using features argument if you wish to choose a different subset, like this pbmc <- RunPCA(pbmc, features = VariableFeatures(object = pbmc))\n",
    "dat_seurat_obj_filtered <- RunPCA(object = dat_seurat_obj_filtered)\n",
    "png(\"/data/kumarr9/scRNA/atac.scRNA.parth/SCAF2037/alternate_cell_cycle_regress_out/elbow.jpg\", width = 3000, height = 2000, res=300)\n",
    "ElbowPlot(dat_seurat_obj_filtered)\n",
    "dev.off()\n",
    "# Examine and visualize PCA results a few different ways\n",
    "#print(dat_seurat_obj_filtered[[\"pca\"]], dims = 1:5, nfeatures = 5)\n",
    "png(\"/data/kumarr9/scRNA/atac.scRNA.parth/SCAF2037/alternate_cell_cycle_regress_out/PCA_plots_heterogeneity.jpg\", width = 3000, height = 2000, res=300)\n",
    "DimPlot(dat_seurat_obj_filtered, reduction = \"pca\")\n",
    "dev.off()"
   ]
  },
  {
   "cell_type": "code",
   "execution_count": 3,
   "id": "fcdff1f2",
   "metadata": {},
   "outputs": [
    {
     "name": "stderr",
     "output_type": "stream",
     "text": [
      "Computing nearest neighbor graph\n",
      "\n",
      "Computing SNN\n",
      "\n"
     ]
    },
    {
     "name": "stdout",
     "output_type": "stream",
     "text": [
      "Modularity Optimizer version 1.3.0 by Ludo Waltman and Nees Jan van Eck\n",
      "\n",
      "Number of nodes: 274\n",
      "Number of edges: 8328\n",
      "\n",
      "Running Louvain algorithm...\n",
      "Maximum modularity in 10 random starts: 0.6098\n",
      "Number of communities: 5\n",
      "Elapsed time: 0 seconds\n"
     ]
    },
    {
     "data": {
      "text/html": [
       "<table class=\"dataframe\">\n",
       "<caption>A data.frame: 274 × 11</caption>\n",
       "<thead>\n",
       "\t<tr><th></th><th scope=col>orig.ident</th><th scope=col>nCount_RNA</th><th scope=col>nFeature_RNA</th><th scope=col>percent.mt</th><th scope=col>S.Score</th><th scope=col>G2M.Score</th><th scope=col>Phase</th><th scope=col>old.ident</th><th scope=col>CC.Difference</th><th scope=col>RNA_snn_res.1</th><th scope=col>seurat_clusters</th></tr>\n",
       "\t<tr><th></th><th scope=col>&lt;fct&gt;</th><th scope=col>&lt;dbl&gt;</th><th scope=col>&lt;int&gt;</th><th scope=col>&lt;dbl&gt;</th><th scope=col>&lt;dbl&gt;</th><th scope=col>&lt;dbl&gt;</th><th scope=col>&lt;chr&gt;</th><th scope=col>&lt;fct&gt;</th><th scope=col>&lt;dbl&gt;</th><th scope=col>&lt;fct&gt;</th><th scope=col>&lt;fct&gt;</th></tr>\n",
       "</thead>\n",
       "<tbody>\n",
       "\t<tr><th scope=row>AAAGTAGAGATGTTAG-1</th><td>SCLC</td><td>  535</td><td> 395</td><td>1.8691589</td><td> 0.179150363</td><td> 0.0132207010</td><td>S  </td><td>SCLC</td><td> 0.165929662</td><td>4</td><td>4</td></tr>\n",
       "\t<tr><th scope=row>AACTGGTCATCTATGG-1</th><td>SCLC</td><td> 2917</td><td>1316</td><td>2.9139527</td><td>-0.019603080</td><td>-0.0244220213</td><td>G1 </td><td>SCLC</td><td> 0.004818942</td><td>1</td><td>1</td></tr>\n",
       "\t<tr><th scope=row>AACTTTCAGGCAATTA-1</th><td>SCLC</td><td>36253</td><td>2461</td><td>0.9378534</td><td>-0.015487703</td><td>-0.0272584179</td><td>G1 </td><td>SCLC</td><td> 0.011770715</td><td>3</td><td>3</td></tr>\n",
       "\t<tr><th scope=row>AACTTTCTCGGCATCG-1</th><td>SCLC</td><td>22511</td><td>2095</td><td>1.0039536</td><td>-0.026873945</td><td>-0.0528573274</td><td>G1 </td><td>SCLC</td><td> 0.025983383</td><td>3</td><td>3</td></tr>\n",
       "\t<tr><th scope=row>AAGCCGCCAGGGTATG-1</th><td>SCLC</td><td> 2918</td><td>1250</td><td>2.6730637</td><td>-0.011571157</td><td>-0.0404744912</td><td>G1 </td><td>SCLC</td><td> 0.028903334</td><td>0</td><td>0</td></tr>\n",
       "\t<tr><th scope=row>AATCCAGCACCCATGG-1</th><td>SCLC</td><td> 2597</td><td> 998</td><td>2.6569118</td><td> 0.014336024</td><td>-0.0537257498</td><td>S  </td><td>SCLC</td><td> 0.068061774</td><td>0</td><td>0</td></tr>\n",
       "\t<tr><th scope=row>ACACCAACATAGGATA-1</th><td>SCLC</td><td> 1081</td><td> 384</td><td>0.0000000</td><td> 0.031903041</td><td> 0.0004966466</td><td>S  </td><td>SCLC</td><td> 0.031406394</td><td>0</td><td>0</td></tr>\n",
       "\t<tr><th scope=row>ACACCAAGTCGCTTCT-1</th><td>SCLC</td><td> 1047</td><td> 419</td><td>0.0000000</td><td>-0.019167032</td><td>-0.0441618798</td><td>G1 </td><td>SCLC</td><td> 0.024994848</td><td>0</td><td>0</td></tr>\n",
       "\t<tr><th scope=row>ACACCAAGTGGTAACG-1</th><td>SCLC</td><td> 2541</td><td>1020</td><td>2.8728847</td><td> 0.007926476</td><td>-0.0160432516</td><td>S  </td><td>SCLC</td><td> 0.023969728</td><td>0</td><td>0</td></tr>\n",
       "\t<tr><th scope=row>ACACCCTAGACAATAC-1</th><td>SCLC</td><td> 1870</td><td> 922</td><td>3.6898396</td><td> 0.053810335</td><td> 0.0001728283</td><td>S  </td><td>SCLC</td><td> 0.053637507</td><td>1</td><td>1</td></tr>\n",
       "\t<tr><th scope=row>ACACCCTCAGGGTACA-1</th><td>SCLC</td><td> 4285</td><td>2099</td><td>2.6837806</td><td>-0.092509617</td><td>-0.0252578898</td><td>G1 </td><td>SCLC</td><td>-0.067251727</td><td>1</td><td>1</td></tr>\n",
       "\t<tr><th scope=row>ACACCGGAGTTATCGC-1</th><td>SCLC</td><td> 6771</td><td>2028</td><td>0.1624575</td><td>-0.057424810</td><td>-0.1265158165</td><td>G1 </td><td>SCLC</td><td> 0.069091007</td><td>1</td><td>1</td></tr>\n",
       "\t<tr><th scope=row>ACAGCCGAGGACGAAA-1</th><td>SCLC</td><td> 1690</td><td>1084</td><td>2.6035503</td><td>-0.003101421</td><td>-0.0735584177</td><td>G1 </td><td>SCLC</td><td> 0.070456997</td><td>1</td><td>1</td></tr>\n",
       "\t<tr><th scope=row>ACAGCCGCACATGACT-1</th><td>SCLC</td><td> 2354</td><td>1042</td><td>2.5488530</td><td>-0.068387767</td><td> 0.0078306200</td><td>G2M</td><td>SCLC</td><td>-0.076218387</td><td>1</td><td>1</td></tr>\n",
       "\t<tr><th scope=row>ACATCAGTCTGTGCAA-1</th><td>SCLC</td><td> 3990</td><td>1931</td><td>1.3533835</td><td> 0.090487554</td><td> 0.0504814271</td><td>S  </td><td>SCLC</td><td> 0.040006127</td><td>1</td><td>1</td></tr>\n",
       "\t<tr><th scope=row>ACCAGTACAAGCTGTT-1</th><td>SCLC</td><td> 4888</td><td>2282</td><td>2.4345336</td><td> 0.681729831</td><td> 0.1785283213</td><td>S  </td><td>SCLC</td><td> 0.503201509</td><td>1</td><td>1</td></tr>\n",
       "\t<tr><th scope=row>ACCGTAAAGCTAGGCA-1</th><td>SCLC</td><td>29071</td><td>1941</td><td>0.6398129</td><td>-0.029490786</td><td>-0.0101423501</td><td>G1 </td><td>SCLC</td><td>-0.019348436</td><td>2</td><td>2</td></tr>\n",
       "\t<tr><th scope=row>ACGAGCCAGGGCTTGA-1</th><td>SCLC</td><td> 2281</td><td> 911</td><td>4.9539676</td><td>-0.051996314</td><td> 0.0228236944</td><td>G2M</td><td>SCLC</td><td>-0.074820008</td><td>0</td><td>0</td></tr>\n",
       "\t<tr><th scope=row>ACGAGCCGTGTTTGGT-1</th><td>SCLC</td><td> 2469</td><td>1187</td><td>0.8100446</td><td>-0.100855728</td><td>-0.0185686147</td><td>G1 </td><td>SCLC</td><td>-0.082287113</td><td>0</td><td>0</td></tr>\n",
       "\t<tr><th scope=row>ACGATACTCCGCGCAA-1</th><td>SCLC</td><td>  860</td><td> 419</td><td>3.0232558</td><td>-0.034713749</td><td>-0.0499529300</td><td>G1 </td><td>SCLC</td><td> 0.015239181</td><td>0</td><td>0</td></tr>\n",
       "\t<tr><th scope=row>ACGATGTGTTAAAGTG-1</th><td>SCLC</td><td>  881</td><td> 484</td><td>0.6810443</td><td>-0.053548346</td><td> 0.0543168519</td><td>G2M</td><td>SCLC</td><td>-0.107865198</td><td>1</td><td>1</td></tr>\n",
       "\t<tr><th scope=row>ACGCCGATCACGGTTA-1</th><td>SCLC</td><td>  987</td><td> 362</td><td>0.2026342</td><td> 0.041393230</td><td>-0.0515196281</td><td>S  </td><td>SCLC</td><td> 0.092912858</td><td>4</td><td>4</td></tr>\n",
       "\t<tr><th scope=row>ACGTCAACAGCTGTAT-1</th><td>SCLC</td><td>26773</td><td>2481</td><td>0.7432861</td><td>-0.002004579</td><td>-0.0309084274</td><td>G1 </td><td>SCLC</td><td> 0.028903848</td><td>3</td><td>3</td></tr>\n",
       "\t<tr><th scope=row>ACTGAACCAGGGATTG-1</th><td>SCLC</td><td> 6979</td><td>2406</td><td>3.7971056</td><td>-0.063383875</td><td>-0.1126566260</td><td>G1 </td><td>SCLC</td><td> 0.049272751</td><td>4</td><td>4</td></tr>\n",
       "\t<tr><th scope=row>ACTGATGGTGCCTGCA-1</th><td>SCLC</td><td>34419</td><td>2006</td><td>0.4822918</td><td>-0.030483660</td><td>-0.0358392424</td><td>G1 </td><td>SCLC</td><td> 0.005355583</td><td>3</td><td>3</td></tr>\n",
       "\t<tr><th scope=row>ACTGTCCGTGTTCTTT-1</th><td>SCLC</td><td> 3034</td><td>1242</td><td>1.4831905</td><td> 0.040606137</td><td>-0.0218032005</td><td>S  </td><td>SCLC</td><td> 0.062409338</td><td>1</td><td>1</td></tr>\n",
       "\t<tr><th scope=row>ACTTGTTCAGCTTCGG-1</th><td>SCLC</td><td>38294</td><td>2144</td><td>0.3081423</td><td>-0.011891445</td><td>-0.0146184672</td><td>G1 </td><td>SCLC</td><td> 0.002727023</td><td>3</td><td>3</td></tr>\n",
       "\t<tr><th scope=row>ACTTGTTTCAGTGTTG-1</th><td>SCLC</td><td> 2520</td><td>1038</td><td>1.7460317</td><td>-0.022831707</td><td>-0.0269372525</td><td>G1 </td><td>SCLC</td><td> 0.004105546</td><td>0</td><td>0</td></tr>\n",
       "\t<tr><th scope=row>AGAATAGAGCTGATAA-1</th><td>SCLC</td><td>30578</td><td>2135</td><td>0.4120610</td><td>-0.023848283</td><td>-0.0219307105</td><td>G1 </td><td>SCLC</td><td>-0.001917572</td><td>2</td><td>2</td></tr>\n",
       "\t<tr><th scope=row>AGAATAGGTGCCTGTG-1</th><td>SCLC</td><td> 2418</td><td>1100</td><td>4.2597188</td><td> 0.014273879</td><td>-0.0068680504</td><td>S  </td><td>SCLC</td><td> 0.021141929</td><td>1</td><td>1</td></tr>\n",
       "\t<tr><th scope=row>⋮</th><td>⋮</td><td>⋮</td><td>⋮</td><td>⋮</td><td>⋮</td><td>⋮</td><td>⋮</td><td>⋮</td><td>⋮</td><td>⋮</td><td>⋮</td></tr>\n",
       "\t<tr><th scope=row>TGCGCAGTCGGCATCG-1</th><td>SCLC</td><td> 3099</td><td>1143</td><td>2.8718942</td><td> 0.0541157221</td><td> 0.013640007</td><td>S  </td><td>SCLC</td><td> 0.040475715</td><td>0</td><td>0</td></tr>\n",
       "\t<tr><th scope=row>TGCGCAGTCTGAAAGA-1</th><td>SCLC</td><td>  667</td><td> 419</td><td>0.2998501</td><td>-0.0591275496</td><td>-0.072099844</td><td>G1 </td><td>SCLC</td><td> 0.012972294</td><td>0</td><td>0</td></tr>\n",
       "\t<tr><th scope=row>TGCGGGTCAATGACCT-1</th><td>SCLC</td><td> 3723</td><td>1263</td><td>2.7128660</td><td> 0.0059943105</td><td>-0.042457760</td><td>S  </td><td>SCLC</td><td> 0.048452071</td><td>1</td><td>1</td></tr>\n",
       "\t<tr><th scope=row>TGCGTGGGTTCGTGAT-1</th><td>SCLC</td><td> 1429</td><td> 712</td><td>0.9797061</td><td>-0.0452793562</td><td> 0.005338165</td><td>G2M</td><td>SCLC</td><td>-0.050617521</td><td>0</td><td>0</td></tr>\n",
       "\t<tr><th scope=row>TGCTGCTAGAGAGCTC-1</th><td>SCLC</td><td>  704</td><td> 427</td><td>0.2840909</td><td>-0.0356296567</td><td>-0.062249741</td><td>G1 </td><td>SCLC</td><td> 0.026620084</td><td>4</td><td>4</td></tr>\n",
       "\t<tr><th scope=row>TGGCCAGGTGCTCTTC-1</th><td>SCLC</td><td>29929</td><td>1885</td><td>0.1837683</td><td>-0.0190619556</td><td>-0.013327194</td><td>G1 </td><td>SCLC</td><td>-0.005734762</td><td>3</td><td>3</td></tr>\n",
       "\t<tr><th scope=row>TGGCGCAGTAGAGCTG-1</th><td>SCLC</td><td> 2077</td><td>1073</td><td>0.9629273</td><td> 0.0555526907</td><td>-0.011007402</td><td>S  </td><td>SCLC</td><td> 0.066560093</td><td>0</td><td>0</td></tr>\n",
       "\t<tr><th scope=row>TGGGCGTAGTAATCCC-1</th><td>SCLC</td><td> 3998</td><td>1401</td><td>2.7013507</td><td> 0.0214837218</td><td> 0.068526597</td><td>G2M</td><td>SCLC</td><td>-0.047042875</td><td>1</td><td>1</td></tr>\n",
       "\t<tr><th scope=row>TGGGCGTCAACTGGCC-1</th><td>SCLC</td><td>21248</td><td>1641</td><td>0.4235693</td><td>-0.0159444017</td><td>-0.025391758</td><td>G1 </td><td>SCLC</td><td> 0.009447356</td><td>3</td><td>3</td></tr>\n",
       "\t<tr><th scope=row>TGTGGTATCTACGAGT-1</th><td>SCLC</td><td>31478</td><td>2322</td><td>0.3971027</td><td>-0.0271795537</td><td>-0.033225728</td><td>G1 </td><td>SCLC</td><td> 0.006046174</td><td>2</td><td>2</td></tr>\n",
       "\t<tr><th scope=row>TGTGTTTCAATAACGA-1</th><td>SCLC</td><td>33963</td><td>2012</td><td>0.7714277</td><td>-0.0009816546</td><td>-0.004432832</td><td>G1 </td><td>SCLC</td><td> 0.003451177</td><td>3</td><td>3</td></tr>\n",
       "\t<tr><th scope=row>TGTTCCGGTCCGACGT-1</th><td>SCLC</td><td>16991</td><td>1077</td><td>0.3413572</td><td>-0.0132361058</td><td>-0.037469302</td><td>G1 </td><td>SCLC</td><td> 0.024233197</td><td>2</td><td>2</td></tr>\n",
       "\t<tr><th scope=row>TGTTCCGGTCCTCTTG-1</th><td>SCLC</td><td>35852</td><td>1978</td><td>0.1534085</td><td>-0.0248773392</td><td>-0.035146474</td><td>G1 </td><td>SCLC</td><td> 0.010269135</td><td>3</td><td>3</td></tr>\n",
       "\t<tr><th scope=row>TTAGGACTCACGACTA-1</th><td>SCLC</td><td> 2824</td><td>1348</td><td>3.0453258</td><td> 0.0129269662</td><td> 0.016248097</td><td>G2M</td><td>SCLC</td><td>-0.003321131</td><td>1</td><td>1</td></tr>\n",
       "\t<tr><th scope=row>TTAGGCAGTCACTGGC-1</th><td>SCLC</td><td> 2325</td><td> 979</td><td>3.9139785</td><td> 0.0607991067</td><td>-0.029262516</td><td>S  </td><td>SCLC</td><td> 0.090061623</td><td>1</td><td>1</td></tr>\n",
       "\t<tr><th scope=row>TTAGTTCGTTAAGAAC-1</th><td>SCLC</td><td> 3052</td><td>1185</td><td>3.4731324</td><td> 0.0384955230</td><td> 0.014390494</td><td>S  </td><td>SCLC</td><td> 0.024105029</td><td>0</td><td>0</td></tr>\n",
       "\t<tr><th scope=row>TTATGCTGTCAACATC-1</th><td>SCLC</td><td>  737</td><td> 529</td><td>0.0000000</td><td> 0.0782988827</td><td>-0.018758769</td><td>S  </td><td>SCLC</td><td> 0.097057652</td><td>4</td><td>4</td></tr>\n",
       "\t<tr><th scope=row>TTATGCTTCGTCTGCT-1</th><td>SCLC</td><td> 1293</td><td> 643</td><td>3.4029389</td><td> 0.0120573101</td><td>-0.069348293</td><td>S  </td><td>SCLC</td><td> 0.081405603</td><td>0</td><td>0</td></tr>\n",
       "\t<tr><th scope=row>TTCCCAGAGTACTTGC-1</th><td>SCLC</td><td> 1681</td><td> 727</td><td>1.0113028</td><td> 0.0512856937</td><td>-0.028802475</td><td>S  </td><td>SCLC</td><td> 0.080088169</td><td>0</td><td>0</td></tr>\n",
       "\t<tr><th scope=row>TTCGAAGTCTTGGGTA-1</th><td>SCLC</td><td>32681</td><td>1997</td><td>0.4283835</td><td>-0.0178712047</td><td>-0.011862679</td><td>G1 </td><td>SCLC</td><td>-0.006008526</td><td>3</td><td>3</td></tr>\n",
       "\t<tr><th scope=row>TTCGGTCGTCTCCATC-1</th><td>SCLC</td><td> 2371</td><td> 887</td><td>2.8679882</td><td>-0.0503615145</td><td>-0.023890506</td><td>G1 </td><td>SCLC</td><td>-0.026471009</td><td>0</td><td>0</td></tr>\n",
       "\t<tr><th scope=row>TTCGGTCTCTGCGTAA-1</th><td>SCLC</td><td> 6755</td><td> 815</td><td>1.7172465</td><td>-0.0341665394</td><td>-0.042517839</td><td>G1 </td><td>SCLC</td><td> 0.008351299</td><td>2</td><td>2</td></tr>\n",
       "\t<tr><th scope=row>TTCTACAAGACTACAA-1</th><td>SCLC</td><td> 1855</td><td>1039</td><td>1.8328841</td><td> 0.1047412412</td><td> 0.065071174</td><td>S  </td><td>SCLC</td><td> 0.039670067</td><td>1</td><td>1</td></tr>\n",
       "\t<tr><th scope=row>TTCTTAGGTTGACGTT-1</th><td>SCLC</td><td> 4488</td><td>1580</td><td>1.2254902</td><td>-0.0652875726</td><td>-0.043289991</td><td>G1 </td><td>SCLC</td><td>-0.021997581</td><td>1</td><td>1</td></tr>\n",
       "\t<tr><th scope=row>TTGAACGAGTGTTGAA-1</th><td>SCLC</td><td> 2999</td><td> 999</td><td>1.9673224</td><td>-0.0256500814</td><td>-0.065870441</td><td>G1 </td><td>SCLC</td><td> 0.040220359</td><td>0</td><td>0</td></tr>\n",
       "\t<tr><th scope=row>TTGCGTCAGCCACGCT-1</th><td>SCLC</td><td> 1909</td><td>1218</td><td>2.6191723</td><td>-0.0813561202</td><td>-0.071702833</td><td>G1 </td><td>SCLC</td><td>-0.009653287</td><td>1</td><td>1</td></tr>\n",
       "\t<tr><th scope=row>TTTACTGTCGCCATAA-1</th><td>SCLC</td><td> 1866</td><td> 923</td><td>0.4823151</td><td> 0.2167543070</td><td>-0.054829302</td><td>S  </td><td>SCLC</td><td> 0.271583609</td><td>4</td><td>4</td></tr>\n",
       "\t<tr><th scope=row>TTTATGCAGATGTTAG-1</th><td>SCLC</td><td> 3060</td><td>1168</td><td>3.7908497</td><td>-0.0386829523</td><td> 0.048180263</td><td>G2M</td><td>SCLC</td><td>-0.086863215</td><td>1</td><td>1</td></tr>\n",
       "\t<tr><th scope=row>TTTCCTCAGGCTCATT-1</th><td>SCLC</td><td> 3735</td><td>1589</td><td>1.9009371</td><td> 0.0375245074</td><td>-0.026261166</td><td>S  </td><td>SCLC</td><td> 0.063785673</td><td>1</td><td>1</td></tr>\n",
       "\t<tr><th scope=row>TTTGTCAGTCTCTTAT-1</th><td>SCLC</td><td> 1904</td><td> 858</td><td>4.3067227</td><td>-0.0391964840</td><td> 0.028763779</td><td>G2M</td><td>SCLC</td><td>-0.067960263</td><td>0</td><td>0</td></tr>\n",
       "</tbody>\n",
       "</table>\n"
      ],
      "text/latex": [
       "A data.frame: 274 × 11\n",
       "\\begin{tabular}{r|lllllllllll}\n",
       "  & orig.ident & nCount\\_RNA & nFeature\\_RNA & percent.mt & S.Score & G2M.Score & Phase & old.ident & CC.Difference & RNA\\_snn\\_res.1 & seurat\\_clusters\\\\\n",
       "  & <fct> & <dbl> & <int> & <dbl> & <dbl> & <dbl> & <chr> & <fct> & <dbl> & <fct> & <fct>\\\\\n",
       "\\hline\n",
       "\tAAAGTAGAGATGTTAG-1 & SCLC &   535 &  395 & 1.8691589 &  0.179150363 &  0.0132207010 & S   & SCLC &  0.165929662 & 4 & 4\\\\\n",
       "\tAACTGGTCATCTATGG-1 & SCLC &  2917 & 1316 & 2.9139527 & -0.019603080 & -0.0244220213 & G1  & SCLC &  0.004818942 & 1 & 1\\\\\n",
       "\tAACTTTCAGGCAATTA-1 & SCLC & 36253 & 2461 & 0.9378534 & -0.015487703 & -0.0272584179 & G1  & SCLC &  0.011770715 & 3 & 3\\\\\n",
       "\tAACTTTCTCGGCATCG-1 & SCLC & 22511 & 2095 & 1.0039536 & -0.026873945 & -0.0528573274 & G1  & SCLC &  0.025983383 & 3 & 3\\\\\n",
       "\tAAGCCGCCAGGGTATG-1 & SCLC &  2918 & 1250 & 2.6730637 & -0.011571157 & -0.0404744912 & G1  & SCLC &  0.028903334 & 0 & 0\\\\\n",
       "\tAATCCAGCACCCATGG-1 & SCLC &  2597 &  998 & 2.6569118 &  0.014336024 & -0.0537257498 & S   & SCLC &  0.068061774 & 0 & 0\\\\\n",
       "\tACACCAACATAGGATA-1 & SCLC &  1081 &  384 & 0.0000000 &  0.031903041 &  0.0004966466 & S   & SCLC &  0.031406394 & 0 & 0\\\\\n",
       "\tACACCAAGTCGCTTCT-1 & SCLC &  1047 &  419 & 0.0000000 & -0.019167032 & -0.0441618798 & G1  & SCLC &  0.024994848 & 0 & 0\\\\\n",
       "\tACACCAAGTGGTAACG-1 & SCLC &  2541 & 1020 & 2.8728847 &  0.007926476 & -0.0160432516 & S   & SCLC &  0.023969728 & 0 & 0\\\\\n",
       "\tACACCCTAGACAATAC-1 & SCLC &  1870 &  922 & 3.6898396 &  0.053810335 &  0.0001728283 & S   & SCLC &  0.053637507 & 1 & 1\\\\\n",
       "\tACACCCTCAGGGTACA-1 & SCLC &  4285 & 2099 & 2.6837806 & -0.092509617 & -0.0252578898 & G1  & SCLC & -0.067251727 & 1 & 1\\\\\n",
       "\tACACCGGAGTTATCGC-1 & SCLC &  6771 & 2028 & 0.1624575 & -0.057424810 & -0.1265158165 & G1  & SCLC &  0.069091007 & 1 & 1\\\\\n",
       "\tACAGCCGAGGACGAAA-1 & SCLC &  1690 & 1084 & 2.6035503 & -0.003101421 & -0.0735584177 & G1  & SCLC &  0.070456997 & 1 & 1\\\\\n",
       "\tACAGCCGCACATGACT-1 & SCLC &  2354 & 1042 & 2.5488530 & -0.068387767 &  0.0078306200 & G2M & SCLC & -0.076218387 & 1 & 1\\\\\n",
       "\tACATCAGTCTGTGCAA-1 & SCLC &  3990 & 1931 & 1.3533835 &  0.090487554 &  0.0504814271 & S   & SCLC &  0.040006127 & 1 & 1\\\\\n",
       "\tACCAGTACAAGCTGTT-1 & SCLC &  4888 & 2282 & 2.4345336 &  0.681729831 &  0.1785283213 & S   & SCLC &  0.503201509 & 1 & 1\\\\\n",
       "\tACCGTAAAGCTAGGCA-1 & SCLC & 29071 & 1941 & 0.6398129 & -0.029490786 & -0.0101423501 & G1  & SCLC & -0.019348436 & 2 & 2\\\\\n",
       "\tACGAGCCAGGGCTTGA-1 & SCLC &  2281 &  911 & 4.9539676 & -0.051996314 &  0.0228236944 & G2M & SCLC & -0.074820008 & 0 & 0\\\\\n",
       "\tACGAGCCGTGTTTGGT-1 & SCLC &  2469 & 1187 & 0.8100446 & -0.100855728 & -0.0185686147 & G1  & SCLC & -0.082287113 & 0 & 0\\\\\n",
       "\tACGATACTCCGCGCAA-1 & SCLC &   860 &  419 & 3.0232558 & -0.034713749 & -0.0499529300 & G1  & SCLC &  0.015239181 & 0 & 0\\\\\n",
       "\tACGATGTGTTAAAGTG-1 & SCLC &   881 &  484 & 0.6810443 & -0.053548346 &  0.0543168519 & G2M & SCLC & -0.107865198 & 1 & 1\\\\\n",
       "\tACGCCGATCACGGTTA-1 & SCLC &   987 &  362 & 0.2026342 &  0.041393230 & -0.0515196281 & S   & SCLC &  0.092912858 & 4 & 4\\\\\n",
       "\tACGTCAACAGCTGTAT-1 & SCLC & 26773 & 2481 & 0.7432861 & -0.002004579 & -0.0309084274 & G1  & SCLC &  0.028903848 & 3 & 3\\\\\n",
       "\tACTGAACCAGGGATTG-1 & SCLC &  6979 & 2406 & 3.7971056 & -0.063383875 & -0.1126566260 & G1  & SCLC &  0.049272751 & 4 & 4\\\\\n",
       "\tACTGATGGTGCCTGCA-1 & SCLC & 34419 & 2006 & 0.4822918 & -0.030483660 & -0.0358392424 & G1  & SCLC &  0.005355583 & 3 & 3\\\\\n",
       "\tACTGTCCGTGTTCTTT-1 & SCLC &  3034 & 1242 & 1.4831905 &  0.040606137 & -0.0218032005 & S   & SCLC &  0.062409338 & 1 & 1\\\\\n",
       "\tACTTGTTCAGCTTCGG-1 & SCLC & 38294 & 2144 & 0.3081423 & -0.011891445 & -0.0146184672 & G1  & SCLC &  0.002727023 & 3 & 3\\\\\n",
       "\tACTTGTTTCAGTGTTG-1 & SCLC &  2520 & 1038 & 1.7460317 & -0.022831707 & -0.0269372525 & G1  & SCLC &  0.004105546 & 0 & 0\\\\\n",
       "\tAGAATAGAGCTGATAA-1 & SCLC & 30578 & 2135 & 0.4120610 & -0.023848283 & -0.0219307105 & G1  & SCLC & -0.001917572 & 2 & 2\\\\\n",
       "\tAGAATAGGTGCCTGTG-1 & SCLC &  2418 & 1100 & 4.2597188 &  0.014273879 & -0.0068680504 & S   & SCLC &  0.021141929 & 1 & 1\\\\\n",
       "\t⋮ & ⋮ & ⋮ & ⋮ & ⋮ & ⋮ & ⋮ & ⋮ & ⋮ & ⋮ & ⋮ & ⋮\\\\\n",
       "\tTGCGCAGTCGGCATCG-1 & SCLC &  3099 & 1143 & 2.8718942 &  0.0541157221 &  0.013640007 & S   & SCLC &  0.040475715 & 0 & 0\\\\\n",
       "\tTGCGCAGTCTGAAAGA-1 & SCLC &   667 &  419 & 0.2998501 & -0.0591275496 & -0.072099844 & G1  & SCLC &  0.012972294 & 0 & 0\\\\\n",
       "\tTGCGGGTCAATGACCT-1 & SCLC &  3723 & 1263 & 2.7128660 &  0.0059943105 & -0.042457760 & S   & SCLC &  0.048452071 & 1 & 1\\\\\n",
       "\tTGCGTGGGTTCGTGAT-1 & SCLC &  1429 &  712 & 0.9797061 & -0.0452793562 &  0.005338165 & G2M & SCLC & -0.050617521 & 0 & 0\\\\\n",
       "\tTGCTGCTAGAGAGCTC-1 & SCLC &   704 &  427 & 0.2840909 & -0.0356296567 & -0.062249741 & G1  & SCLC &  0.026620084 & 4 & 4\\\\\n",
       "\tTGGCCAGGTGCTCTTC-1 & SCLC & 29929 & 1885 & 0.1837683 & -0.0190619556 & -0.013327194 & G1  & SCLC & -0.005734762 & 3 & 3\\\\\n",
       "\tTGGCGCAGTAGAGCTG-1 & SCLC &  2077 & 1073 & 0.9629273 &  0.0555526907 & -0.011007402 & S   & SCLC &  0.066560093 & 0 & 0\\\\\n",
       "\tTGGGCGTAGTAATCCC-1 & SCLC &  3998 & 1401 & 2.7013507 &  0.0214837218 &  0.068526597 & G2M & SCLC & -0.047042875 & 1 & 1\\\\\n",
       "\tTGGGCGTCAACTGGCC-1 & SCLC & 21248 & 1641 & 0.4235693 & -0.0159444017 & -0.025391758 & G1  & SCLC &  0.009447356 & 3 & 3\\\\\n",
       "\tTGTGGTATCTACGAGT-1 & SCLC & 31478 & 2322 & 0.3971027 & -0.0271795537 & -0.033225728 & G1  & SCLC &  0.006046174 & 2 & 2\\\\\n",
       "\tTGTGTTTCAATAACGA-1 & SCLC & 33963 & 2012 & 0.7714277 & -0.0009816546 & -0.004432832 & G1  & SCLC &  0.003451177 & 3 & 3\\\\\n",
       "\tTGTTCCGGTCCGACGT-1 & SCLC & 16991 & 1077 & 0.3413572 & -0.0132361058 & -0.037469302 & G1  & SCLC &  0.024233197 & 2 & 2\\\\\n",
       "\tTGTTCCGGTCCTCTTG-1 & SCLC & 35852 & 1978 & 0.1534085 & -0.0248773392 & -0.035146474 & G1  & SCLC &  0.010269135 & 3 & 3\\\\\n",
       "\tTTAGGACTCACGACTA-1 & SCLC &  2824 & 1348 & 3.0453258 &  0.0129269662 &  0.016248097 & G2M & SCLC & -0.003321131 & 1 & 1\\\\\n",
       "\tTTAGGCAGTCACTGGC-1 & SCLC &  2325 &  979 & 3.9139785 &  0.0607991067 & -0.029262516 & S   & SCLC &  0.090061623 & 1 & 1\\\\\n",
       "\tTTAGTTCGTTAAGAAC-1 & SCLC &  3052 & 1185 & 3.4731324 &  0.0384955230 &  0.014390494 & S   & SCLC &  0.024105029 & 0 & 0\\\\\n",
       "\tTTATGCTGTCAACATC-1 & SCLC &   737 &  529 & 0.0000000 &  0.0782988827 & -0.018758769 & S   & SCLC &  0.097057652 & 4 & 4\\\\\n",
       "\tTTATGCTTCGTCTGCT-1 & SCLC &  1293 &  643 & 3.4029389 &  0.0120573101 & -0.069348293 & S   & SCLC &  0.081405603 & 0 & 0\\\\\n",
       "\tTTCCCAGAGTACTTGC-1 & SCLC &  1681 &  727 & 1.0113028 &  0.0512856937 & -0.028802475 & S   & SCLC &  0.080088169 & 0 & 0\\\\\n",
       "\tTTCGAAGTCTTGGGTA-1 & SCLC & 32681 & 1997 & 0.4283835 & -0.0178712047 & -0.011862679 & G1  & SCLC & -0.006008526 & 3 & 3\\\\\n",
       "\tTTCGGTCGTCTCCATC-1 & SCLC &  2371 &  887 & 2.8679882 & -0.0503615145 & -0.023890506 & G1  & SCLC & -0.026471009 & 0 & 0\\\\\n",
       "\tTTCGGTCTCTGCGTAA-1 & SCLC &  6755 &  815 & 1.7172465 & -0.0341665394 & -0.042517839 & G1  & SCLC &  0.008351299 & 2 & 2\\\\\n",
       "\tTTCTACAAGACTACAA-1 & SCLC &  1855 & 1039 & 1.8328841 &  0.1047412412 &  0.065071174 & S   & SCLC &  0.039670067 & 1 & 1\\\\\n",
       "\tTTCTTAGGTTGACGTT-1 & SCLC &  4488 & 1580 & 1.2254902 & -0.0652875726 & -0.043289991 & G1  & SCLC & -0.021997581 & 1 & 1\\\\\n",
       "\tTTGAACGAGTGTTGAA-1 & SCLC &  2999 &  999 & 1.9673224 & -0.0256500814 & -0.065870441 & G1  & SCLC &  0.040220359 & 0 & 0\\\\\n",
       "\tTTGCGTCAGCCACGCT-1 & SCLC &  1909 & 1218 & 2.6191723 & -0.0813561202 & -0.071702833 & G1  & SCLC & -0.009653287 & 1 & 1\\\\\n",
       "\tTTTACTGTCGCCATAA-1 & SCLC &  1866 &  923 & 0.4823151 &  0.2167543070 & -0.054829302 & S   & SCLC &  0.271583609 & 4 & 4\\\\\n",
       "\tTTTATGCAGATGTTAG-1 & SCLC &  3060 & 1168 & 3.7908497 & -0.0386829523 &  0.048180263 & G2M & SCLC & -0.086863215 & 1 & 1\\\\\n",
       "\tTTTCCTCAGGCTCATT-1 & SCLC &  3735 & 1589 & 1.9009371 &  0.0375245074 & -0.026261166 & S   & SCLC &  0.063785673 & 1 & 1\\\\\n",
       "\tTTTGTCAGTCTCTTAT-1 & SCLC &  1904 &  858 & 4.3067227 & -0.0391964840 &  0.028763779 & G2M & SCLC & -0.067960263 & 0 & 0\\\\\n",
       "\\end{tabular}\n"
      ],
      "text/markdown": [
       "\n",
       "A data.frame: 274 × 11\n",
       "\n",
       "| <!--/--> | orig.ident &lt;fct&gt; | nCount_RNA &lt;dbl&gt; | nFeature_RNA &lt;int&gt; | percent.mt &lt;dbl&gt; | S.Score &lt;dbl&gt; | G2M.Score &lt;dbl&gt; | Phase &lt;chr&gt; | old.ident &lt;fct&gt; | CC.Difference &lt;dbl&gt; | RNA_snn_res.1 &lt;fct&gt; | seurat_clusters &lt;fct&gt; |\n",
       "|---|---|---|---|---|---|---|---|---|---|---|---|\n",
       "| AAAGTAGAGATGTTAG-1 | SCLC |   535 |  395 | 1.8691589 |  0.179150363 |  0.0132207010 | S   | SCLC |  0.165929662 | 4 | 4 |\n",
       "| AACTGGTCATCTATGG-1 | SCLC |  2917 | 1316 | 2.9139527 | -0.019603080 | -0.0244220213 | G1  | SCLC |  0.004818942 | 1 | 1 |\n",
       "| AACTTTCAGGCAATTA-1 | SCLC | 36253 | 2461 | 0.9378534 | -0.015487703 | -0.0272584179 | G1  | SCLC |  0.011770715 | 3 | 3 |\n",
       "| AACTTTCTCGGCATCG-1 | SCLC | 22511 | 2095 | 1.0039536 | -0.026873945 | -0.0528573274 | G1  | SCLC |  0.025983383 | 3 | 3 |\n",
       "| AAGCCGCCAGGGTATG-1 | SCLC |  2918 | 1250 | 2.6730637 | -0.011571157 | -0.0404744912 | G1  | SCLC |  0.028903334 | 0 | 0 |\n",
       "| AATCCAGCACCCATGG-1 | SCLC |  2597 |  998 | 2.6569118 |  0.014336024 | -0.0537257498 | S   | SCLC |  0.068061774 | 0 | 0 |\n",
       "| ACACCAACATAGGATA-1 | SCLC |  1081 |  384 | 0.0000000 |  0.031903041 |  0.0004966466 | S   | SCLC |  0.031406394 | 0 | 0 |\n",
       "| ACACCAAGTCGCTTCT-1 | SCLC |  1047 |  419 | 0.0000000 | -0.019167032 | -0.0441618798 | G1  | SCLC |  0.024994848 | 0 | 0 |\n",
       "| ACACCAAGTGGTAACG-1 | SCLC |  2541 | 1020 | 2.8728847 |  0.007926476 | -0.0160432516 | S   | SCLC |  0.023969728 | 0 | 0 |\n",
       "| ACACCCTAGACAATAC-1 | SCLC |  1870 |  922 | 3.6898396 |  0.053810335 |  0.0001728283 | S   | SCLC |  0.053637507 | 1 | 1 |\n",
       "| ACACCCTCAGGGTACA-1 | SCLC |  4285 | 2099 | 2.6837806 | -0.092509617 | -0.0252578898 | G1  | SCLC | -0.067251727 | 1 | 1 |\n",
       "| ACACCGGAGTTATCGC-1 | SCLC |  6771 | 2028 | 0.1624575 | -0.057424810 | -0.1265158165 | G1  | SCLC |  0.069091007 | 1 | 1 |\n",
       "| ACAGCCGAGGACGAAA-1 | SCLC |  1690 | 1084 | 2.6035503 | -0.003101421 | -0.0735584177 | G1  | SCLC |  0.070456997 | 1 | 1 |\n",
       "| ACAGCCGCACATGACT-1 | SCLC |  2354 | 1042 | 2.5488530 | -0.068387767 |  0.0078306200 | G2M | SCLC | -0.076218387 | 1 | 1 |\n",
       "| ACATCAGTCTGTGCAA-1 | SCLC |  3990 | 1931 | 1.3533835 |  0.090487554 |  0.0504814271 | S   | SCLC |  0.040006127 | 1 | 1 |\n",
       "| ACCAGTACAAGCTGTT-1 | SCLC |  4888 | 2282 | 2.4345336 |  0.681729831 |  0.1785283213 | S   | SCLC |  0.503201509 | 1 | 1 |\n",
       "| ACCGTAAAGCTAGGCA-1 | SCLC | 29071 | 1941 | 0.6398129 | -0.029490786 | -0.0101423501 | G1  | SCLC | -0.019348436 | 2 | 2 |\n",
       "| ACGAGCCAGGGCTTGA-1 | SCLC |  2281 |  911 | 4.9539676 | -0.051996314 |  0.0228236944 | G2M | SCLC | -0.074820008 | 0 | 0 |\n",
       "| ACGAGCCGTGTTTGGT-1 | SCLC |  2469 | 1187 | 0.8100446 | -0.100855728 | -0.0185686147 | G1  | SCLC | -0.082287113 | 0 | 0 |\n",
       "| ACGATACTCCGCGCAA-1 | SCLC |   860 |  419 | 3.0232558 | -0.034713749 | -0.0499529300 | G1  | SCLC |  0.015239181 | 0 | 0 |\n",
       "| ACGATGTGTTAAAGTG-1 | SCLC |   881 |  484 | 0.6810443 | -0.053548346 |  0.0543168519 | G2M | SCLC | -0.107865198 | 1 | 1 |\n",
       "| ACGCCGATCACGGTTA-1 | SCLC |   987 |  362 | 0.2026342 |  0.041393230 | -0.0515196281 | S   | SCLC |  0.092912858 | 4 | 4 |\n",
       "| ACGTCAACAGCTGTAT-1 | SCLC | 26773 | 2481 | 0.7432861 | -0.002004579 | -0.0309084274 | G1  | SCLC |  0.028903848 | 3 | 3 |\n",
       "| ACTGAACCAGGGATTG-1 | SCLC |  6979 | 2406 | 3.7971056 | -0.063383875 | -0.1126566260 | G1  | SCLC |  0.049272751 | 4 | 4 |\n",
       "| ACTGATGGTGCCTGCA-1 | SCLC | 34419 | 2006 | 0.4822918 | -0.030483660 | -0.0358392424 | G1  | SCLC |  0.005355583 | 3 | 3 |\n",
       "| ACTGTCCGTGTTCTTT-1 | SCLC |  3034 | 1242 | 1.4831905 |  0.040606137 | -0.0218032005 | S   | SCLC |  0.062409338 | 1 | 1 |\n",
       "| ACTTGTTCAGCTTCGG-1 | SCLC | 38294 | 2144 | 0.3081423 | -0.011891445 | -0.0146184672 | G1  | SCLC |  0.002727023 | 3 | 3 |\n",
       "| ACTTGTTTCAGTGTTG-1 | SCLC |  2520 | 1038 | 1.7460317 | -0.022831707 | -0.0269372525 | G1  | SCLC |  0.004105546 | 0 | 0 |\n",
       "| AGAATAGAGCTGATAA-1 | SCLC | 30578 | 2135 | 0.4120610 | -0.023848283 | -0.0219307105 | G1  | SCLC | -0.001917572 | 2 | 2 |\n",
       "| AGAATAGGTGCCTGTG-1 | SCLC |  2418 | 1100 | 4.2597188 |  0.014273879 | -0.0068680504 | S   | SCLC |  0.021141929 | 1 | 1 |\n",
       "| ⋮ | ⋮ | ⋮ | ⋮ | ⋮ | ⋮ | ⋮ | ⋮ | ⋮ | ⋮ | ⋮ | ⋮ |\n",
       "| TGCGCAGTCGGCATCG-1 | SCLC |  3099 | 1143 | 2.8718942 |  0.0541157221 |  0.013640007 | S   | SCLC |  0.040475715 | 0 | 0 |\n",
       "| TGCGCAGTCTGAAAGA-1 | SCLC |   667 |  419 | 0.2998501 | -0.0591275496 | -0.072099844 | G1  | SCLC |  0.012972294 | 0 | 0 |\n",
       "| TGCGGGTCAATGACCT-1 | SCLC |  3723 | 1263 | 2.7128660 |  0.0059943105 | -0.042457760 | S   | SCLC |  0.048452071 | 1 | 1 |\n",
       "| TGCGTGGGTTCGTGAT-1 | SCLC |  1429 |  712 | 0.9797061 | -0.0452793562 |  0.005338165 | G2M | SCLC | -0.050617521 | 0 | 0 |\n",
       "| TGCTGCTAGAGAGCTC-1 | SCLC |   704 |  427 | 0.2840909 | -0.0356296567 | -0.062249741 | G1  | SCLC |  0.026620084 | 4 | 4 |\n",
       "| TGGCCAGGTGCTCTTC-1 | SCLC | 29929 | 1885 | 0.1837683 | -0.0190619556 | -0.013327194 | G1  | SCLC | -0.005734762 | 3 | 3 |\n",
       "| TGGCGCAGTAGAGCTG-1 | SCLC |  2077 | 1073 | 0.9629273 |  0.0555526907 | -0.011007402 | S   | SCLC |  0.066560093 | 0 | 0 |\n",
       "| TGGGCGTAGTAATCCC-1 | SCLC |  3998 | 1401 | 2.7013507 |  0.0214837218 |  0.068526597 | G2M | SCLC | -0.047042875 | 1 | 1 |\n",
       "| TGGGCGTCAACTGGCC-1 | SCLC | 21248 | 1641 | 0.4235693 | -0.0159444017 | -0.025391758 | G1  | SCLC |  0.009447356 | 3 | 3 |\n",
       "| TGTGGTATCTACGAGT-1 | SCLC | 31478 | 2322 | 0.3971027 | -0.0271795537 | -0.033225728 | G1  | SCLC |  0.006046174 | 2 | 2 |\n",
       "| TGTGTTTCAATAACGA-1 | SCLC | 33963 | 2012 | 0.7714277 | -0.0009816546 | -0.004432832 | G1  | SCLC |  0.003451177 | 3 | 3 |\n",
       "| TGTTCCGGTCCGACGT-1 | SCLC | 16991 | 1077 | 0.3413572 | -0.0132361058 | -0.037469302 | G1  | SCLC |  0.024233197 | 2 | 2 |\n",
       "| TGTTCCGGTCCTCTTG-1 | SCLC | 35852 | 1978 | 0.1534085 | -0.0248773392 | -0.035146474 | G1  | SCLC |  0.010269135 | 3 | 3 |\n",
       "| TTAGGACTCACGACTA-1 | SCLC |  2824 | 1348 | 3.0453258 |  0.0129269662 |  0.016248097 | G2M | SCLC | -0.003321131 | 1 | 1 |\n",
       "| TTAGGCAGTCACTGGC-1 | SCLC |  2325 |  979 | 3.9139785 |  0.0607991067 | -0.029262516 | S   | SCLC |  0.090061623 | 1 | 1 |\n",
       "| TTAGTTCGTTAAGAAC-1 | SCLC |  3052 | 1185 | 3.4731324 |  0.0384955230 |  0.014390494 | S   | SCLC |  0.024105029 | 0 | 0 |\n",
       "| TTATGCTGTCAACATC-1 | SCLC |   737 |  529 | 0.0000000 |  0.0782988827 | -0.018758769 | S   | SCLC |  0.097057652 | 4 | 4 |\n",
       "| TTATGCTTCGTCTGCT-1 | SCLC |  1293 |  643 | 3.4029389 |  0.0120573101 | -0.069348293 | S   | SCLC |  0.081405603 | 0 | 0 |\n",
       "| TTCCCAGAGTACTTGC-1 | SCLC |  1681 |  727 | 1.0113028 |  0.0512856937 | -0.028802475 | S   | SCLC |  0.080088169 | 0 | 0 |\n",
       "| TTCGAAGTCTTGGGTA-1 | SCLC | 32681 | 1997 | 0.4283835 | -0.0178712047 | -0.011862679 | G1  | SCLC | -0.006008526 | 3 | 3 |\n",
       "| TTCGGTCGTCTCCATC-1 | SCLC |  2371 |  887 | 2.8679882 | -0.0503615145 | -0.023890506 | G1  | SCLC | -0.026471009 | 0 | 0 |\n",
       "| TTCGGTCTCTGCGTAA-1 | SCLC |  6755 |  815 | 1.7172465 | -0.0341665394 | -0.042517839 | G1  | SCLC |  0.008351299 | 2 | 2 |\n",
       "| TTCTACAAGACTACAA-1 | SCLC |  1855 | 1039 | 1.8328841 |  0.1047412412 |  0.065071174 | S   | SCLC |  0.039670067 | 1 | 1 |\n",
       "| TTCTTAGGTTGACGTT-1 | SCLC |  4488 | 1580 | 1.2254902 | -0.0652875726 | -0.043289991 | G1  | SCLC | -0.021997581 | 1 | 1 |\n",
       "| TTGAACGAGTGTTGAA-1 | SCLC |  2999 |  999 | 1.9673224 | -0.0256500814 | -0.065870441 | G1  | SCLC |  0.040220359 | 0 | 0 |\n",
       "| TTGCGTCAGCCACGCT-1 | SCLC |  1909 | 1218 | 2.6191723 | -0.0813561202 | -0.071702833 | G1  | SCLC | -0.009653287 | 1 | 1 |\n",
       "| TTTACTGTCGCCATAA-1 | SCLC |  1866 |  923 | 0.4823151 |  0.2167543070 | -0.054829302 | S   | SCLC |  0.271583609 | 4 | 4 |\n",
       "| TTTATGCAGATGTTAG-1 | SCLC |  3060 | 1168 | 3.7908497 | -0.0386829523 |  0.048180263 | G2M | SCLC | -0.086863215 | 1 | 1 |\n",
       "| TTTCCTCAGGCTCATT-1 | SCLC |  3735 | 1589 | 1.9009371 |  0.0375245074 | -0.026261166 | S   | SCLC |  0.063785673 | 1 | 1 |\n",
       "| TTTGTCAGTCTCTTAT-1 | SCLC |  1904 |  858 | 4.3067227 | -0.0391964840 |  0.028763779 | G2M | SCLC | -0.067960263 | 0 | 0 |\n",
       "\n"
      ],
      "text/plain": [
       "                   orig.ident nCount_RNA nFeature_RNA percent.mt S.Score      \n",
       "AAAGTAGAGATGTTAG-1 SCLC         535       395         1.8691589   0.179150363 \n",
       "AACTGGTCATCTATGG-1 SCLC        2917      1316         2.9139527  -0.019603080 \n",
       "AACTTTCAGGCAATTA-1 SCLC       36253      2461         0.9378534  -0.015487703 \n",
       "AACTTTCTCGGCATCG-1 SCLC       22511      2095         1.0039536  -0.026873945 \n",
       "AAGCCGCCAGGGTATG-1 SCLC        2918      1250         2.6730637  -0.011571157 \n",
       "AATCCAGCACCCATGG-1 SCLC        2597       998         2.6569118   0.014336024 \n",
       "ACACCAACATAGGATA-1 SCLC        1081       384         0.0000000   0.031903041 \n",
       "ACACCAAGTCGCTTCT-1 SCLC        1047       419         0.0000000  -0.019167032 \n",
       "ACACCAAGTGGTAACG-1 SCLC        2541      1020         2.8728847   0.007926476 \n",
       "ACACCCTAGACAATAC-1 SCLC        1870       922         3.6898396   0.053810335 \n",
       "ACACCCTCAGGGTACA-1 SCLC        4285      2099         2.6837806  -0.092509617 \n",
       "ACACCGGAGTTATCGC-1 SCLC        6771      2028         0.1624575  -0.057424810 \n",
       "ACAGCCGAGGACGAAA-1 SCLC        1690      1084         2.6035503  -0.003101421 \n",
       "ACAGCCGCACATGACT-1 SCLC        2354      1042         2.5488530  -0.068387767 \n",
       "ACATCAGTCTGTGCAA-1 SCLC        3990      1931         1.3533835   0.090487554 \n",
       "ACCAGTACAAGCTGTT-1 SCLC        4888      2282         2.4345336   0.681729831 \n",
       "ACCGTAAAGCTAGGCA-1 SCLC       29071      1941         0.6398129  -0.029490786 \n",
       "ACGAGCCAGGGCTTGA-1 SCLC        2281       911         4.9539676  -0.051996314 \n",
       "ACGAGCCGTGTTTGGT-1 SCLC        2469      1187         0.8100446  -0.100855728 \n",
       "ACGATACTCCGCGCAA-1 SCLC         860       419         3.0232558  -0.034713749 \n",
       "ACGATGTGTTAAAGTG-1 SCLC         881       484         0.6810443  -0.053548346 \n",
       "ACGCCGATCACGGTTA-1 SCLC         987       362         0.2026342   0.041393230 \n",
       "ACGTCAACAGCTGTAT-1 SCLC       26773      2481         0.7432861  -0.002004579 \n",
       "ACTGAACCAGGGATTG-1 SCLC        6979      2406         3.7971056  -0.063383875 \n",
       "ACTGATGGTGCCTGCA-1 SCLC       34419      2006         0.4822918  -0.030483660 \n",
       "ACTGTCCGTGTTCTTT-1 SCLC        3034      1242         1.4831905   0.040606137 \n",
       "ACTTGTTCAGCTTCGG-1 SCLC       38294      2144         0.3081423  -0.011891445 \n",
       "ACTTGTTTCAGTGTTG-1 SCLC        2520      1038         1.7460317  -0.022831707 \n",
       "AGAATAGAGCTGATAA-1 SCLC       30578      2135         0.4120610  -0.023848283 \n",
       "AGAATAGGTGCCTGTG-1 SCLC        2418      1100         4.2597188   0.014273879 \n",
       "⋮                  ⋮          ⋮          ⋮            ⋮          ⋮            \n",
       "TGCGCAGTCGGCATCG-1 SCLC        3099      1143         2.8718942   0.0541157221\n",
       "TGCGCAGTCTGAAAGA-1 SCLC         667       419         0.2998501  -0.0591275496\n",
       "TGCGGGTCAATGACCT-1 SCLC        3723      1263         2.7128660   0.0059943105\n",
       "TGCGTGGGTTCGTGAT-1 SCLC        1429       712         0.9797061  -0.0452793562\n",
       "TGCTGCTAGAGAGCTC-1 SCLC         704       427         0.2840909  -0.0356296567\n",
       "TGGCCAGGTGCTCTTC-1 SCLC       29929      1885         0.1837683  -0.0190619556\n",
       "TGGCGCAGTAGAGCTG-1 SCLC        2077      1073         0.9629273   0.0555526907\n",
       "TGGGCGTAGTAATCCC-1 SCLC        3998      1401         2.7013507   0.0214837218\n",
       "TGGGCGTCAACTGGCC-1 SCLC       21248      1641         0.4235693  -0.0159444017\n",
       "TGTGGTATCTACGAGT-1 SCLC       31478      2322         0.3971027  -0.0271795537\n",
       "TGTGTTTCAATAACGA-1 SCLC       33963      2012         0.7714277  -0.0009816546\n",
       "TGTTCCGGTCCGACGT-1 SCLC       16991      1077         0.3413572  -0.0132361058\n",
       "TGTTCCGGTCCTCTTG-1 SCLC       35852      1978         0.1534085  -0.0248773392\n",
       "TTAGGACTCACGACTA-1 SCLC        2824      1348         3.0453258   0.0129269662\n",
       "TTAGGCAGTCACTGGC-1 SCLC        2325       979         3.9139785   0.0607991067\n",
       "TTAGTTCGTTAAGAAC-1 SCLC        3052      1185         3.4731324   0.0384955230\n",
       "TTATGCTGTCAACATC-1 SCLC         737       529         0.0000000   0.0782988827\n",
       "TTATGCTTCGTCTGCT-1 SCLC        1293       643         3.4029389   0.0120573101\n",
       "TTCCCAGAGTACTTGC-1 SCLC        1681       727         1.0113028   0.0512856937\n",
       "TTCGAAGTCTTGGGTA-1 SCLC       32681      1997         0.4283835  -0.0178712047\n",
       "TTCGGTCGTCTCCATC-1 SCLC        2371       887         2.8679882  -0.0503615145\n",
       "TTCGGTCTCTGCGTAA-1 SCLC        6755       815         1.7172465  -0.0341665394\n",
       "TTCTACAAGACTACAA-1 SCLC        1855      1039         1.8328841   0.1047412412\n",
       "TTCTTAGGTTGACGTT-1 SCLC        4488      1580         1.2254902  -0.0652875726\n",
       "TTGAACGAGTGTTGAA-1 SCLC        2999       999         1.9673224  -0.0256500814\n",
       "TTGCGTCAGCCACGCT-1 SCLC        1909      1218         2.6191723  -0.0813561202\n",
       "TTTACTGTCGCCATAA-1 SCLC        1866       923         0.4823151   0.2167543070\n",
       "TTTATGCAGATGTTAG-1 SCLC        3060      1168         3.7908497  -0.0386829523\n",
       "TTTCCTCAGGCTCATT-1 SCLC        3735      1589         1.9009371   0.0375245074\n",
       "TTTGTCAGTCTCTTAT-1 SCLC        1904       858         4.3067227  -0.0391964840\n",
       "                   G2M.Score     Phase old.ident CC.Difference RNA_snn_res.1\n",
       "AAAGTAGAGATGTTAG-1  0.0132207010 S     SCLC       0.165929662  4            \n",
       "AACTGGTCATCTATGG-1 -0.0244220213 G1    SCLC       0.004818942  1            \n",
       "AACTTTCAGGCAATTA-1 -0.0272584179 G1    SCLC       0.011770715  3            \n",
       "AACTTTCTCGGCATCG-1 -0.0528573274 G1    SCLC       0.025983383  3            \n",
       "AAGCCGCCAGGGTATG-1 -0.0404744912 G1    SCLC       0.028903334  0            \n",
       "AATCCAGCACCCATGG-1 -0.0537257498 S     SCLC       0.068061774  0            \n",
       "ACACCAACATAGGATA-1  0.0004966466 S     SCLC       0.031406394  0            \n",
       "ACACCAAGTCGCTTCT-1 -0.0441618798 G1    SCLC       0.024994848  0            \n",
       "ACACCAAGTGGTAACG-1 -0.0160432516 S     SCLC       0.023969728  0            \n",
       "ACACCCTAGACAATAC-1  0.0001728283 S     SCLC       0.053637507  1            \n",
       "ACACCCTCAGGGTACA-1 -0.0252578898 G1    SCLC      -0.067251727  1            \n",
       "ACACCGGAGTTATCGC-1 -0.1265158165 G1    SCLC       0.069091007  1            \n",
       "ACAGCCGAGGACGAAA-1 -0.0735584177 G1    SCLC       0.070456997  1            \n",
       "ACAGCCGCACATGACT-1  0.0078306200 G2M   SCLC      -0.076218387  1            \n",
       "ACATCAGTCTGTGCAA-1  0.0504814271 S     SCLC       0.040006127  1            \n",
       "ACCAGTACAAGCTGTT-1  0.1785283213 S     SCLC       0.503201509  1            \n",
       "ACCGTAAAGCTAGGCA-1 -0.0101423501 G1    SCLC      -0.019348436  2            \n",
       "ACGAGCCAGGGCTTGA-1  0.0228236944 G2M   SCLC      -0.074820008  0            \n",
       "ACGAGCCGTGTTTGGT-1 -0.0185686147 G1    SCLC      -0.082287113  0            \n",
       "ACGATACTCCGCGCAA-1 -0.0499529300 G1    SCLC       0.015239181  0            \n",
       "ACGATGTGTTAAAGTG-1  0.0543168519 G2M   SCLC      -0.107865198  1            \n",
       "ACGCCGATCACGGTTA-1 -0.0515196281 S     SCLC       0.092912858  4            \n",
       "ACGTCAACAGCTGTAT-1 -0.0309084274 G1    SCLC       0.028903848  3            \n",
       "ACTGAACCAGGGATTG-1 -0.1126566260 G1    SCLC       0.049272751  4            \n",
       "ACTGATGGTGCCTGCA-1 -0.0358392424 G1    SCLC       0.005355583  3            \n",
       "ACTGTCCGTGTTCTTT-1 -0.0218032005 S     SCLC       0.062409338  1            \n",
       "ACTTGTTCAGCTTCGG-1 -0.0146184672 G1    SCLC       0.002727023  3            \n",
       "ACTTGTTTCAGTGTTG-1 -0.0269372525 G1    SCLC       0.004105546  0            \n",
       "AGAATAGAGCTGATAA-1 -0.0219307105 G1    SCLC      -0.001917572  2            \n",
       "AGAATAGGTGCCTGTG-1 -0.0068680504 S     SCLC       0.021141929  1            \n",
       "⋮                  ⋮             ⋮     ⋮         ⋮             ⋮            \n",
       "TGCGCAGTCGGCATCG-1  0.013640007  S     SCLC       0.040475715  0            \n",
       "TGCGCAGTCTGAAAGA-1 -0.072099844  G1    SCLC       0.012972294  0            \n",
       "TGCGGGTCAATGACCT-1 -0.042457760  S     SCLC       0.048452071  1            \n",
       "TGCGTGGGTTCGTGAT-1  0.005338165  G2M   SCLC      -0.050617521  0            \n",
       "TGCTGCTAGAGAGCTC-1 -0.062249741  G1    SCLC       0.026620084  4            \n",
       "TGGCCAGGTGCTCTTC-1 -0.013327194  G1    SCLC      -0.005734762  3            \n",
       "TGGCGCAGTAGAGCTG-1 -0.011007402  S     SCLC       0.066560093  0            \n",
       "TGGGCGTAGTAATCCC-1  0.068526597  G2M   SCLC      -0.047042875  1            \n",
       "TGGGCGTCAACTGGCC-1 -0.025391758  G1    SCLC       0.009447356  3            \n",
       "TGTGGTATCTACGAGT-1 -0.033225728  G1    SCLC       0.006046174  2            \n",
       "TGTGTTTCAATAACGA-1 -0.004432832  G1    SCLC       0.003451177  3            \n",
       "TGTTCCGGTCCGACGT-1 -0.037469302  G1    SCLC       0.024233197  2            \n",
       "TGTTCCGGTCCTCTTG-1 -0.035146474  G1    SCLC       0.010269135  3            \n",
       "TTAGGACTCACGACTA-1  0.016248097  G2M   SCLC      -0.003321131  1            \n",
       "TTAGGCAGTCACTGGC-1 -0.029262516  S     SCLC       0.090061623  1            \n",
       "TTAGTTCGTTAAGAAC-1  0.014390494  S     SCLC       0.024105029  0            \n",
       "TTATGCTGTCAACATC-1 -0.018758769  S     SCLC       0.097057652  4            \n",
       "TTATGCTTCGTCTGCT-1 -0.069348293  S     SCLC       0.081405603  0            \n",
       "TTCCCAGAGTACTTGC-1 -0.028802475  S     SCLC       0.080088169  0            \n",
       "TTCGAAGTCTTGGGTA-1 -0.011862679  G1    SCLC      -0.006008526  3            \n",
       "TTCGGTCGTCTCCATC-1 -0.023890506  G1    SCLC      -0.026471009  0            \n",
       "TTCGGTCTCTGCGTAA-1 -0.042517839  G1    SCLC       0.008351299  2            \n",
       "TTCTACAAGACTACAA-1  0.065071174  S     SCLC       0.039670067  1            \n",
       "TTCTTAGGTTGACGTT-1 -0.043289991  G1    SCLC      -0.021997581  1            \n",
       "TTGAACGAGTGTTGAA-1 -0.065870441  G1    SCLC       0.040220359  0            \n",
       "TTGCGTCAGCCACGCT-1 -0.071702833  G1    SCLC      -0.009653287  1            \n",
       "TTTACTGTCGCCATAA-1 -0.054829302  S     SCLC       0.271583609  4            \n",
       "TTTATGCAGATGTTAG-1  0.048180263  G2M   SCLC      -0.086863215  1            \n",
       "TTTCCTCAGGCTCATT-1 -0.026261166  S     SCLC       0.063785673  1            \n",
       "TTTGTCAGTCTCTTAT-1  0.028763779  G2M   SCLC      -0.067960263  0            \n",
       "                   seurat_clusters\n",
       "AAAGTAGAGATGTTAG-1 4              \n",
       "AACTGGTCATCTATGG-1 1              \n",
       "AACTTTCAGGCAATTA-1 3              \n",
       "AACTTTCTCGGCATCG-1 3              \n",
       "AAGCCGCCAGGGTATG-1 0              \n",
       "AATCCAGCACCCATGG-1 0              \n",
       "ACACCAACATAGGATA-1 0              \n",
       "ACACCAAGTCGCTTCT-1 0              \n",
       "ACACCAAGTGGTAACG-1 0              \n",
       "ACACCCTAGACAATAC-1 1              \n",
       "ACACCCTCAGGGTACA-1 1              \n",
       "ACACCGGAGTTATCGC-1 1              \n",
       "ACAGCCGAGGACGAAA-1 1              \n",
       "ACAGCCGCACATGACT-1 1              \n",
       "ACATCAGTCTGTGCAA-1 1              \n",
       "ACCAGTACAAGCTGTT-1 1              \n",
       "ACCGTAAAGCTAGGCA-1 2              \n",
       "ACGAGCCAGGGCTTGA-1 0              \n",
       "ACGAGCCGTGTTTGGT-1 0              \n",
       "ACGATACTCCGCGCAA-1 0              \n",
       "ACGATGTGTTAAAGTG-1 1              \n",
       "ACGCCGATCACGGTTA-1 4              \n",
       "ACGTCAACAGCTGTAT-1 3              \n",
       "ACTGAACCAGGGATTG-1 4              \n",
       "ACTGATGGTGCCTGCA-1 3              \n",
       "ACTGTCCGTGTTCTTT-1 1              \n",
       "ACTTGTTCAGCTTCGG-1 3              \n",
       "ACTTGTTTCAGTGTTG-1 0              \n",
       "AGAATAGAGCTGATAA-1 2              \n",
       "AGAATAGGTGCCTGTG-1 1              \n",
       "⋮                  ⋮              \n",
       "TGCGCAGTCGGCATCG-1 0              \n",
       "TGCGCAGTCTGAAAGA-1 0              \n",
       "TGCGGGTCAATGACCT-1 1              \n",
       "TGCGTGGGTTCGTGAT-1 0              \n",
       "TGCTGCTAGAGAGCTC-1 4              \n",
       "TGGCCAGGTGCTCTTC-1 3              \n",
       "TGGCGCAGTAGAGCTG-1 0              \n",
       "TGGGCGTAGTAATCCC-1 1              \n",
       "TGGGCGTCAACTGGCC-1 3              \n",
       "TGTGGTATCTACGAGT-1 2              \n",
       "TGTGTTTCAATAACGA-1 3              \n",
       "TGTTCCGGTCCGACGT-1 2              \n",
       "TGTTCCGGTCCTCTTG-1 3              \n",
       "TTAGGACTCACGACTA-1 1              \n",
       "TTAGGCAGTCACTGGC-1 1              \n",
       "TTAGTTCGTTAAGAAC-1 0              \n",
       "TTATGCTGTCAACATC-1 4              \n",
       "TTATGCTTCGTCTGCT-1 0              \n",
       "TTCCCAGAGTACTTGC-1 0              \n",
       "TTCGAAGTCTTGGGTA-1 3              \n",
       "TTCGGTCGTCTCCATC-1 0              \n",
       "TTCGGTCTCTGCGTAA-1 2              \n",
       "TTCTACAAGACTACAA-1 1              \n",
       "TTCTTAGGTTGACGTT-1 1              \n",
       "TTGAACGAGTGTTGAA-1 0              \n",
       "TTGCGTCAGCCACGCT-1 1              \n",
       "TTTACTGTCGCCATAA-1 4              \n",
       "TTTATGCAGATGTTAG-1 1              \n",
       "TTTCCTCAGGCTCATT-1 1              \n",
       "TTTGTCAGTCTCTTAT-1 0              "
      ]
     },
     "metadata": {},
     "output_type": "display_data"
    },
    {
     "name": "stderr",
     "output_type": "stream",
     "text": [
      "Warning message:\n",
      "“The default method for RunUMAP has changed from calling Python UMAP via reticulate to the R-native UWOT using the cosine metric\n",
      "To use Python UMAP via reticulate, set umap.method to 'umap-learn' and metric to 'correlation'\n",
      "This message will be shown once per session”\n",
      "18:49:30 UMAP embedding parameters a = 0.9922 b = 1.112\n",
      "\n",
      "Found more than one class \"dist\" in cache; using the first, from namespace 'BiocGenerics'\n",
      "\n",
      "Also defined by ‘spam’\n",
      "\n",
      "18:49:30 Read 274 rows and found 20 numeric columns\n",
      "\n",
      "18:49:30 Using Annoy for neighbor search, n_neighbors = 30\n",
      "\n",
      "Found more than one class \"dist\" in cache; using the first, from namespace 'BiocGenerics'\n",
      "\n",
      "Also defined by ‘spam’\n",
      "\n",
      "18:49:30 Building Annoy index with metric = cosine, n_trees = 50\n",
      "\n",
      "0%   10   20   30   40   50   60   70   80   90   100%\n",
      "\n",
      "[----|----|----|----|----|----|----|----|----|----|\n",
      "\n",
      "*\n",
      "*\n",
      "*\n",
      "*\n",
      "*\n",
      "*\n",
      "*\n",
      "*\n",
      "*\n",
      "*\n",
      "*\n",
      "*\n",
      "*\n",
      "*\n",
      "*\n",
      "*\n",
      "*\n",
      "*\n",
      "*\n",
      "*\n",
      "*\n",
      "*\n",
      "*\n",
      "*\n",
      "*\n",
      "*\n",
      "*\n",
      "*\n",
      "*\n",
      "*\n",
      "*\n",
      "*\n",
      "*\n",
      "*\n",
      "*\n",
      "*\n",
      "*\n",
      "*\n",
      "*\n",
      "*\n",
      "*\n",
      "*\n",
      "*\n",
      "*\n",
      "*\n",
      "*\n",
      "*\n",
      "*\n",
      "*\n",
      "*\n",
      "|\n",
      "\n",
      "18:49:30 Writing NN index file to temp file /lscratch/7430003/RtmpuKTiaW/file3a70b01b09eb75\n",
      "\n",
      "18:49:30 Searching Annoy index using 1 thread, search_k = 3000\n",
      "\n",
      "18:49:30 Annoy recall = 100%\n",
      "\n",
      "18:49:31 Commencing smooth kNN distance calibration using 1 thread\n",
      " with target n_neighbors = 30\n",
      "\n",
      "18:49:32 Initializing from normalized Laplacian + noise (using RSpectra)\n",
      "\n",
      "18:49:32 Commencing optimization for 500 epochs, with 10318 positive edges\n",
      "\n",
      "18:49:33 Optimization finished\n",
      "\n"
     ]
    },
    {
     "data": {
      "text/html": [
       "<strong>png:</strong> 2"
      ],
      "text/latex": [
       "\\textbf{png:} 2"
      ],
      "text/markdown": [
       "**png:** 2"
      ],
      "text/plain": [
       "png \n",
       "  2 "
      ]
     },
     "metadata": {},
     "output_type": "display_data"
    },
    {
     "data": {
      "image/png": "[encoded data removed]",
      "text/plain": [
       "plot without title"
      ]
     },
     "metadata": {
      "image/png": {
       "height": 420,
       "width": 420
      }
     },
     "output_type": "display_data"
    }
   ],
   "source": [
    "## step 12. clusters the cells \n",
    "# Now using the elbow method we determine the neighbours, make the clusters of neighbour and then ran the UMAP to plot the same\n",
    "dat_seurat_obj_filtered <- FindNeighbors(dat_seurat_obj_filtered, dims = 1:20) ## can change dims according to your needs\n",
    "dat_seurat_obj_filtered <- FindClusters(dat_seurat_obj_filtered, resolution = 1) ### here resolution (resolution = 0.5 or so) or like this wasy (resoultion=c(0.1, 0.3, 0.5, 0.7, 1)) can be added to see at what resolution your data fits ( resolution here means, how many clusters you want to see in your data, lower the number lower cluster anf higher the number higher clusters)\n",
    "View(dat_seurat_obj_filtered@meta.data)\n",
    "DimPlot(dat_seurat_obj_filtered, group.by=\"RNA_snn_res.1\", label=TRUE)\n",
    "# DimPlot(dat_seurat_obj_filtered, group.by=\"RNA_snn_res.0.9\", label=TRUE)\n",
    "# DimPlot(dat_seurat_obj_filtered, group.by=\"RNA_snn_res.0.7\", label=TRUE)\n",
    "# DimPlot(dat_seurat_obj_filtered, group.by=\"RNA_snn_res.0.5\", label=TRUE)\n",
    "# optional step (to set the granularity of the data, i mean the number of clusters to be shown in UMAP)\n",
    "## seeing or setting identity of clusters  \n",
    "## Idents function store the identity of cluster\n",
    "#head(Idents(dat_seurat_obj_filtered), 5) \n",
    "#Idents(dat_seurat_obj_filtered)\n",
    "# when want to set the identity \n",
    "#Idents(dat_seurat_obj_filtered) <- SCLC_snn_res_0.3 ## this will set the resolution at 0.3 and make the only number of clusters which are in 0.3 resolution\n",
    "\n",
    "## choosing best cluster using Dimplot, as above\n",
    "Idents(dat_seurat_obj_filtered) <- \"RNA_snn_res.1\" ## setting increased resolution of cluster \n",
    "dat_seurat_obj_filtered <- RunUMAP(dat_seurat_obj_filtered, dims = 1:20)\n",
    "png(\"/data/kumarr9/scRNA/atac.scRNA.parth/SCAF2037/alternate_cell_cycle_regress_out/UMAP.jpg\", width = 3000, height = 2000, res=300)\n",
    "DimPlot(dat_seurat_obj_filtered, reduction = \"umap\", label = TRUE)\n",
    "dev.off()"
   ]
  },
  {
   "cell_type": "code",
   "execution_count": 4,
   "id": "17a37449",
   "metadata": {},
   "outputs": [
    {
     "data": {
      "text/html": [
       "<strong>png:</strong> 2"
      ],
      "text/latex": [
       "\\textbf{png:} 2"
      ],
      "text/markdown": [
       "**png:** 2"
      ],
      "text/plain": [
       "png \n",
       "  2 "
      ]
     },
     "metadata": {},
     "output_type": "display_data"
    },
    {
     "data": {
      "text/html": [
       "<strong>png:</strong> 2"
      ],
      "text/latex": [
       "\\textbf{png:} 2"
      ],
      "text/markdown": [
       "**png:** 2"
      ],
      "text/plain": [
       "png \n",
       "  2 "
      ]
     },
     "metadata": {},
     "output_type": "display_data"
    },
    {
     "name": "stderr",
     "output_type": "stream",
     "text": [
      "Loading required package: fields\n",
      "\n",
      "Loading required package: spam\n",
      "\n",
      "Spam version 2.9-1 (2022-08-07) is loaded.\n",
      "Type 'help( Spam)' or 'demo( spam)' for a short introduction \n",
      "and overview of this package.\n",
      "Help for individual functions is also obtained by adding the\n",
      "suffix '.spam' to the function name, e.g. 'help( chol.spam)'.\n",
      "\n",
      "\n",
      "Attaching package: ‘spam’\n",
      "\n",
      "\n",
      "The following objects are masked from ‘package:base’:\n",
      "\n",
      "    backsolve, forwardsolve\n",
      "\n",
      "\n",
      "Loading required package: viridis\n",
      "\n",
      "Loading required package: viridisLite\n",
      "\n",
      "\n",
      "Try help(fields) to get started.\n",
      "\n"
     ]
    },
    {
     "name": "stdout",
     "output_type": "stream",
     "text": [
      "[1] \"Creating artificial doublets for pN = 5%\"\n",
      "[1] \"Creating Seurat object...\"\n",
      "[1] \"Normalizing Seurat object...\"\n",
      "[1] \"Finding variable genes...\"\n"
     ]
    },
    {
     "name": "stderr",
     "output_type": "stream",
     "text": [
      "Warning message:\n",
      "“The following arguments are not used: nselect”\n"
     ]
    },
    {
     "name": "stdout",
     "output_type": "stream",
     "text": [
      "[1] \"Scaling data...\"\n"
     ]
    },
    {
     "name": "stderr",
     "output_type": "stream",
     "text": [
      "Centering and scaling data matrix\n",
      "\n"
     ]
    },
    {
     "name": "stdout",
     "output_type": "stream",
     "text": [
      "[1] \"Running PCA...\"\n",
      "[1] \"Calculating PC distance matrix...\"\n",
      "[1] \"Defining neighborhoods...\"\n",
      "[1] \"Computing pANN across all pK...\"\n",
      "[1] \"pK = 0.04...\"\n",
      "[1] \"pK = 0.05...\"\n",
      "[1] \"pK = 0.06...\"\n",
      "[1] \"pK = 0.07...\"\n",
      "[1] \"pK = 0.08...\"\n",
      "[1] \"pK = 0.09...\"\n",
      "[1] \"pK = 0.1...\"\n",
      "[1] \"pK = 0.11...\"\n",
      "[1] \"pK = 0.12...\"\n",
      "[1] \"pK = 0.13...\"\n",
      "[1] \"pK = 0.14...\"\n",
      "[1] \"pK = 0.15...\"\n",
      "[1] \"pK = 0.16...\"\n",
      "[1] \"pK = 0.17...\"\n",
      "[1] \"pK = 0.18...\"\n",
      "[1] \"pK = 0.19...\"\n",
      "[1] \"pK = 0.2...\"\n",
      "[1] \"pK = 0.21...\"\n",
      "[1] \"pK = 0.22...\"\n",
      "[1] \"pK = 0.23...\"\n",
      "[1] \"pK = 0.24...\"\n",
      "[1] \"pK = 0.25...\"\n",
      "[1] \"pK = 0.26...\"\n",
      "[1] \"pK = 0.27...\"\n",
      "[1] \"pK = 0.28...\"\n",
      "[1] \"pK = 0.29...\"\n",
      "[1] \"pK = 0.3...\"\n",
      "[1] \"Creating artificial doublets for pN = 10%\"\n",
      "[1] \"Creating Seurat object...\"\n",
      "[1] \"Normalizing Seurat object...\"\n",
      "[1] \"Finding variable genes...\"\n"
     ]
    },
    {
     "name": "stderr",
     "output_type": "stream",
     "text": [
      "Warning message:\n",
      "“The following arguments are not used: nselect”\n"
     ]
    },
    {
     "name": "stdout",
     "output_type": "stream",
     "text": [
      "[1] \"Scaling data...\"\n"
     ]
    },
    {
     "name": "stderr",
     "output_type": "stream",
     "text": [
      "Centering and scaling data matrix\n",
      "\n"
     ]
    },
    {
     "name": "stdout",
     "output_type": "stream",
     "text": [
      "[1] \"Running PCA...\"\n",
      "[1] \"Calculating PC distance matrix...\"\n",
      "[1] \"Defining neighborhoods...\"\n",
      "[1] \"Computing pANN across all pK...\"\n",
      "[1] \"pK = 0.04...\"\n",
      "[1] \"pK = 0.05...\"\n",
      "[1] \"pK = 0.06...\"\n",
      "[1] \"pK = 0.07...\"\n",
      "[1] \"pK = 0.08...\"\n",
      "[1] \"pK = 0.09...\"\n",
      "[1] \"pK = 0.1...\"\n",
      "[1] \"pK = 0.11...\"\n",
      "[1] \"pK = 0.12...\"\n",
      "[1] \"pK = 0.13...\"\n",
      "[1] \"pK = 0.14...\"\n",
      "[1] \"pK = 0.15...\"\n",
      "[1] \"pK = 0.16...\"\n",
      "[1] \"pK = 0.17...\"\n",
      "[1] \"pK = 0.18...\"\n",
      "[1] \"pK = 0.19...\"\n",
      "[1] \"pK = 0.2...\"\n",
      "[1] \"pK = 0.21...\"\n",
      "[1] \"pK = 0.22...\"\n",
      "[1] \"pK = 0.23...\"\n",
      "[1] \"pK = 0.24...\"\n",
      "[1] \"pK = 0.25...\"\n",
      "[1] \"pK = 0.26...\"\n",
      "[1] \"pK = 0.27...\"\n",
      "[1] \"pK = 0.28...\"\n",
      "[1] \"pK = 0.29...\"\n",
      "[1] \"pK = 0.3...\"\n",
      "[1] \"Creating artificial doublets for pN = 15%\"\n",
      "[1] \"Creating Seurat object...\"\n",
      "[1] \"Normalizing Seurat object...\"\n",
      "[1] \"Finding variable genes...\"\n"
     ]
    },
    {
     "name": "stderr",
     "output_type": "stream",
     "text": [
      "Warning message:\n",
      "“The following arguments are not used: nselect”\n"
     ]
    },
    {
     "name": "stdout",
     "output_type": "stream",
     "text": [
      "[1] \"Scaling data...\"\n"
     ]
    },
    {
     "name": "stderr",
     "output_type": "stream",
     "text": [
      "Centering and scaling data matrix\n",
      "\n"
     ]
    },
    {
     "name": "stdout",
     "output_type": "stream",
     "text": [
      "[1] \"Running PCA...\"\n",
      "[1] \"Calculating PC distance matrix...\"\n",
      "[1] \"Defining neighborhoods...\"\n",
      "[1] \"Computing pANN across all pK...\"\n",
      "[1] \"pK = 0.04...\"\n",
      "[1] \"pK = 0.05...\"\n",
      "[1] \"pK = 0.06...\"\n",
      "[1] \"pK = 0.07...\"\n",
      "[1] \"pK = 0.08...\"\n",
      "[1] \"pK = 0.09...\"\n",
      "[1] \"pK = 0.1...\"\n",
      "[1] \"pK = 0.11...\"\n",
      "[1] \"pK = 0.12...\"\n",
      "[1] \"pK = 0.13...\"\n",
      "[1] \"pK = 0.14...\"\n",
      "[1] \"pK = 0.15...\"\n",
      "[1] \"pK = 0.16...\"\n",
      "[1] \"pK = 0.17...\"\n",
      "[1] \"pK = 0.18...\"\n",
      "[1] \"pK = 0.19...\"\n",
      "[1] \"pK = 0.2...\"\n",
      "[1] \"pK = 0.21...\"\n",
      "[1] \"pK = 0.22...\"\n",
      "[1] \"pK = 0.23...\"\n",
      "[1] \"pK = 0.24...\"\n",
      "[1] \"pK = 0.25...\"\n",
      "[1] \"pK = 0.26...\"\n",
      "[1] \"pK = 0.27...\"\n",
      "[1] \"pK = 0.28...\"\n",
      "[1] \"pK = 0.29...\"\n",
      "[1] \"pK = 0.3...\"\n",
      "[1] \"Creating artificial doublets for pN = 20%\"\n",
      "[1] \"Creating Seurat object...\"\n",
      "[1] \"Normalizing Seurat object...\"\n",
      "[1] \"Finding variable genes...\"\n"
     ]
    },
    {
     "name": "stderr",
     "output_type": "stream",
     "text": [
      "Warning message:\n",
      "“The following arguments are not used: nselect”\n"
     ]
    },
    {
     "name": "stdout",
     "output_type": "stream",
     "text": [
      "[1] \"Scaling data...\"\n"
     ]
    },
    {
     "name": "stderr",
     "output_type": "stream",
     "text": [
      "Centering and scaling data matrix\n",
      "\n"
     ]
    },
    {
     "name": "stdout",
     "output_type": "stream",
     "text": [
      "[1] \"Running PCA...\"\n",
      "[1] \"Calculating PC distance matrix...\"\n",
      "[1] \"Defining neighborhoods...\"\n",
      "[1] \"Computing pANN across all pK...\"\n",
      "[1] \"pK = 0.04...\"\n",
      "[1] \"pK = 0.05...\"\n",
      "[1] \"pK = 0.06...\"\n",
      "[1] \"pK = 0.07...\"\n",
      "[1] \"pK = 0.08...\"\n",
      "[1] \"pK = 0.09...\"\n",
      "[1] \"pK = 0.1...\"\n",
      "[1] \"pK = 0.11...\"\n",
      "[1] \"pK = 0.12...\"\n",
      "[1] \"pK = 0.13...\"\n",
      "[1] \"pK = 0.14...\"\n",
      "[1] \"pK = 0.15...\"\n",
      "[1] \"pK = 0.16...\"\n",
      "[1] \"pK = 0.17...\"\n",
      "[1] \"pK = 0.18...\"\n",
      "[1] \"pK = 0.19...\"\n",
      "[1] \"pK = 0.2...\"\n",
      "[1] \"pK = 0.21...\"\n",
      "[1] \"pK = 0.22...\"\n",
      "[1] \"pK = 0.23...\"\n",
      "[1] \"pK = 0.24...\"\n",
      "[1] \"pK = 0.25...\"\n",
      "[1] \"pK = 0.26...\"\n",
      "[1] \"pK = 0.27...\"\n",
      "[1] \"pK = 0.28...\"\n",
      "[1] \"pK = 0.29...\"\n",
      "[1] \"pK = 0.3...\"\n",
      "[1] \"Creating artificial doublets for pN = 25%\"\n",
      "[1] \"Creating Seurat object...\"\n",
      "[1] \"Normalizing Seurat object...\"\n",
      "[1] \"Finding variable genes...\"\n"
     ]
    },
    {
     "name": "stderr",
     "output_type": "stream",
     "text": [
      "Warning message:\n",
      "“The following arguments are not used: nselect”\n"
     ]
    },
    {
     "name": "stdout",
     "output_type": "stream",
     "text": [
      "[1] \"Scaling data...\"\n"
     ]
    },
    {
     "name": "stderr",
     "output_type": "stream",
     "text": [
      "Centering and scaling data matrix\n",
      "\n"
     ]
    },
    {
     "name": "stdout",
     "output_type": "stream",
     "text": [
      "[1] \"Running PCA...\"\n",
      "[1] \"Calculating PC distance matrix...\"\n",
      "[1] \"Defining neighborhoods...\"\n",
      "[1] \"Computing pANN across all pK...\"\n",
      "[1] \"pK = 0.04...\"\n",
      "[1] \"pK = 0.05...\"\n",
      "[1] \"pK = 0.06...\"\n",
      "[1] \"pK = 0.07...\"\n",
      "[1] \"pK = 0.08...\"\n",
      "[1] \"pK = 0.09...\"\n",
      "[1] \"pK = 0.1...\"\n",
      "[1] \"pK = 0.11...\"\n",
      "[1] \"pK = 0.12...\"\n",
      "[1] \"pK = 0.13...\"\n",
      "[1] \"pK = 0.14...\"\n",
      "[1] \"pK = 0.15...\"\n",
      "[1] \"pK = 0.16...\"\n",
      "[1] \"pK = 0.17...\"\n",
      "[1] \"pK = 0.18...\"\n",
      "[1] \"pK = 0.19...\"\n",
      "[1] \"pK = 0.2...\"\n",
      "[1] \"pK = 0.21...\"\n",
      "[1] \"pK = 0.22...\"\n",
      "[1] \"pK = 0.23...\"\n",
      "[1] \"pK = 0.24...\"\n",
      "[1] \"pK = 0.25...\"\n",
      "[1] \"pK = 0.26...\"\n",
      "[1] \"pK = 0.27...\"\n",
      "[1] \"pK = 0.28...\"\n",
      "[1] \"pK = 0.29...\"\n",
      "[1] \"pK = 0.3...\"\n",
      "[1] \"Creating artificial doublets for pN = 30%\"\n",
      "[1] \"Creating Seurat object...\"\n",
      "[1] \"Normalizing Seurat object...\"\n",
      "[1] \"Finding variable genes...\"\n"
     ]
    },
    {
     "name": "stderr",
     "output_type": "stream",
     "text": [
      "Warning message:\n",
      "“The following arguments are not used: nselect”\n"
     ]
    },
    {
     "name": "stdout",
     "output_type": "stream",
     "text": [
      "[1] \"Scaling data...\"\n"
     ]
    },
    {
     "name": "stderr",
     "output_type": "stream",
     "text": [
      "Centering and scaling data matrix\n",
      "\n"
     ]
    },
    {
     "name": "stdout",
     "output_type": "stream",
     "text": [
      "[1] \"Running PCA...\"\n",
      "[1] \"Calculating PC distance matrix...\"\n",
      "[1] \"Defining neighborhoods...\"\n",
      "[1] \"Computing pANN across all pK...\"\n",
      "[1] \"pK = 0.04...\"\n",
      "[1] \"pK = 0.05...\"\n",
      "[1] \"pK = 0.06...\"\n",
      "[1] \"pK = 0.07...\"\n",
      "[1] \"pK = 0.08...\"\n",
      "[1] \"pK = 0.09...\"\n",
      "[1] \"pK = 0.1...\"\n",
      "[1] \"pK = 0.11...\"\n",
      "[1] \"pK = 0.12...\"\n",
      "[1] \"pK = 0.13...\"\n",
      "[1] \"pK = 0.14...\"\n",
      "[1] \"pK = 0.15...\"\n",
      "[1] \"pK = 0.16...\"\n",
      "[1] \"pK = 0.17...\"\n",
      "[1] \"pK = 0.18...\"\n",
      "[1] \"pK = 0.19...\"\n",
      "[1] \"pK = 0.2...\"\n",
      "[1] \"pK = 0.21...\"\n",
      "[1] \"pK = 0.22...\"\n",
      "[1] \"pK = 0.23...\"\n",
      "[1] \"pK = 0.24...\"\n",
      "[1] \"pK = 0.25...\"\n",
      "[1] \"pK = 0.26...\"\n",
      "[1] \"pK = 0.27...\"\n",
      "[1] \"pK = 0.28...\"\n",
      "[1] \"pK = 0.29...\"\n",
      "[1] \"pK = 0.3...\"\n"
     ]
    },
    {
     "name": "stderr",
     "output_type": "stream",
     "text": [
      "Loading required package: KernSmooth\n",
      "\n",
      "KernSmooth 2.23 loaded\n",
      "Copyright M. P. Wand 1997-2009\n",
      "\n",
      "Loading required package: ROCR\n",
      "\n"
     ]
    },
    {
     "name": "stdout",
     "output_type": "stream",
     "text": [
      "NULL\n"
     ]
    },
    {
     "data": {
      "text/html": [
       "<strong>png:</strong> 2"
      ],
      "text/latex": [
       "\\textbf{png:} 2"
      ],
      "text/markdown": [
       "**png:** 2"
      ],
      "text/plain": [
       "png \n",
       "  2 "
      ]
     },
     "metadata": {},
     "output_type": "display_data"
    },
    {
     "name": "stdout",
     "output_type": "stream",
     "text": [
      "[1] \"Creating 91 artificial doublets...\"\n",
      "[1] \"Creating Seurat object...\"\n",
      "[1] \"Normalizing Seurat object...\"\n",
      "[1] \"Finding variable genes...\"\n"
     ]
    },
    {
     "name": "stderr",
     "output_type": "stream",
     "text": [
      "Warning message:\n",
      "“The following arguments are not used: nselect”\n"
     ]
    },
    {
     "name": "stdout",
     "output_type": "stream",
     "text": [
      "[1] \"Scaling data...\"\n"
     ]
    },
    {
     "name": "stderr",
     "output_type": "stream",
     "text": [
      "Centering and scaling data matrix\n",
      "\n"
     ]
    },
    {
     "name": "stdout",
     "output_type": "stream",
     "text": [
      "[1] \"Running PCA...\"\n",
      "[1] \"Calculating PC distance matrix...\"\n",
      "[1] \"Computing pANN...\"\n",
      "[1] \"Classifying doublets..\"\n"
     ]
    },
    {
     "data": {
      "text/html": [
       "<table class=\"dataframe\">\n",
       "<caption>A data.frame: 274 × 13</caption>\n",
       "<thead>\n",
       "\t<tr><th></th><th scope=col>orig.ident</th><th scope=col>nCount_RNA</th><th scope=col>nFeature_RNA</th><th scope=col>percent.mt</th><th scope=col>S.Score</th><th scope=col>G2M.Score</th><th scope=col>Phase</th><th scope=col>old.ident</th><th scope=col>CC.Difference</th><th scope=col>RNA_snn_res.1</th><th scope=col>seurat_clusters</th><th scope=col>pANN_0.25_0.26_16</th><th scope=col>DF.classifications_0.25_0.26_16</th></tr>\n",
       "\t<tr><th></th><th scope=col>&lt;fct&gt;</th><th scope=col>&lt;dbl&gt;</th><th scope=col>&lt;int&gt;</th><th scope=col>&lt;dbl&gt;</th><th scope=col>&lt;dbl&gt;</th><th scope=col>&lt;dbl&gt;</th><th scope=col>&lt;chr&gt;</th><th scope=col>&lt;fct&gt;</th><th scope=col>&lt;dbl&gt;</th><th scope=col>&lt;fct&gt;</th><th scope=col>&lt;fct&gt;</th><th scope=col>&lt;dbl&gt;</th><th scope=col>&lt;chr&gt;</th></tr>\n",
       "</thead>\n",
       "<tbody>\n",
       "\t<tr><th scope=row>AAAGTAGAGATGTTAG-1</th><td>SCLC</td><td>  535</td><td> 395</td><td>1.8691589</td><td> 0.179150363</td><td> 0.0132207010</td><td>S  </td><td>SCLC</td><td> 0.165929662</td><td>4</td><td>4</td><td>0.17894737</td><td>Singlet</td></tr>\n",
       "\t<tr><th scope=row>AACTGGTCATCTATGG-1</th><td>SCLC</td><td> 2917</td><td>1316</td><td>2.9139527</td><td>-0.019603080</td><td>-0.0244220213</td><td>G1 </td><td>SCLC</td><td> 0.004818942</td><td>1</td><td>1</td><td>0.05263158</td><td>Singlet</td></tr>\n",
       "\t<tr><th scope=row>AACTTTCAGGCAATTA-1</th><td>SCLC</td><td>36253</td><td>2461</td><td>0.9378534</td><td>-0.015487703</td><td>-0.0272584179</td><td>G1 </td><td>SCLC</td><td> 0.011770715</td><td>3</td><td>3</td><td>0.32631579</td><td>Doublet</td></tr>\n",
       "\t<tr><th scope=row>AACTTTCTCGGCATCG-1</th><td>SCLC</td><td>22511</td><td>2095</td><td>1.0039536</td><td>-0.026873945</td><td>-0.0528573274</td><td>G1 </td><td>SCLC</td><td> 0.025983383</td><td>3</td><td>3</td><td>0.35789474</td><td>Doublet</td></tr>\n",
       "\t<tr><th scope=row>AAGCCGCCAGGGTATG-1</th><td>SCLC</td><td> 2918</td><td>1250</td><td>2.6730637</td><td>-0.011571157</td><td>-0.0404744912</td><td>G1 </td><td>SCLC</td><td> 0.028903334</td><td>0</td><td>0</td><td>0.04210526</td><td>Singlet</td></tr>\n",
       "\t<tr><th scope=row>AATCCAGCACCCATGG-1</th><td>SCLC</td><td> 2597</td><td> 998</td><td>2.6569118</td><td> 0.014336024</td><td>-0.0537257498</td><td>S  </td><td>SCLC</td><td> 0.068061774</td><td>0</td><td>0</td><td>0.04210526</td><td>Singlet</td></tr>\n",
       "\t<tr><th scope=row>ACACCAACATAGGATA-1</th><td>SCLC</td><td> 1081</td><td> 384</td><td>0.0000000</td><td> 0.031903041</td><td> 0.0004966466</td><td>S  </td><td>SCLC</td><td> 0.031406394</td><td>0</td><td>0</td><td>0.30526316</td><td>Singlet</td></tr>\n",
       "\t<tr><th scope=row>ACACCAAGTCGCTTCT-1</th><td>SCLC</td><td> 1047</td><td> 419</td><td>0.0000000</td><td>-0.019167032</td><td>-0.0441618798</td><td>G1 </td><td>SCLC</td><td> 0.024994848</td><td>0</td><td>0</td><td>0.24210526</td><td>Singlet</td></tr>\n",
       "\t<tr><th scope=row>ACACCAAGTGGTAACG-1</th><td>SCLC</td><td> 2541</td><td>1020</td><td>2.8728847</td><td> 0.007926476</td><td>-0.0160432516</td><td>S  </td><td>SCLC</td><td> 0.023969728</td><td>0</td><td>0</td><td>0.04210526</td><td>Singlet</td></tr>\n",
       "\t<tr><th scope=row>ACACCCTAGACAATAC-1</th><td>SCLC</td><td> 1870</td><td> 922</td><td>3.6898396</td><td> 0.053810335</td><td> 0.0001728283</td><td>S  </td><td>SCLC</td><td> 0.053637507</td><td>1</td><td>1</td><td>0.04210526</td><td>Singlet</td></tr>\n",
       "\t<tr><th scope=row>ACACCCTCAGGGTACA-1</th><td>SCLC</td><td> 4285</td><td>2099</td><td>2.6837806</td><td>-0.092509617</td><td>-0.0252578898</td><td>G1 </td><td>SCLC</td><td>-0.067251727</td><td>1</td><td>1</td><td>0.10526316</td><td>Singlet</td></tr>\n",
       "\t<tr><th scope=row>ACACCGGAGTTATCGC-1</th><td>SCLC</td><td> 6771</td><td>2028</td><td>0.1624575</td><td>-0.057424810</td><td>-0.1265158165</td><td>G1 </td><td>SCLC</td><td> 0.069091007</td><td>1</td><td>1</td><td>0.10526316</td><td>Singlet</td></tr>\n",
       "\t<tr><th scope=row>ACAGCCGAGGACGAAA-1</th><td>SCLC</td><td> 1690</td><td>1084</td><td>2.6035503</td><td>-0.003101421</td><td>-0.0735584177</td><td>G1 </td><td>SCLC</td><td> 0.070456997</td><td>1</td><td>1</td><td>0.08421053</td><td>Singlet</td></tr>\n",
       "\t<tr><th scope=row>ACAGCCGCACATGACT-1</th><td>SCLC</td><td> 2354</td><td>1042</td><td>2.5488530</td><td>-0.068387767</td><td> 0.0078306200</td><td>G2M</td><td>SCLC</td><td>-0.076218387</td><td>1</td><td>1</td><td>0.04210526</td><td>Singlet</td></tr>\n",
       "\t<tr><th scope=row>ACATCAGTCTGTGCAA-1</th><td>SCLC</td><td> 3990</td><td>1931</td><td>1.3533835</td><td> 0.090487554</td><td> 0.0504814271</td><td>S  </td><td>SCLC</td><td> 0.040006127</td><td>1</td><td>1</td><td>0.12631579</td><td>Singlet</td></tr>\n",
       "\t<tr><th scope=row>ACCAGTACAAGCTGTT-1</th><td>SCLC</td><td> 4888</td><td>2282</td><td>2.4345336</td><td> 0.681729831</td><td> 0.1785283213</td><td>S  </td><td>SCLC</td><td> 0.503201509</td><td>1</td><td>1</td><td>0.08421053</td><td>Singlet</td></tr>\n",
       "\t<tr><th scope=row>ACCGTAAAGCTAGGCA-1</th><td>SCLC</td><td>29071</td><td>1941</td><td>0.6398129</td><td>-0.029490786</td><td>-0.0101423501</td><td>G1 </td><td>SCLC</td><td>-0.019348436</td><td>2</td><td>2</td><td>0.30526316</td><td>Singlet</td></tr>\n",
       "\t<tr><th scope=row>ACGAGCCAGGGCTTGA-1</th><td>SCLC</td><td> 2281</td><td> 911</td><td>4.9539676</td><td>-0.051996314</td><td> 0.0228236944</td><td>G2M</td><td>SCLC</td><td>-0.074820008</td><td>0</td><td>0</td><td>0.09473684</td><td>Singlet</td></tr>\n",
       "\t<tr><th scope=row>ACGAGCCGTGTTTGGT-1</th><td>SCLC</td><td> 2469</td><td>1187</td><td>0.8100446</td><td>-0.100855728</td><td>-0.0185686147</td><td>G1 </td><td>SCLC</td><td>-0.082287113</td><td>0</td><td>0</td><td>0.20000000</td><td>Singlet</td></tr>\n",
       "\t<tr><th scope=row>ACGATACTCCGCGCAA-1</th><td>SCLC</td><td>  860</td><td> 419</td><td>3.0232558</td><td>-0.034713749</td><td>-0.0499529300</td><td>G1 </td><td>SCLC</td><td> 0.015239181</td><td>0</td><td>0</td><td>0.16842105</td><td>Singlet</td></tr>\n",
       "\t<tr><th scope=row>ACGATGTGTTAAAGTG-1</th><td>SCLC</td><td>  881</td><td> 484</td><td>0.6810443</td><td>-0.053548346</td><td> 0.0543168519</td><td>G2M</td><td>SCLC</td><td>-0.107865198</td><td>1</td><td>1</td><td>0.27368421</td><td>Singlet</td></tr>\n",
       "\t<tr><th scope=row>ACGCCGATCACGGTTA-1</th><td>SCLC</td><td>  987</td><td> 362</td><td>0.2026342</td><td> 0.041393230</td><td>-0.0515196281</td><td>S  </td><td>SCLC</td><td> 0.092912858</td><td>4</td><td>4</td><td>0.27368421</td><td>Singlet</td></tr>\n",
       "\t<tr><th scope=row>ACGTCAACAGCTGTAT-1</th><td>SCLC</td><td>26773</td><td>2481</td><td>0.7432861</td><td>-0.002004579</td><td>-0.0309084274</td><td>G1 </td><td>SCLC</td><td> 0.028903848</td><td>3</td><td>3</td><td>0.35789474</td><td>Doublet</td></tr>\n",
       "\t<tr><th scope=row>ACTGAACCAGGGATTG-1</th><td>SCLC</td><td> 6979</td><td>2406</td><td>3.7971056</td><td>-0.063383875</td><td>-0.1126566260</td><td>G1 </td><td>SCLC</td><td> 0.049272751</td><td>4</td><td>4</td><td>0.08421053</td><td>Singlet</td></tr>\n",
       "\t<tr><th scope=row>ACTGATGGTGCCTGCA-1</th><td>SCLC</td><td>34419</td><td>2006</td><td>0.4822918</td><td>-0.030483660</td><td>-0.0358392424</td><td>G1 </td><td>SCLC</td><td> 0.005355583</td><td>3</td><td>3</td><td>0.29473684</td><td>Singlet</td></tr>\n",
       "\t<tr><th scope=row>ACTGTCCGTGTTCTTT-1</th><td>SCLC</td><td> 3034</td><td>1242</td><td>1.4831905</td><td> 0.040606137</td><td>-0.0218032005</td><td>S  </td><td>SCLC</td><td> 0.062409338</td><td>1</td><td>1</td><td>0.05263158</td><td>Singlet</td></tr>\n",
       "\t<tr><th scope=row>ACTTGTTCAGCTTCGG-1</th><td>SCLC</td><td>38294</td><td>2144</td><td>0.3081423</td><td>-0.011891445</td><td>-0.0146184672</td><td>G1 </td><td>SCLC</td><td> 0.002727023</td><td>3</td><td>3</td><td>0.30526316</td><td>Singlet</td></tr>\n",
       "\t<tr><th scope=row>ACTTGTTTCAGTGTTG-1</th><td>SCLC</td><td> 2520</td><td>1038</td><td>1.7460317</td><td>-0.022831707</td><td>-0.0269372525</td><td>G1 </td><td>SCLC</td><td> 0.004105546</td><td>0</td><td>0</td><td>0.04210526</td><td>Singlet</td></tr>\n",
       "\t<tr><th scope=row>AGAATAGAGCTGATAA-1</th><td>SCLC</td><td>30578</td><td>2135</td><td>0.4120610</td><td>-0.023848283</td><td>-0.0219307105</td><td>G1 </td><td>SCLC</td><td>-0.001917572</td><td>2</td><td>2</td><td>0.31578947</td><td>Singlet</td></tr>\n",
       "\t<tr><th scope=row>AGAATAGGTGCCTGTG-1</th><td>SCLC</td><td> 2418</td><td>1100</td><td>4.2597188</td><td> 0.014273879</td><td>-0.0068680504</td><td>S  </td><td>SCLC</td><td> 0.021141929</td><td>1</td><td>1</td><td>0.05263158</td><td>Singlet</td></tr>\n",
       "\t<tr><th scope=row>⋮</th><td>⋮</td><td>⋮</td><td>⋮</td><td>⋮</td><td>⋮</td><td>⋮</td><td>⋮</td><td>⋮</td><td>⋮</td><td>⋮</td><td>⋮</td><td>⋮</td><td>⋮</td></tr>\n",
       "\t<tr><th scope=row>TGCGCAGTCGGCATCG-1</th><td>SCLC</td><td> 3099</td><td>1143</td><td>2.8718942</td><td> 0.0541157221</td><td> 0.013640007</td><td>S  </td><td>SCLC</td><td> 0.040475715</td><td>0</td><td>0</td><td>0.07368421</td><td>Singlet</td></tr>\n",
       "\t<tr><th scope=row>TGCGCAGTCTGAAAGA-1</th><td>SCLC</td><td>  667</td><td> 419</td><td>0.2998501</td><td>-0.0591275496</td><td>-0.072099844</td><td>G1 </td><td>SCLC</td><td> 0.012972294</td><td>0</td><td>0</td><td>0.32631579</td><td>Doublet</td></tr>\n",
       "\t<tr><th scope=row>TGCGGGTCAATGACCT-1</th><td>SCLC</td><td> 3723</td><td>1263</td><td>2.7128660</td><td> 0.0059943105</td><td>-0.042457760</td><td>S  </td><td>SCLC</td><td> 0.048452071</td><td>1</td><td>1</td><td>0.06315789</td><td>Singlet</td></tr>\n",
       "\t<tr><th scope=row>TGCGTGGGTTCGTGAT-1</th><td>SCLC</td><td> 1429</td><td> 712</td><td>0.9797061</td><td>-0.0452793562</td><td> 0.005338165</td><td>G2M</td><td>SCLC</td><td>-0.050617521</td><td>0</td><td>0</td><td>0.08421053</td><td>Singlet</td></tr>\n",
       "\t<tr><th scope=row>TGCTGCTAGAGAGCTC-1</th><td>SCLC</td><td>  704</td><td> 427</td><td>0.2840909</td><td>-0.0356296567</td><td>-0.062249741</td><td>G1 </td><td>SCLC</td><td> 0.026620084</td><td>4</td><td>4</td><td>0.14736842</td><td>Singlet</td></tr>\n",
       "\t<tr><th scope=row>TGGCCAGGTGCTCTTC-1</th><td>SCLC</td><td>29929</td><td>1885</td><td>0.1837683</td><td>-0.0190619556</td><td>-0.013327194</td><td>G1 </td><td>SCLC</td><td>-0.005734762</td><td>3</td><td>3</td><td>0.29473684</td><td>Singlet</td></tr>\n",
       "\t<tr><th scope=row>TGGCGCAGTAGAGCTG-1</th><td>SCLC</td><td> 2077</td><td>1073</td><td>0.9629273</td><td> 0.0555526907</td><td>-0.011007402</td><td>S  </td><td>SCLC</td><td> 0.066560093</td><td>0</td><td>0</td><td>0.03157895</td><td>Singlet</td></tr>\n",
       "\t<tr><th scope=row>TGGGCGTAGTAATCCC-1</th><td>SCLC</td><td> 3998</td><td>1401</td><td>2.7013507</td><td> 0.0214837218</td><td> 0.068526597</td><td>G2M</td><td>SCLC</td><td>-0.047042875</td><td>1</td><td>1</td><td>0.04210526</td><td>Singlet</td></tr>\n",
       "\t<tr><th scope=row>TGGGCGTCAACTGGCC-1</th><td>SCLC</td><td>21248</td><td>1641</td><td>0.4235693</td><td>-0.0159444017</td><td>-0.025391758</td><td>G1 </td><td>SCLC</td><td> 0.009447356</td><td>3</td><td>3</td><td>0.30526316</td><td>Singlet</td></tr>\n",
       "\t<tr><th scope=row>TGTGGTATCTACGAGT-1</th><td>SCLC</td><td>31478</td><td>2322</td><td>0.3971027</td><td>-0.0271795537</td><td>-0.033225728</td><td>G1 </td><td>SCLC</td><td> 0.006046174</td><td>2</td><td>2</td><td>0.31578947</td><td>Singlet</td></tr>\n",
       "\t<tr><th scope=row>TGTGTTTCAATAACGA-1</th><td>SCLC</td><td>33963</td><td>2012</td><td>0.7714277</td><td>-0.0009816546</td><td>-0.004432832</td><td>G1 </td><td>SCLC</td><td> 0.003451177</td><td>3</td><td>3</td><td>0.29473684</td><td>Singlet</td></tr>\n",
       "\t<tr><th scope=row>TGTTCCGGTCCGACGT-1</th><td>SCLC</td><td>16991</td><td>1077</td><td>0.3413572</td><td>-0.0132361058</td><td>-0.037469302</td><td>G1 </td><td>SCLC</td><td> 0.024233197</td><td>2</td><td>2</td><td>0.28421053</td><td>Singlet</td></tr>\n",
       "\t<tr><th scope=row>TGTTCCGGTCCTCTTG-1</th><td>SCLC</td><td>35852</td><td>1978</td><td>0.1534085</td><td>-0.0248773392</td><td>-0.035146474</td><td>G1 </td><td>SCLC</td><td> 0.010269135</td><td>3</td><td>3</td><td>0.30526316</td><td>Singlet</td></tr>\n",
       "\t<tr><th scope=row>TTAGGACTCACGACTA-1</th><td>SCLC</td><td> 2824</td><td>1348</td><td>3.0453258</td><td> 0.0129269662</td><td> 0.016248097</td><td>G2M</td><td>SCLC</td><td>-0.003321131</td><td>1</td><td>1</td><td>0.04210526</td><td>Singlet</td></tr>\n",
       "\t<tr><th scope=row>TTAGGCAGTCACTGGC-1</th><td>SCLC</td><td> 2325</td><td> 979</td><td>3.9139785</td><td> 0.0607991067</td><td>-0.029262516</td><td>S  </td><td>SCLC</td><td> 0.090061623</td><td>1</td><td>1</td><td>0.14736842</td><td>Singlet</td></tr>\n",
       "\t<tr><th scope=row>TTAGTTCGTTAAGAAC-1</th><td>SCLC</td><td> 3052</td><td>1185</td><td>3.4731324</td><td> 0.0384955230</td><td> 0.014390494</td><td>S  </td><td>SCLC</td><td> 0.024105029</td><td>0</td><td>0</td><td>0.07368421</td><td>Singlet</td></tr>\n",
       "\t<tr><th scope=row>TTATGCTGTCAACATC-1</th><td>SCLC</td><td>  737</td><td> 529</td><td>0.0000000</td><td> 0.0782988827</td><td>-0.018758769</td><td>S  </td><td>SCLC</td><td> 0.097057652</td><td>4</td><td>4</td><td>0.37894737</td><td>Doublet</td></tr>\n",
       "\t<tr><th scope=row>TTATGCTTCGTCTGCT-1</th><td>SCLC</td><td> 1293</td><td> 643</td><td>3.4029389</td><td> 0.0120573101</td><td>-0.069348293</td><td>S  </td><td>SCLC</td><td> 0.081405603</td><td>0</td><td>0</td><td>0.09473684</td><td>Singlet</td></tr>\n",
       "\t<tr><th scope=row>TTCCCAGAGTACTTGC-1</th><td>SCLC</td><td> 1681</td><td> 727</td><td>1.0113028</td><td> 0.0512856937</td><td>-0.028802475</td><td>S  </td><td>SCLC</td><td> 0.080088169</td><td>0</td><td>0</td><td>0.06315789</td><td>Singlet</td></tr>\n",
       "\t<tr><th scope=row>TTCGAAGTCTTGGGTA-1</th><td>SCLC</td><td>32681</td><td>1997</td><td>0.4283835</td><td>-0.0178712047</td><td>-0.011862679</td><td>G1 </td><td>SCLC</td><td>-0.006008526</td><td>3</td><td>3</td><td>0.30526316</td><td>Singlet</td></tr>\n",
       "\t<tr><th scope=row>TTCGGTCGTCTCCATC-1</th><td>SCLC</td><td> 2371</td><td> 887</td><td>2.8679882</td><td>-0.0503615145</td><td>-0.023890506</td><td>G1 </td><td>SCLC</td><td>-0.026471009</td><td>0</td><td>0</td><td>0.06315789</td><td>Singlet</td></tr>\n",
       "\t<tr><th scope=row>TTCGGTCTCTGCGTAA-1</th><td>SCLC</td><td> 6755</td><td> 815</td><td>1.7172465</td><td>-0.0341665394</td><td>-0.042517839</td><td>G1 </td><td>SCLC</td><td> 0.008351299</td><td>2</td><td>2</td><td>0.27368421</td><td>Singlet</td></tr>\n",
       "\t<tr><th scope=row>TTCTACAAGACTACAA-1</th><td>SCLC</td><td> 1855</td><td>1039</td><td>1.8328841</td><td> 0.1047412412</td><td> 0.065071174</td><td>S  </td><td>SCLC</td><td> 0.039670067</td><td>1</td><td>1</td><td>0.02105263</td><td>Singlet</td></tr>\n",
       "\t<tr><th scope=row>TTCTTAGGTTGACGTT-1</th><td>SCLC</td><td> 4488</td><td>1580</td><td>1.2254902</td><td>-0.0652875726</td><td>-0.043289991</td><td>G1 </td><td>SCLC</td><td>-0.021997581</td><td>1</td><td>1</td><td>0.09473684</td><td>Singlet</td></tr>\n",
       "\t<tr><th scope=row>TTGAACGAGTGTTGAA-1</th><td>SCLC</td><td> 2999</td><td> 999</td><td>1.9673224</td><td>-0.0256500814</td><td>-0.065870441</td><td>G1 </td><td>SCLC</td><td> 0.040220359</td><td>0</td><td>0</td><td>0.06315789</td><td>Singlet</td></tr>\n",
       "\t<tr><th scope=row>TTGCGTCAGCCACGCT-1</th><td>SCLC</td><td> 1909</td><td>1218</td><td>2.6191723</td><td>-0.0813561202</td><td>-0.071702833</td><td>G1 </td><td>SCLC</td><td>-0.009653287</td><td>1</td><td>1</td><td>0.11578947</td><td>Singlet</td></tr>\n",
       "\t<tr><th scope=row>TTTACTGTCGCCATAA-1</th><td>SCLC</td><td> 1866</td><td> 923</td><td>0.4823151</td><td> 0.2167543070</td><td>-0.054829302</td><td>S  </td><td>SCLC</td><td> 0.271583609</td><td>4</td><td>4</td><td>0.28421053</td><td>Singlet</td></tr>\n",
       "\t<tr><th scope=row>TTTATGCAGATGTTAG-1</th><td>SCLC</td><td> 3060</td><td>1168</td><td>3.7908497</td><td>-0.0386829523</td><td> 0.048180263</td><td>G2M</td><td>SCLC</td><td>-0.086863215</td><td>1</td><td>1</td><td>0.03157895</td><td>Singlet</td></tr>\n",
       "\t<tr><th scope=row>TTTCCTCAGGCTCATT-1</th><td>SCLC</td><td> 3735</td><td>1589</td><td>1.9009371</td><td> 0.0375245074</td><td>-0.026261166</td><td>S  </td><td>SCLC</td><td> 0.063785673</td><td>1</td><td>1</td><td>0.06315789</td><td>Singlet</td></tr>\n",
       "\t<tr><th scope=row>TTTGTCAGTCTCTTAT-1</th><td>SCLC</td><td> 1904</td><td> 858</td><td>4.3067227</td><td>-0.0391964840</td><td> 0.028763779</td><td>G2M</td><td>SCLC</td><td>-0.067960263</td><td>0</td><td>0</td><td>0.06315789</td><td>Singlet</td></tr>\n",
       "</tbody>\n",
       "</table>\n"
      ],
      "text/latex": [
       "A data.frame: 274 × 13\n",
       "\\begin{tabular}{r|lllllllllllll}\n",
       "  & orig.ident & nCount\\_RNA & nFeature\\_RNA & percent.mt & S.Score & G2M.Score & Phase & old.ident & CC.Difference & RNA\\_snn\\_res.1 & seurat\\_clusters & pANN\\_0.25\\_0.26\\_16 & DF.classifications\\_0.25\\_0.26\\_16\\\\\n",
       "  & <fct> & <dbl> & <int> & <dbl> & <dbl> & <dbl> & <chr> & <fct> & <dbl> & <fct> & <fct> & <dbl> & <chr>\\\\\n",
       "\\hline\n",
       "\tAAAGTAGAGATGTTAG-1 & SCLC &   535 &  395 & 1.8691589 &  0.179150363 &  0.0132207010 & S   & SCLC &  0.165929662 & 4 & 4 & 0.17894737 & Singlet\\\\\n",
       "\tAACTGGTCATCTATGG-1 & SCLC &  2917 & 1316 & 2.9139527 & -0.019603080 & -0.0244220213 & G1  & SCLC &  0.004818942 & 1 & 1 & 0.05263158 & Singlet\\\\\n",
       "\tAACTTTCAGGCAATTA-1 & SCLC & 36253 & 2461 & 0.9378534 & -0.015487703 & -0.0272584179 & G1  & SCLC &  0.011770715 & 3 & 3 & 0.32631579 & Doublet\\\\\n",
       "\tAACTTTCTCGGCATCG-1 & SCLC & 22511 & 2095 & 1.0039536 & -0.026873945 & -0.0528573274 & G1  & SCLC &  0.025983383 & 3 & 3 & 0.35789474 & Doublet\\\\\n",
       "\tAAGCCGCCAGGGTATG-1 & SCLC &  2918 & 1250 & 2.6730637 & -0.011571157 & -0.0404744912 & G1  & SCLC &  0.028903334 & 0 & 0 & 0.04210526 & Singlet\\\\\n",
       "\tAATCCAGCACCCATGG-1 & SCLC &  2597 &  998 & 2.6569118 &  0.014336024 & -0.0537257498 & S   & SCLC &  0.068061774 & 0 & 0 & 0.04210526 & Singlet\\\\\n",
       "\tACACCAACATAGGATA-1 & SCLC &  1081 &  384 & 0.0000000 &  0.031903041 &  0.0004966466 & S   & SCLC &  0.031406394 & 0 & 0 & 0.30526316 & Singlet\\\\\n",
       "\tACACCAAGTCGCTTCT-1 & SCLC &  1047 &  419 & 0.0000000 & -0.019167032 & -0.0441618798 & G1  & SCLC &  0.024994848 & 0 & 0 & 0.24210526 & Singlet\\\\\n",
       "\tACACCAAGTGGTAACG-1 & SCLC &  2541 & 1020 & 2.8728847 &  0.007926476 & -0.0160432516 & S   & SCLC &  0.023969728 & 0 & 0 & 0.04210526 & Singlet\\\\\n",
       "\tACACCCTAGACAATAC-1 & SCLC &  1870 &  922 & 3.6898396 &  0.053810335 &  0.0001728283 & S   & SCLC &  0.053637507 & 1 & 1 & 0.04210526 & Singlet\\\\\n",
       "\tACACCCTCAGGGTACA-1 & SCLC &  4285 & 2099 & 2.6837806 & -0.092509617 & -0.0252578898 & G1  & SCLC & -0.067251727 & 1 & 1 & 0.10526316 & Singlet\\\\\n",
       "\tACACCGGAGTTATCGC-1 & SCLC &  6771 & 2028 & 0.1624575 & -0.057424810 & -0.1265158165 & G1  & SCLC &  0.069091007 & 1 & 1 & 0.10526316 & Singlet\\\\\n",
       "\tACAGCCGAGGACGAAA-1 & SCLC &  1690 & 1084 & 2.6035503 & -0.003101421 & -0.0735584177 & G1  & SCLC &  0.070456997 & 1 & 1 & 0.08421053 & Singlet\\\\\n",
       "\tACAGCCGCACATGACT-1 & SCLC &  2354 & 1042 & 2.5488530 & -0.068387767 &  0.0078306200 & G2M & SCLC & -0.076218387 & 1 & 1 & 0.04210526 & Singlet\\\\\n",
       "\tACATCAGTCTGTGCAA-1 & SCLC &  3990 & 1931 & 1.3533835 &  0.090487554 &  0.0504814271 & S   & SCLC &  0.040006127 & 1 & 1 & 0.12631579 & Singlet\\\\\n",
       "\tACCAGTACAAGCTGTT-1 & SCLC &  4888 & 2282 & 2.4345336 &  0.681729831 &  0.1785283213 & S   & SCLC &  0.503201509 & 1 & 1 & 0.08421053 & Singlet\\\\\n",
       "\tACCGTAAAGCTAGGCA-1 & SCLC & 29071 & 1941 & 0.6398129 & -0.029490786 & -0.0101423501 & G1  & SCLC & -0.019348436 & 2 & 2 & 0.30526316 & Singlet\\\\\n",
       "\tACGAGCCAGGGCTTGA-1 & SCLC &  2281 &  911 & 4.9539676 & -0.051996314 &  0.0228236944 & G2M & SCLC & -0.074820008 & 0 & 0 & 0.09473684 & Singlet\\\\\n",
       "\tACGAGCCGTGTTTGGT-1 & SCLC &  2469 & 1187 & 0.8100446 & -0.100855728 & -0.0185686147 & G1  & SCLC & -0.082287113 & 0 & 0 & 0.20000000 & Singlet\\\\\n",
       "\tACGATACTCCGCGCAA-1 & SCLC &   860 &  419 & 3.0232558 & -0.034713749 & -0.0499529300 & G1  & SCLC &  0.015239181 & 0 & 0 & 0.16842105 & Singlet\\\\\n",
       "\tACGATGTGTTAAAGTG-1 & SCLC &   881 &  484 & 0.6810443 & -0.053548346 &  0.0543168519 & G2M & SCLC & -0.107865198 & 1 & 1 & 0.27368421 & Singlet\\\\\n",
       "\tACGCCGATCACGGTTA-1 & SCLC &   987 &  362 & 0.2026342 &  0.041393230 & -0.0515196281 & S   & SCLC &  0.092912858 & 4 & 4 & 0.27368421 & Singlet\\\\\n",
       "\tACGTCAACAGCTGTAT-1 & SCLC & 26773 & 2481 & 0.7432861 & -0.002004579 & -0.0309084274 & G1  & SCLC &  0.028903848 & 3 & 3 & 0.35789474 & Doublet\\\\\n",
       "\tACTGAACCAGGGATTG-1 & SCLC &  6979 & 2406 & 3.7971056 & -0.063383875 & -0.1126566260 & G1  & SCLC &  0.049272751 & 4 & 4 & 0.08421053 & Singlet\\\\\n",
       "\tACTGATGGTGCCTGCA-1 & SCLC & 34419 & 2006 & 0.4822918 & -0.030483660 & -0.0358392424 & G1  & SCLC &  0.005355583 & 3 & 3 & 0.29473684 & Singlet\\\\\n",
       "\tACTGTCCGTGTTCTTT-1 & SCLC &  3034 & 1242 & 1.4831905 &  0.040606137 & -0.0218032005 & S   & SCLC &  0.062409338 & 1 & 1 & 0.05263158 & Singlet\\\\\n",
       "\tACTTGTTCAGCTTCGG-1 & SCLC & 38294 & 2144 & 0.3081423 & -0.011891445 & -0.0146184672 & G1  & SCLC &  0.002727023 & 3 & 3 & 0.30526316 & Singlet\\\\\n",
       "\tACTTGTTTCAGTGTTG-1 & SCLC &  2520 & 1038 & 1.7460317 & -0.022831707 & -0.0269372525 & G1  & SCLC &  0.004105546 & 0 & 0 & 0.04210526 & Singlet\\\\\n",
       "\tAGAATAGAGCTGATAA-1 & SCLC & 30578 & 2135 & 0.4120610 & -0.023848283 & -0.0219307105 & G1  & SCLC & -0.001917572 & 2 & 2 & 0.31578947 & Singlet\\\\\n",
       "\tAGAATAGGTGCCTGTG-1 & SCLC &  2418 & 1100 & 4.2597188 &  0.014273879 & -0.0068680504 & S   & SCLC &  0.021141929 & 1 & 1 & 0.05263158 & Singlet\\\\\n",
       "\t⋮ & ⋮ & ⋮ & ⋮ & ⋮ & ⋮ & ⋮ & ⋮ & ⋮ & ⋮ & ⋮ & ⋮ & ⋮ & ⋮\\\\\n",
       "\tTGCGCAGTCGGCATCG-1 & SCLC &  3099 & 1143 & 2.8718942 &  0.0541157221 &  0.013640007 & S   & SCLC &  0.040475715 & 0 & 0 & 0.07368421 & Singlet\\\\\n",
       "\tTGCGCAGTCTGAAAGA-1 & SCLC &   667 &  419 & 0.2998501 & -0.0591275496 & -0.072099844 & G1  & SCLC &  0.012972294 & 0 & 0 & 0.32631579 & Doublet\\\\\n",
       "\tTGCGGGTCAATGACCT-1 & SCLC &  3723 & 1263 & 2.7128660 &  0.0059943105 & -0.042457760 & S   & SCLC &  0.048452071 & 1 & 1 & 0.06315789 & Singlet\\\\\n",
       "\tTGCGTGGGTTCGTGAT-1 & SCLC &  1429 &  712 & 0.9797061 & -0.0452793562 &  0.005338165 & G2M & SCLC & -0.050617521 & 0 & 0 & 0.08421053 & Singlet\\\\\n",
       "\tTGCTGCTAGAGAGCTC-1 & SCLC &   704 &  427 & 0.2840909 & -0.0356296567 & -0.062249741 & G1  & SCLC &  0.026620084 & 4 & 4 & 0.14736842 & Singlet\\\\\n",
       "\tTGGCCAGGTGCTCTTC-1 & SCLC & 29929 & 1885 & 0.1837683 & -0.0190619556 & -0.013327194 & G1  & SCLC & -0.005734762 & 3 & 3 & 0.29473684 & Singlet\\\\\n",
       "\tTGGCGCAGTAGAGCTG-1 & SCLC &  2077 & 1073 & 0.9629273 &  0.0555526907 & -0.011007402 & S   & SCLC &  0.066560093 & 0 & 0 & 0.03157895 & Singlet\\\\\n",
       "\tTGGGCGTAGTAATCCC-1 & SCLC &  3998 & 1401 & 2.7013507 &  0.0214837218 &  0.068526597 & G2M & SCLC & -0.047042875 & 1 & 1 & 0.04210526 & Singlet\\\\\n",
       "\tTGGGCGTCAACTGGCC-1 & SCLC & 21248 & 1641 & 0.4235693 & -0.0159444017 & -0.025391758 & G1  & SCLC &  0.009447356 & 3 & 3 & 0.30526316 & Singlet\\\\\n",
       "\tTGTGGTATCTACGAGT-1 & SCLC & 31478 & 2322 & 0.3971027 & -0.0271795537 & -0.033225728 & G1  & SCLC &  0.006046174 & 2 & 2 & 0.31578947 & Singlet\\\\\n",
       "\tTGTGTTTCAATAACGA-1 & SCLC & 33963 & 2012 & 0.7714277 & -0.0009816546 & -0.004432832 & G1  & SCLC &  0.003451177 & 3 & 3 & 0.29473684 & Singlet\\\\\n",
       "\tTGTTCCGGTCCGACGT-1 & SCLC & 16991 & 1077 & 0.3413572 & -0.0132361058 & -0.037469302 & G1  & SCLC &  0.024233197 & 2 & 2 & 0.28421053 & Singlet\\\\\n",
       "\tTGTTCCGGTCCTCTTG-1 & SCLC & 35852 & 1978 & 0.1534085 & -0.0248773392 & -0.035146474 & G1  & SCLC &  0.010269135 & 3 & 3 & 0.30526316 & Singlet\\\\\n",
       "\tTTAGGACTCACGACTA-1 & SCLC &  2824 & 1348 & 3.0453258 &  0.0129269662 &  0.016248097 & G2M & SCLC & -0.003321131 & 1 & 1 & 0.04210526 & Singlet\\\\\n",
       "\tTTAGGCAGTCACTGGC-1 & SCLC &  2325 &  979 & 3.9139785 &  0.0607991067 & -0.029262516 & S   & SCLC &  0.090061623 & 1 & 1 & 0.14736842 & Singlet\\\\\n",
       "\tTTAGTTCGTTAAGAAC-1 & SCLC &  3052 & 1185 & 3.4731324 &  0.0384955230 &  0.014390494 & S   & SCLC &  0.024105029 & 0 & 0 & 0.07368421 & Singlet\\\\\n",
       "\tTTATGCTGTCAACATC-1 & SCLC &   737 &  529 & 0.0000000 &  0.0782988827 & -0.018758769 & S   & SCLC &  0.097057652 & 4 & 4 & 0.37894737 & Doublet\\\\\n",
       "\tTTATGCTTCGTCTGCT-1 & SCLC &  1293 &  643 & 3.4029389 &  0.0120573101 & -0.069348293 & S   & SCLC &  0.081405603 & 0 & 0 & 0.09473684 & Singlet\\\\\n",
       "\tTTCCCAGAGTACTTGC-1 & SCLC &  1681 &  727 & 1.0113028 &  0.0512856937 & -0.028802475 & S   & SCLC &  0.080088169 & 0 & 0 & 0.06315789 & Singlet\\\\\n",
       "\tTTCGAAGTCTTGGGTA-1 & SCLC & 32681 & 1997 & 0.4283835 & -0.0178712047 & -0.011862679 & G1  & SCLC & -0.006008526 & 3 & 3 & 0.30526316 & Singlet\\\\\n",
       "\tTTCGGTCGTCTCCATC-1 & SCLC &  2371 &  887 & 2.8679882 & -0.0503615145 & -0.023890506 & G1  & SCLC & -0.026471009 & 0 & 0 & 0.06315789 & Singlet\\\\\n",
       "\tTTCGGTCTCTGCGTAA-1 & SCLC &  6755 &  815 & 1.7172465 & -0.0341665394 & -0.042517839 & G1  & SCLC &  0.008351299 & 2 & 2 & 0.27368421 & Singlet\\\\\n",
       "\tTTCTACAAGACTACAA-1 & SCLC &  1855 & 1039 & 1.8328841 &  0.1047412412 &  0.065071174 & S   & SCLC &  0.039670067 & 1 & 1 & 0.02105263 & Singlet\\\\\n",
       "\tTTCTTAGGTTGACGTT-1 & SCLC &  4488 & 1580 & 1.2254902 & -0.0652875726 & -0.043289991 & G1  & SCLC & -0.021997581 & 1 & 1 & 0.09473684 & Singlet\\\\\n",
       "\tTTGAACGAGTGTTGAA-1 & SCLC &  2999 &  999 & 1.9673224 & -0.0256500814 & -0.065870441 & G1  & SCLC &  0.040220359 & 0 & 0 & 0.06315789 & Singlet\\\\\n",
       "\tTTGCGTCAGCCACGCT-1 & SCLC &  1909 & 1218 & 2.6191723 & -0.0813561202 & -0.071702833 & G1  & SCLC & -0.009653287 & 1 & 1 & 0.11578947 & Singlet\\\\\n",
       "\tTTTACTGTCGCCATAA-1 & SCLC &  1866 &  923 & 0.4823151 &  0.2167543070 & -0.054829302 & S   & SCLC &  0.271583609 & 4 & 4 & 0.28421053 & Singlet\\\\\n",
       "\tTTTATGCAGATGTTAG-1 & SCLC &  3060 & 1168 & 3.7908497 & -0.0386829523 &  0.048180263 & G2M & SCLC & -0.086863215 & 1 & 1 & 0.03157895 & Singlet\\\\\n",
       "\tTTTCCTCAGGCTCATT-1 & SCLC &  3735 & 1589 & 1.9009371 &  0.0375245074 & -0.026261166 & S   & SCLC &  0.063785673 & 1 & 1 & 0.06315789 & Singlet\\\\\n",
       "\tTTTGTCAGTCTCTTAT-1 & SCLC &  1904 &  858 & 4.3067227 & -0.0391964840 &  0.028763779 & G2M & SCLC & -0.067960263 & 0 & 0 & 0.06315789 & Singlet\\\\\n",
       "\\end{tabular}\n"
      ],
      "text/markdown": [
       "\n",
       "A data.frame: 274 × 13\n",
       "\n",
       "| <!--/--> | orig.ident &lt;fct&gt; | nCount_RNA &lt;dbl&gt; | nFeature_RNA &lt;int&gt; | percent.mt &lt;dbl&gt; | S.Score &lt;dbl&gt; | G2M.Score &lt;dbl&gt; | Phase &lt;chr&gt; | old.ident &lt;fct&gt; | CC.Difference &lt;dbl&gt; | RNA_snn_res.1 &lt;fct&gt; | seurat_clusters &lt;fct&gt; | pANN_0.25_0.26_16 &lt;dbl&gt; | DF.classifications_0.25_0.26_16 &lt;chr&gt; |\n",
       "|---|---|---|---|---|---|---|---|---|---|---|---|---|---|\n",
       "| AAAGTAGAGATGTTAG-1 | SCLC |   535 |  395 | 1.8691589 |  0.179150363 |  0.0132207010 | S   | SCLC |  0.165929662 | 4 | 4 | 0.17894737 | Singlet |\n",
       "| AACTGGTCATCTATGG-1 | SCLC |  2917 | 1316 | 2.9139527 | -0.019603080 | -0.0244220213 | G1  | SCLC |  0.004818942 | 1 | 1 | 0.05263158 | Singlet |\n",
       "| AACTTTCAGGCAATTA-1 | SCLC | 36253 | 2461 | 0.9378534 | -0.015487703 | -0.0272584179 | G1  | SCLC |  0.011770715 | 3 | 3 | 0.32631579 | Doublet |\n",
       "| AACTTTCTCGGCATCG-1 | SCLC | 22511 | 2095 | 1.0039536 | -0.026873945 | -0.0528573274 | G1  | SCLC |  0.025983383 | 3 | 3 | 0.35789474 | Doublet |\n",
       "| AAGCCGCCAGGGTATG-1 | SCLC |  2918 | 1250 | 2.6730637 | -0.011571157 | -0.0404744912 | G1  | SCLC |  0.028903334 | 0 | 0 | 0.04210526 | Singlet |\n",
       "| AATCCAGCACCCATGG-1 | SCLC |  2597 |  998 | 2.6569118 |  0.014336024 | -0.0537257498 | S   | SCLC |  0.068061774 | 0 | 0 | 0.04210526 | Singlet |\n",
       "| ACACCAACATAGGATA-1 | SCLC |  1081 |  384 | 0.0000000 |  0.031903041 |  0.0004966466 | S   | SCLC |  0.031406394 | 0 | 0 | 0.30526316 | Singlet |\n",
       "| ACACCAAGTCGCTTCT-1 | SCLC |  1047 |  419 | 0.0000000 | -0.019167032 | -0.0441618798 | G1  | SCLC |  0.024994848 | 0 | 0 | 0.24210526 | Singlet |\n",
       "| ACACCAAGTGGTAACG-1 | SCLC |  2541 | 1020 | 2.8728847 |  0.007926476 | -0.0160432516 | S   | SCLC |  0.023969728 | 0 | 0 | 0.04210526 | Singlet |\n",
       "| ACACCCTAGACAATAC-1 | SCLC |  1870 |  922 | 3.6898396 |  0.053810335 |  0.0001728283 | S   | SCLC |  0.053637507 | 1 | 1 | 0.04210526 | Singlet |\n",
       "| ACACCCTCAGGGTACA-1 | SCLC |  4285 | 2099 | 2.6837806 | -0.092509617 | -0.0252578898 | G1  | SCLC | -0.067251727 | 1 | 1 | 0.10526316 | Singlet |\n",
       "| ACACCGGAGTTATCGC-1 | SCLC |  6771 | 2028 | 0.1624575 | -0.057424810 | -0.1265158165 | G1  | SCLC |  0.069091007 | 1 | 1 | 0.10526316 | Singlet |\n",
       "| ACAGCCGAGGACGAAA-1 | SCLC |  1690 | 1084 | 2.6035503 | -0.003101421 | -0.0735584177 | G1  | SCLC |  0.070456997 | 1 | 1 | 0.08421053 | Singlet |\n",
       "| ACAGCCGCACATGACT-1 | SCLC |  2354 | 1042 | 2.5488530 | -0.068387767 |  0.0078306200 | G2M | SCLC | -0.076218387 | 1 | 1 | 0.04210526 | Singlet |\n",
       "| ACATCAGTCTGTGCAA-1 | SCLC |  3990 | 1931 | 1.3533835 |  0.090487554 |  0.0504814271 | S   | SCLC |  0.040006127 | 1 | 1 | 0.12631579 | Singlet |\n",
       "| ACCAGTACAAGCTGTT-1 | SCLC |  4888 | 2282 | 2.4345336 |  0.681729831 |  0.1785283213 | S   | SCLC |  0.503201509 | 1 | 1 | 0.08421053 | Singlet |\n",
       "| ACCGTAAAGCTAGGCA-1 | SCLC | 29071 | 1941 | 0.6398129 | -0.029490786 | -0.0101423501 | G1  | SCLC | -0.019348436 | 2 | 2 | 0.30526316 | Singlet |\n",
       "| ACGAGCCAGGGCTTGA-1 | SCLC |  2281 |  911 | 4.9539676 | -0.051996314 |  0.0228236944 | G2M | SCLC | -0.074820008 | 0 | 0 | 0.09473684 | Singlet |\n",
       "| ACGAGCCGTGTTTGGT-1 | SCLC |  2469 | 1187 | 0.8100446 | -0.100855728 | -0.0185686147 | G1  | SCLC | -0.082287113 | 0 | 0 | 0.20000000 | Singlet |\n",
       "| ACGATACTCCGCGCAA-1 | SCLC |   860 |  419 | 3.0232558 | -0.034713749 | -0.0499529300 | G1  | SCLC |  0.015239181 | 0 | 0 | 0.16842105 | Singlet |\n",
       "| ACGATGTGTTAAAGTG-1 | SCLC |   881 |  484 | 0.6810443 | -0.053548346 |  0.0543168519 | G2M | SCLC | -0.107865198 | 1 | 1 | 0.27368421 | Singlet |\n",
       "| ACGCCGATCACGGTTA-1 | SCLC |   987 |  362 | 0.2026342 |  0.041393230 | -0.0515196281 | S   | SCLC |  0.092912858 | 4 | 4 | 0.27368421 | Singlet |\n",
       "| ACGTCAACAGCTGTAT-1 | SCLC | 26773 | 2481 | 0.7432861 | -0.002004579 | -0.0309084274 | G1  | SCLC |  0.028903848 | 3 | 3 | 0.35789474 | Doublet |\n",
       "| ACTGAACCAGGGATTG-1 | SCLC |  6979 | 2406 | 3.7971056 | -0.063383875 | -0.1126566260 | G1  | SCLC |  0.049272751 | 4 | 4 | 0.08421053 | Singlet |\n",
       "| ACTGATGGTGCCTGCA-1 | SCLC | 34419 | 2006 | 0.4822918 | -0.030483660 | -0.0358392424 | G1  | SCLC |  0.005355583 | 3 | 3 | 0.29473684 | Singlet |\n",
       "| ACTGTCCGTGTTCTTT-1 | SCLC |  3034 | 1242 | 1.4831905 |  0.040606137 | -0.0218032005 | S   | SCLC |  0.062409338 | 1 | 1 | 0.05263158 | Singlet |\n",
       "| ACTTGTTCAGCTTCGG-1 | SCLC | 38294 | 2144 | 0.3081423 | -0.011891445 | -0.0146184672 | G1  | SCLC |  0.002727023 | 3 | 3 | 0.30526316 | Singlet |\n",
       "| ACTTGTTTCAGTGTTG-1 | SCLC |  2520 | 1038 | 1.7460317 | -0.022831707 | -0.0269372525 | G1  | SCLC |  0.004105546 | 0 | 0 | 0.04210526 | Singlet |\n",
       "| AGAATAGAGCTGATAA-1 | SCLC | 30578 | 2135 | 0.4120610 | -0.023848283 | -0.0219307105 | G1  | SCLC | -0.001917572 | 2 | 2 | 0.31578947 | Singlet |\n",
       "| AGAATAGGTGCCTGTG-1 | SCLC |  2418 | 1100 | 4.2597188 |  0.014273879 | -0.0068680504 | S   | SCLC |  0.021141929 | 1 | 1 | 0.05263158 | Singlet |\n",
       "| ⋮ | ⋮ | ⋮ | ⋮ | ⋮ | ⋮ | ⋮ | ⋮ | ⋮ | ⋮ | ⋮ | ⋮ | ⋮ | ⋮ |\n",
       "| TGCGCAGTCGGCATCG-1 | SCLC |  3099 | 1143 | 2.8718942 |  0.0541157221 |  0.013640007 | S   | SCLC |  0.040475715 | 0 | 0 | 0.07368421 | Singlet |\n",
       "| TGCGCAGTCTGAAAGA-1 | SCLC |   667 |  419 | 0.2998501 | -0.0591275496 | -0.072099844 | G1  | SCLC |  0.012972294 | 0 | 0 | 0.32631579 | Doublet |\n",
       "| TGCGGGTCAATGACCT-1 | SCLC |  3723 | 1263 | 2.7128660 |  0.0059943105 | -0.042457760 | S   | SCLC |  0.048452071 | 1 | 1 | 0.06315789 | Singlet |\n",
       "| TGCGTGGGTTCGTGAT-1 | SCLC |  1429 |  712 | 0.9797061 | -0.0452793562 |  0.005338165 | G2M | SCLC | -0.050617521 | 0 | 0 | 0.08421053 | Singlet |\n",
       "| TGCTGCTAGAGAGCTC-1 | SCLC |   704 |  427 | 0.2840909 | -0.0356296567 | -0.062249741 | G1  | SCLC |  0.026620084 | 4 | 4 | 0.14736842 | Singlet |\n",
       "| TGGCCAGGTGCTCTTC-1 | SCLC | 29929 | 1885 | 0.1837683 | -0.0190619556 | -0.013327194 | G1  | SCLC | -0.005734762 | 3 | 3 | 0.29473684 | Singlet |\n",
       "| TGGCGCAGTAGAGCTG-1 | SCLC |  2077 | 1073 | 0.9629273 |  0.0555526907 | -0.011007402 | S   | SCLC |  0.066560093 | 0 | 0 | 0.03157895 | Singlet |\n",
       "| TGGGCGTAGTAATCCC-1 | SCLC |  3998 | 1401 | 2.7013507 |  0.0214837218 |  0.068526597 | G2M | SCLC | -0.047042875 | 1 | 1 | 0.04210526 | Singlet |\n",
       "| TGGGCGTCAACTGGCC-1 | SCLC | 21248 | 1641 | 0.4235693 | -0.0159444017 | -0.025391758 | G1  | SCLC |  0.009447356 | 3 | 3 | 0.30526316 | Singlet |\n",
       "| TGTGGTATCTACGAGT-1 | SCLC | 31478 | 2322 | 0.3971027 | -0.0271795537 | -0.033225728 | G1  | SCLC |  0.006046174 | 2 | 2 | 0.31578947 | Singlet |\n",
       "| TGTGTTTCAATAACGA-1 | SCLC | 33963 | 2012 | 0.7714277 | -0.0009816546 | -0.004432832 | G1  | SCLC |  0.003451177 | 3 | 3 | 0.29473684 | Singlet |\n",
       "| TGTTCCGGTCCGACGT-1 | SCLC | 16991 | 1077 | 0.3413572 | -0.0132361058 | -0.037469302 | G1  | SCLC |  0.024233197 | 2 | 2 | 0.28421053 | Singlet |\n",
       "| TGTTCCGGTCCTCTTG-1 | SCLC | 35852 | 1978 | 0.1534085 | -0.0248773392 | -0.035146474 | G1  | SCLC |  0.010269135 | 3 | 3 | 0.30526316 | Singlet |\n",
       "| TTAGGACTCACGACTA-1 | SCLC |  2824 | 1348 | 3.0453258 |  0.0129269662 |  0.016248097 | G2M | SCLC | -0.003321131 | 1 | 1 | 0.04210526 | Singlet |\n",
       "| TTAGGCAGTCACTGGC-1 | SCLC |  2325 |  979 | 3.9139785 |  0.0607991067 | -0.029262516 | S   | SCLC |  0.090061623 | 1 | 1 | 0.14736842 | Singlet |\n",
       "| TTAGTTCGTTAAGAAC-1 | SCLC |  3052 | 1185 | 3.4731324 |  0.0384955230 |  0.014390494 | S   | SCLC |  0.024105029 | 0 | 0 | 0.07368421 | Singlet |\n",
       "| TTATGCTGTCAACATC-1 | SCLC |   737 |  529 | 0.0000000 |  0.0782988827 | -0.018758769 | S   | SCLC |  0.097057652 | 4 | 4 | 0.37894737 | Doublet |\n",
       "| TTATGCTTCGTCTGCT-1 | SCLC |  1293 |  643 | 3.4029389 |  0.0120573101 | -0.069348293 | S   | SCLC |  0.081405603 | 0 | 0 | 0.09473684 | Singlet |\n",
       "| TTCCCAGAGTACTTGC-1 | SCLC |  1681 |  727 | 1.0113028 |  0.0512856937 | -0.028802475 | S   | SCLC |  0.080088169 | 0 | 0 | 0.06315789 | Singlet |\n",
       "| TTCGAAGTCTTGGGTA-1 | SCLC | 32681 | 1997 | 0.4283835 | -0.0178712047 | -0.011862679 | G1  | SCLC | -0.006008526 | 3 | 3 | 0.30526316 | Singlet |\n",
       "| TTCGGTCGTCTCCATC-1 | SCLC |  2371 |  887 | 2.8679882 | -0.0503615145 | -0.023890506 | G1  | SCLC | -0.026471009 | 0 | 0 | 0.06315789 | Singlet |\n",
       "| TTCGGTCTCTGCGTAA-1 | SCLC |  6755 |  815 | 1.7172465 | -0.0341665394 | -0.042517839 | G1  | SCLC |  0.008351299 | 2 | 2 | 0.27368421 | Singlet |\n",
       "| TTCTACAAGACTACAA-1 | SCLC |  1855 | 1039 | 1.8328841 |  0.1047412412 |  0.065071174 | S   | SCLC |  0.039670067 | 1 | 1 | 0.02105263 | Singlet |\n",
       "| TTCTTAGGTTGACGTT-1 | SCLC |  4488 | 1580 | 1.2254902 | -0.0652875726 | -0.043289991 | G1  | SCLC | -0.021997581 | 1 | 1 | 0.09473684 | Singlet |\n",
       "| TTGAACGAGTGTTGAA-1 | SCLC |  2999 |  999 | 1.9673224 | -0.0256500814 | -0.065870441 | G1  | SCLC |  0.040220359 | 0 | 0 | 0.06315789 | Singlet |\n",
       "| TTGCGTCAGCCACGCT-1 | SCLC |  1909 | 1218 | 2.6191723 | -0.0813561202 | -0.071702833 | G1  | SCLC | -0.009653287 | 1 | 1 | 0.11578947 | Singlet |\n",
       "| TTTACTGTCGCCATAA-1 | SCLC |  1866 |  923 | 0.4823151 |  0.2167543070 | -0.054829302 | S   | SCLC |  0.271583609 | 4 | 4 | 0.28421053 | Singlet |\n",
       "| TTTATGCAGATGTTAG-1 | SCLC |  3060 | 1168 | 3.7908497 | -0.0386829523 |  0.048180263 | G2M | SCLC | -0.086863215 | 1 | 1 | 0.03157895 | Singlet |\n",
       "| TTTCCTCAGGCTCATT-1 | SCLC |  3735 | 1589 | 1.9009371 |  0.0375245074 | -0.026261166 | S   | SCLC |  0.063785673 | 1 | 1 | 0.06315789 | Singlet |\n",
       "| TTTGTCAGTCTCTTAT-1 | SCLC |  1904 |  858 | 4.3067227 | -0.0391964840 |  0.028763779 | G2M | SCLC | -0.067960263 | 0 | 0 | 0.06315789 | Singlet |\n",
       "\n"
      ],
      "text/plain": [
       "                   orig.ident nCount_RNA nFeature_RNA percent.mt S.Score      \n",
       "AAAGTAGAGATGTTAG-1 SCLC         535       395         1.8691589   0.179150363 \n",
       "AACTGGTCATCTATGG-1 SCLC        2917      1316         2.9139527  -0.019603080 \n",
       "AACTTTCAGGCAATTA-1 SCLC       36253      2461         0.9378534  -0.015487703 \n",
       "AACTTTCTCGGCATCG-1 SCLC       22511      2095         1.0039536  -0.026873945 \n",
       "AAGCCGCCAGGGTATG-1 SCLC        2918      1250         2.6730637  -0.011571157 \n",
       "AATCCAGCACCCATGG-1 SCLC        2597       998         2.6569118   0.014336024 \n",
       "ACACCAACATAGGATA-1 SCLC        1081       384         0.0000000   0.031903041 \n",
       "ACACCAAGTCGCTTCT-1 SCLC        1047       419         0.0000000  -0.019167032 \n",
       "ACACCAAGTGGTAACG-1 SCLC        2541      1020         2.8728847   0.007926476 \n",
       "ACACCCTAGACAATAC-1 SCLC        1870       922         3.6898396   0.053810335 \n",
       "ACACCCTCAGGGTACA-1 SCLC        4285      2099         2.6837806  -0.092509617 \n",
       "ACACCGGAGTTATCGC-1 SCLC        6771      2028         0.1624575  -0.057424810 \n",
       "ACAGCCGAGGACGAAA-1 SCLC        1690      1084         2.6035503  -0.003101421 \n",
       "ACAGCCGCACATGACT-1 SCLC        2354      1042         2.5488530  -0.068387767 \n",
       "ACATCAGTCTGTGCAA-1 SCLC        3990      1931         1.3533835   0.090487554 \n",
       "ACCAGTACAAGCTGTT-1 SCLC        4888      2282         2.4345336   0.681729831 \n",
       "ACCGTAAAGCTAGGCA-1 SCLC       29071      1941         0.6398129  -0.029490786 \n",
       "ACGAGCCAGGGCTTGA-1 SCLC        2281       911         4.9539676  -0.051996314 \n",
       "ACGAGCCGTGTTTGGT-1 SCLC        2469      1187         0.8100446  -0.100855728 \n",
       "ACGATACTCCGCGCAA-1 SCLC         860       419         3.0232558  -0.034713749 \n",
       "ACGATGTGTTAAAGTG-1 SCLC         881       484         0.6810443  -0.053548346 \n",
       "ACGCCGATCACGGTTA-1 SCLC         987       362         0.2026342   0.041393230 \n",
       "ACGTCAACAGCTGTAT-1 SCLC       26773      2481         0.7432861  -0.002004579 \n",
       "ACTGAACCAGGGATTG-1 SCLC        6979      2406         3.7971056  -0.063383875 \n",
       "ACTGATGGTGCCTGCA-1 SCLC       34419      2006         0.4822918  -0.030483660 \n",
       "ACTGTCCGTGTTCTTT-1 SCLC        3034      1242         1.4831905   0.040606137 \n",
       "ACTTGTTCAGCTTCGG-1 SCLC       38294      2144         0.3081423  -0.011891445 \n",
       "ACTTGTTTCAGTGTTG-1 SCLC        2520      1038         1.7460317  -0.022831707 \n",
       "AGAATAGAGCTGATAA-1 SCLC       30578      2135         0.4120610  -0.023848283 \n",
       "AGAATAGGTGCCTGTG-1 SCLC        2418      1100         4.2597188   0.014273879 \n",
       "⋮                  ⋮          ⋮          ⋮            ⋮          ⋮            \n",
       "TGCGCAGTCGGCATCG-1 SCLC        3099      1143         2.8718942   0.0541157221\n",
       "TGCGCAGTCTGAAAGA-1 SCLC         667       419         0.2998501  -0.0591275496\n",
       "TGCGGGTCAATGACCT-1 SCLC        3723      1263         2.7128660   0.0059943105\n",
       "TGCGTGGGTTCGTGAT-1 SCLC        1429       712         0.9797061  -0.0452793562\n",
       "TGCTGCTAGAGAGCTC-1 SCLC         704       427         0.2840909  -0.0356296567\n",
       "TGGCCAGGTGCTCTTC-1 SCLC       29929      1885         0.1837683  -0.0190619556\n",
       "TGGCGCAGTAGAGCTG-1 SCLC        2077      1073         0.9629273   0.0555526907\n",
       "TGGGCGTAGTAATCCC-1 SCLC        3998      1401         2.7013507   0.0214837218\n",
       "TGGGCGTCAACTGGCC-1 SCLC       21248      1641         0.4235693  -0.0159444017\n",
       "TGTGGTATCTACGAGT-1 SCLC       31478      2322         0.3971027  -0.0271795537\n",
       "TGTGTTTCAATAACGA-1 SCLC       33963      2012         0.7714277  -0.0009816546\n",
       "TGTTCCGGTCCGACGT-1 SCLC       16991      1077         0.3413572  -0.0132361058\n",
       "TGTTCCGGTCCTCTTG-1 SCLC       35852      1978         0.1534085  -0.0248773392\n",
       "TTAGGACTCACGACTA-1 SCLC        2824      1348         3.0453258   0.0129269662\n",
       "TTAGGCAGTCACTGGC-1 SCLC        2325       979         3.9139785   0.0607991067\n",
       "TTAGTTCGTTAAGAAC-1 SCLC        3052      1185         3.4731324   0.0384955230\n",
       "TTATGCTGTCAACATC-1 SCLC         737       529         0.0000000   0.0782988827\n",
       "TTATGCTTCGTCTGCT-1 SCLC        1293       643         3.4029389   0.0120573101\n",
       "TTCCCAGAGTACTTGC-1 SCLC        1681       727         1.0113028   0.0512856937\n",
       "TTCGAAGTCTTGGGTA-1 SCLC       32681      1997         0.4283835  -0.0178712047\n",
       "TTCGGTCGTCTCCATC-1 SCLC        2371       887         2.8679882  -0.0503615145\n",
       "TTCGGTCTCTGCGTAA-1 SCLC        6755       815         1.7172465  -0.0341665394\n",
       "TTCTACAAGACTACAA-1 SCLC        1855      1039         1.8328841   0.1047412412\n",
       "TTCTTAGGTTGACGTT-1 SCLC        4488      1580         1.2254902  -0.0652875726\n",
       "TTGAACGAGTGTTGAA-1 SCLC        2999       999         1.9673224  -0.0256500814\n",
       "TTGCGTCAGCCACGCT-1 SCLC        1909      1218         2.6191723  -0.0813561202\n",
       "TTTACTGTCGCCATAA-1 SCLC        1866       923         0.4823151   0.2167543070\n",
       "TTTATGCAGATGTTAG-1 SCLC        3060      1168         3.7908497  -0.0386829523\n",
       "TTTCCTCAGGCTCATT-1 SCLC        3735      1589         1.9009371   0.0375245074\n",
       "TTTGTCAGTCTCTTAT-1 SCLC        1904       858         4.3067227  -0.0391964840\n",
       "                   G2M.Score     Phase old.ident CC.Difference RNA_snn_res.1\n",
       "AAAGTAGAGATGTTAG-1  0.0132207010 S     SCLC       0.165929662  4            \n",
       "AACTGGTCATCTATGG-1 -0.0244220213 G1    SCLC       0.004818942  1            \n",
       "AACTTTCAGGCAATTA-1 -0.0272584179 G1    SCLC       0.011770715  3            \n",
       "AACTTTCTCGGCATCG-1 -0.0528573274 G1    SCLC       0.025983383  3            \n",
       "AAGCCGCCAGGGTATG-1 -0.0404744912 G1    SCLC       0.028903334  0            \n",
       "AATCCAGCACCCATGG-1 -0.0537257498 S     SCLC       0.068061774  0            \n",
       "ACACCAACATAGGATA-1  0.0004966466 S     SCLC       0.031406394  0            \n",
       "ACACCAAGTCGCTTCT-1 -0.0441618798 G1    SCLC       0.024994848  0            \n",
       "ACACCAAGTGGTAACG-1 -0.0160432516 S     SCLC       0.023969728  0            \n",
       "ACACCCTAGACAATAC-1  0.0001728283 S     SCLC       0.053637507  1            \n",
       "ACACCCTCAGGGTACA-1 -0.0252578898 G1    SCLC      -0.067251727  1            \n",
       "ACACCGGAGTTATCGC-1 -0.1265158165 G1    SCLC       0.069091007  1            \n",
       "ACAGCCGAGGACGAAA-1 -0.0735584177 G1    SCLC       0.070456997  1            \n",
       "ACAGCCGCACATGACT-1  0.0078306200 G2M   SCLC      -0.076218387  1            \n",
       "ACATCAGTCTGTGCAA-1  0.0504814271 S     SCLC       0.040006127  1            \n",
       "ACCAGTACAAGCTGTT-1  0.1785283213 S     SCLC       0.503201509  1            \n",
       "ACCGTAAAGCTAGGCA-1 -0.0101423501 G1    SCLC      -0.019348436  2            \n",
       "ACGAGCCAGGGCTTGA-1  0.0228236944 G2M   SCLC      -0.074820008  0            \n",
       "ACGAGCCGTGTTTGGT-1 -0.0185686147 G1    SCLC      -0.082287113  0            \n",
       "ACGATACTCCGCGCAA-1 -0.0499529300 G1    SCLC       0.015239181  0            \n",
       "ACGATGTGTTAAAGTG-1  0.0543168519 G2M   SCLC      -0.107865198  1            \n",
       "ACGCCGATCACGGTTA-1 -0.0515196281 S     SCLC       0.092912858  4            \n",
       "ACGTCAACAGCTGTAT-1 -0.0309084274 G1    SCLC       0.028903848  3            \n",
       "ACTGAACCAGGGATTG-1 -0.1126566260 G1    SCLC       0.049272751  4            \n",
       "ACTGATGGTGCCTGCA-1 -0.0358392424 G1    SCLC       0.005355583  3            \n",
       "ACTGTCCGTGTTCTTT-1 -0.0218032005 S     SCLC       0.062409338  1            \n",
       "ACTTGTTCAGCTTCGG-1 -0.0146184672 G1    SCLC       0.002727023  3            \n",
       "ACTTGTTTCAGTGTTG-1 -0.0269372525 G1    SCLC       0.004105546  0            \n",
       "AGAATAGAGCTGATAA-1 -0.0219307105 G1    SCLC      -0.001917572  2            \n",
       "AGAATAGGTGCCTGTG-1 -0.0068680504 S     SCLC       0.021141929  1            \n",
       "⋮                  ⋮             ⋮     ⋮         ⋮             ⋮            \n",
       "TGCGCAGTCGGCATCG-1  0.013640007  S     SCLC       0.040475715  0            \n",
       "TGCGCAGTCTGAAAGA-1 -0.072099844  G1    SCLC       0.012972294  0            \n",
       "TGCGGGTCAATGACCT-1 -0.042457760  S     SCLC       0.048452071  1            \n",
       "TGCGTGGGTTCGTGAT-1  0.005338165  G2M   SCLC      -0.050617521  0            \n",
       "TGCTGCTAGAGAGCTC-1 -0.062249741  G1    SCLC       0.026620084  4            \n",
       "TGGCCAGGTGCTCTTC-1 -0.013327194  G1    SCLC      -0.005734762  3            \n",
       "TGGCGCAGTAGAGCTG-1 -0.011007402  S     SCLC       0.066560093  0            \n",
       "TGGGCGTAGTAATCCC-1  0.068526597  G2M   SCLC      -0.047042875  1            \n",
       "TGGGCGTCAACTGGCC-1 -0.025391758  G1    SCLC       0.009447356  3            \n",
       "TGTGGTATCTACGAGT-1 -0.033225728  G1    SCLC       0.006046174  2            \n",
       "TGTGTTTCAATAACGA-1 -0.004432832  G1    SCLC       0.003451177  3            \n",
       "TGTTCCGGTCCGACGT-1 -0.037469302  G1    SCLC       0.024233197  2            \n",
       "TGTTCCGGTCCTCTTG-1 -0.035146474  G1    SCLC       0.010269135  3            \n",
       "TTAGGACTCACGACTA-1  0.016248097  G2M   SCLC      -0.003321131  1            \n",
       "TTAGGCAGTCACTGGC-1 -0.029262516  S     SCLC       0.090061623  1            \n",
       "TTAGTTCGTTAAGAAC-1  0.014390494  S     SCLC       0.024105029  0            \n",
       "TTATGCTGTCAACATC-1 -0.018758769  S     SCLC       0.097057652  4            \n",
       "TTATGCTTCGTCTGCT-1 -0.069348293  S     SCLC       0.081405603  0            \n",
       "TTCCCAGAGTACTTGC-1 -0.028802475  S     SCLC       0.080088169  0            \n",
       "TTCGAAGTCTTGGGTA-1 -0.011862679  G1    SCLC      -0.006008526  3            \n",
       "TTCGGTCGTCTCCATC-1 -0.023890506  G1    SCLC      -0.026471009  0            \n",
       "TTCGGTCTCTGCGTAA-1 -0.042517839  G1    SCLC       0.008351299  2            \n",
       "TTCTACAAGACTACAA-1  0.065071174  S     SCLC       0.039670067  1            \n",
       "TTCTTAGGTTGACGTT-1 -0.043289991  G1    SCLC      -0.021997581  1            \n",
       "TTGAACGAGTGTTGAA-1 -0.065870441  G1    SCLC       0.040220359  0            \n",
       "TTGCGTCAGCCACGCT-1 -0.071702833  G1    SCLC      -0.009653287  1            \n",
       "TTTACTGTCGCCATAA-1 -0.054829302  S     SCLC       0.271583609  4            \n",
       "TTTATGCAGATGTTAG-1  0.048180263  G2M   SCLC      -0.086863215  1            \n",
       "TTTCCTCAGGCTCATT-1 -0.026261166  S     SCLC       0.063785673  1            \n",
       "TTTGTCAGTCTCTTAT-1  0.028763779  G2M   SCLC      -0.067960263  0            \n",
       "                   seurat_clusters pANN_0.25_0.26_16\n",
       "AAAGTAGAGATGTTAG-1 4               0.17894737       \n",
       "AACTGGTCATCTATGG-1 1               0.05263158       \n",
       "AACTTTCAGGCAATTA-1 3               0.32631579       \n",
       "AACTTTCTCGGCATCG-1 3               0.35789474       \n",
       "AAGCCGCCAGGGTATG-1 0               0.04210526       \n",
       "AATCCAGCACCCATGG-1 0               0.04210526       \n",
       "ACACCAACATAGGATA-1 0               0.30526316       \n",
       "ACACCAAGTCGCTTCT-1 0               0.24210526       \n",
       "ACACCAAGTGGTAACG-1 0               0.04210526       \n",
       "ACACCCTAGACAATAC-1 1               0.04210526       \n",
       "ACACCCTCAGGGTACA-1 1               0.10526316       \n",
       "ACACCGGAGTTATCGC-1 1               0.10526316       \n",
       "ACAGCCGAGGACGAAA-1 1               0.08421053       \n",
       "ACAGCCGCACATGACT-1 1               0.04210526       \n",
       "ACATCAGTCTGTGCAA-1 1               0.12631579       \n",
       "ACCAGTACAAGCTGTT-1 1               0.08421053       \n",
       "ACCGTAAAGCTAGGCA-1 2               0.30526316       \n",
       "ACGAGCCAGGGCTTGA-1 0               0.09473684       \n",
       "ACGAGCCGTGTTTGGT-1 0               0.20000000       \n",
       "ACGATACTCCGCGCAA-1 0               0.16842105       \n",
       "ACGATGTGTTAAAGTG-1 1               0.27368421       \n",
       "ACGCCGATCACGGTTA-1 4               0.27368421       \n",
       "ACGTCAACAGCTGTAT-1 3               0.35789474       \n",
       "ACTGAACCAGGGATTG-1 4               0.08421053       \n",
       "ACTGATGGTGCCTGCA-1 3               0.29473684       \n",
       "ACTGTCCGTGTTCTTT-1 1               0.05263158       \n",
       "ACTTGTTCAGCTTCGG-1 3               0.30526316       \n",
       "ACTTGTTTCAGTGTTG-1 0               0.04210526       \n",
       "AGAATAGAGCTGATAA-1 2               0.31578947       \n",
       "AGAATAGGTGCCTGTG-1 1               0.05263158       \n",
       "⋮                  ⋮               ⋮                \n",
       "TGCGCAGTCGGCATCG-1 0               0.07368421       \n",
       "TGCGCAGTCTGAAAGA-1 0               0.32631579       \n",
       "TGCGGGTCAATGACCT-1 1               0.06315789       \n",
       "TGCGTGGGTTCGTGAT-1 0               0.08421053       \n",
       "TGCTGCTAGAGAGCTC-1 4               0.14736842       \n",
       "TGGCCAGGTGCTCTTC-1 3               0.29473684       \n",
       "TGGCGCAGTAGAGCTG-1 0               0.03157895       \n",
       "TGGGCGTAGTAATCCC-1 1               0.04210526       \n",
       "TGGGCGTCAACTGGCC-1 3               0.30526316       \n",
       "TGTGGTATCTACGAGT-1 2               0.31578947       \n",
       "TGTGTTTCAATAACGA-1 3               0.29473684       \n",
       "TGTTCCGGTCCGACGT-1 2               0.28421053       \n",
       "TGTTCCGGTCCTCTTG-1 3               0.30526316       \n",
       "TTAGGACTCACGACTA-1 1               0.04210526       \n",
       "TTAGGCAGTCACTGGC-1 1               0.14736842       \n",
       "TTAGTTCGTTAAGAAC-1 0               0.07368421       \n",
       "TTATGCTGTCAACATC-1 4               0.37894737       \n",
       "TTATGCTTCGTCTGCT-1 0               0.09473684       \n",
       "TTCCCAGAGTACTTGC-1 0               0.06315789       \n",
       "TTCGAAGTCTTGGGTA-1 3               0.30526316       \n",
       "TTCGGTCGTCTCCATC-1 0               0.06315789       \n",
       "TTCGGTCTCTGCGTAA-1 2               0.27368421       \n",
       "TTCTACAAGACTACAA-1 1               0.02105263       \n",
       "TTCTTAGGTTGACGTT-1 1               0.09473684       \n",
       "TTGAACGAGTGTTGAA-1 0               0.06315789       \n",
       "TTGCGTCAGCCACGCT-1 1               0.11578947       \n",
       "TTTACTGTCGCCATAA-1 4               0.28421053       \n",
       "TTTATGCAGATGTTAG-1 1               0.03157895       \n",
       "TTTCCTCAGGCTCATT-1 1               0.06315789       \n",
       "TTTGTCAGTCTCTTAT-1 0               0.06315789       \n",
       "                   DF.classifications_0.25_0.26_16\n",
       "AAAGTAGAGATGTTAG-1 Singlet                        \n",
       "AACTGGTCATCTATGG-1 Singlet                        \n",
       "AACTTTCAGGCAATTA-1 Doublet                        \n",
       "AACTTTCTCGGCATCG-1 Doublet                        \n",
       "AAGCCGCCAGGGTATG-1 Singlet                        \n",
       "AATCCAGCACCCATGG-1 Singlet                        \n",
       "ACACCAACATAGGATA-1 Singlet                        \n",
       "ACACCAAGTCGCTTCT-1 Singlet                        \n",
       "ACACCAAGTGGTAACG-1 Singlet                        \n",
       "ACACCCTAGACAATAC-1 Singlet                        \n",
       "ACACCCTCAGGGTACA-1 Singlet                        \n",
       "ACACCGGAGTTATCGC-1 Singlet                        \n",
       "ACAGCCGAGGACGAAA-1 Singlet                        \n",
       "ACAGCCGCACATGACT-1 Singlet                        \n",
       "ACATCAGTCTGTGCAA-1 Singlet                        \n",
       "ACCAGTACAAGCTGTT-1 Singlet                        \n",
       "ACCGTAAAGCTAGGCA-1 Singlet                        \n",
       "ACGAGCCAGGGCTTGA-1 Singlet                        \n",
       "ACGAGCCGTGTTTGGT-1 Singlet                        \n",
       "ACGATACTCCGCGCAA-1 Singlet                        \n",
       "ACGATGTGTTAAAGTG-1 Singlet                        \n",
       "ACGCCGATCACGGTTA-1 Singlet                        \n",
       "ACGTCAACAGCTGTAT-1 Doublet                        \n",
       "ACTGAACCAGGGATTG-1 Singlet                        \n",
       "ACTGATGGTGCCTGCA-1 Singlet                        \n",
       "ACTGTCCGTGTTCTTT-1 Singlet                        \n",
       "ACTTGTTCAGCTTCGG-1 Singlet                        \n",
       "ACTTGTTTCAGTGTTG-1 Singlet                        \n",
       "AGAATAGAGCTGATAA-1 Singlet                        \n",
       "AGAATAGGTGCCTGTG-1 Singlet                        \n",
       "⋮                  ⋮                              \n",
       "TGCGCAGTCGGCATCG-1 Singlet                        \n",
       "TGCGCAGTCTGAAAGA-1 Doublet                        \n",
       "TGCGGGTCAATGACCT-1 Singlet                        \n",
       "TGCGTGGGTTCGTGAT-1 Singlet                        \n",
       "TGCTGCTAGAGAGCTC-1 Singlet                        \n",
       "TGGCCAGGTGCTCTTC-1 Singlet                        \n",
       "TGGCGCAGTAGAGCTG-1 Singlet                        \n",
       "TGGGCGTAGTAATCCC-1 Singlet                        \n",
       "TGGGCGTCAACTGGCC-1 Singlet                        \n",
       "TGTGGTATCTACGAGT-1 Singlet                        \n",
       "TGTGTTTCAATAACGA-1 Singlet                        \n",
       "TGTTCCGGTCCGACGT-1 Singlet                        \n",
       "TGTTCCGGTCCTCTTG-1 Singlet                        \n",
       "TTAGGACTCACGACTA-1 Singlet                        \n",
       "TTAGGCAGTCACTGGC-1 Singlet                        \n",
       "TTAGTTCGTTAAGAAC-1 Singlet                        \n",
       "TTATGCTGTCAACATC-1 Doublet                        \n",
       "TTATGCTTCGTCTGCT-1 Singlet                        \n",
       "TTCCCAGAGTACTTGC-1 Singlet                        \n",
       "TTCGAAGTCTTGGGTA-1 Singlet                        \n",
       "TTCGGTCGTCTCCATC-1 Singlet                        \n",
       "TTCGGTCTCTGCGTAA-1 Singlet                        \n",
       "TTCTACAAGACTACAA-1 Singlet                        \n",
       "TTCTTAGGTTGACGTT-1 Singlet                        \n",
       "TTGAACGAGTGTTGAA-1 Singlet                        \n",
       "TTGCGTCAGCCACGCT-1 Singlet                        \n",
       "TTTACTGTCGCCATAA-1 Singlet                        \n",
       "TTTATGCAGATGTTAG-1 Singlet                        \n",
       "TTTCCTCAGGCTCATT-1 Singlet                        \n",
       "TTTGTCAGTCTCTTAT-1 Singlet                        "
      ]
     },
     "metadata": {},
     "output_type": "display_data"
    },
    {
     "data": {
      "image/png": "[encoded data removed]",
      "text/plain": [
       "plot without title"
      ]
     },
     "metadata": {
      "image/png": {
       "height": 420,
       "width": 420
      }
     },
     "output_type": "display_data"
    }
   ],
   "source": [
    "# Plotting for cell cycle scores\n",
    "##### seeing the object formed for cell cycle scores ####\n",
    "#head(dat_seurat_obj_filtered[[]])\n",
    "#str(dat_seurat_obj_filtered)\n",
    "#Getting Cell cycle scores from the seurat object \n",
    "S_score <- dat_seurat_obj_filtered@meta.data$S.Score\n",
    "g2m_score <- dat_seurat_obj_filtered@meta.data$G2M.Score\n",
    "cluster_info <- as.numeric(as.character(dat_seurat_obj_filtered@meta.data$seurat_clusters))\n",
    "Phase <- dat_seurat_obj_filtered@meta.data$Phase\n",
    "# View(S_score)\n",
    "# View(g2m_score)\n",
    "# View(cluster_info)\n",
    "# View(Phase)\n",
    "# making dataframe by combining relative stuff what we want to show in plot\n",
    "cell_df <- cbind(cluster_info, Phase, g2m_score, S_score)\n",
    "\n",
    "## converting to dataframe and calculating the percentage for stacked bar plot \n",
    "# link - https://rpubs.com/techanswers88/stackedbarcharts\n",
    "cell_df <- data.frame(cell_df)\n",
    "dt <- cell_df%>%\n",
    "  dplyr::group_by(cluster_info, Phase)%>%\n",
    "  dplyr::tally()%>%\n",
    "  dplyr::mutate(percent=n/sum(n))\n",
    "\n",
    "## plotting the result \n",
    "# pl <- ggplot(data = dt,aes(x= cluster_info, y = n,fill = Phase))\n",
    "# pl <- pl + geom_bar(stat=\"identity\")\n",
    "# pl <- pl + geom_text(aes(label=paste0(sprintf(\"%1.1f\", percent*100),\"%\")),\n",
    "#                      position=position_stack(vjust=0.5), colour=\"white\", size = 2)\n",
    "\n",
    "\n",
    "# pl <- pl  + theme(axis.text.x = element_text(angle = 90,hjust =0 ))\n",
    "# pl\n",
    "png(\"/data/kumarr9/scRNA/atac.scRNA.parth/SCAF2037/alternate_cell_cycle_regress_out/cell_cycle.jpg\", width = 2000, height = 1200, res=300)\n",
    "pl <- ggplot(data = dt,aes(x= cluster_info, y = n,fill = Phase))\n",
    "pl <- pl + geom_bar(stat=\"identity\", position =\"fill\")\n",
    "pl <- pl + geom_text(aes(label=paste0(sprintf(\"%1.1f\", percent*100),\"%\")),\n",
    "                     position=position_fill(vjust=0.5), colour=\"black\", size =3)\n",
    "\n",
    "pl <- pl + theme_minimal()\n",
    "#pl <- pl + labs(title =\"Cell cycle score for SCAF2229\")\n",
    "#pl <- pl + labs(subtitle =\"plot\")\n",
    "pl <- pl + labs(caption =\"Cell cycle score for SCAF2221\")\n",
    "pl <- pl  + labs(x =\"Cluster\", y = \"Percentage\")\n",
    "pl <- pl  + theme(axis.text.x = element_text(angle = 90,hjust =0 )) + coord_flip()\n",
    "pl\n",
    "dev.off()\n",
    "\n",
    "### cell cycle plot without percent label\n",
    "png(\"/data/kumarr9/scRNA/atac.scRNA.parth/SCAF2037/alternate_cell_cycle_regress_out/cell_cycle_SCAF2037.jpg\", width = 2000, height = 1200, res=300)\n",
    "ggplot(dt, aes(x = cluster_info, y = percent, fill = Phase))+\n",
    "  geom_col()\n",
    "dev.off()\n",
    "### we finished with data pre-processing prior to any doublet finder --- Now we can go for doublet finder \n",
    "### Important points - 1. Doublet finder needs to be done on each sample separately, prior to aggregating \n",
    "## pk identification --- no ground truth approach\n",
    "# link -- https://rdrr.io/github/chris-mcginnis-ucsf/DoubletFinder/man/doubletFinder_ParamSweep.html\n",
    "# link - https://www.youtube.com/watch?v=NqvAS4HgmrE\n",
    "## required packages \n",
    "#install.packages(\"remotes\")\n",
    "#remotes::install_github(\"chris-mcginnis-ucsf/DoubletFinder\", force=TRUE)\n",
    "#library(DoubletFinder)\n",
    "\n",
    "## step 13. Doublet Finding\n",
    "sweep.list_SCAF3163 <- paramSweep_v3(dat_seurat_obj_filtered, PCs =1:20, sct=FALSE)\n",
    "sweep.stats_SCAF3163 <- summarizeSweep(sweep.list_SCAF3163, GT = FALSE)\n",
    "bcmvn_SCAF3163 <- find.pK(sweep.stats_SCAF3163)\n",
    "\n",
    "### plotting the results --- highest value in plot is your optimal pK\n",
    "png(\"/data/kumarr9/scRNA/atac.scRNA.parth/SCAF2037/alternate_cell_cycle_regress_out/optimal_k.jpg\", width = 3000, height = 2000, res=300)\n",
    "ggplot(bcmvn_SCAF3163, aes(pK, BCmetric, group=1))+\n",
    "geom_point()+\n",
    "geom_line()\n",
    "dev.off()\n",
    "\n",
    "\n",
    "### storing the highest pk value to a pk variable\n",
    "pK <- bcmvn_SCAF3163 %>%\n",
    "      filter(BCmetric == max(BCmetric)) %>%\n",
    "      select(pK)\n",
    "pK <- as.numeric(as.character(pK[[1]]))\n",
    "\n",
    "\n",
    "### Homotypic doublet proprotion estimation\n",
    "annotations <- dat_seurat_obj_filtered@meta.data$seurat_clusters\n",
    "homotypic.prop <- modelHomotypic(annotations)\n",
    "nExp_poi <- round(0.076*nrow(dat_seurat_obj_filtered@meta.data))\n",
    "nExp_poi.adj <- round(nExp_poi*(1-homotypic.prop))\n",
    "\n",
    "\n",
    "#### run Doubletfinder \n",
    "dat_seurat_obj_filtered <- doubletFinder_v3(dat_seurat_obj_filtered, PCs = 1:20, pN = 0.25, pK = pK, nExp = nExp_poi.adj, reuse.pANN = FALSE, sct = FALSE)\n",
    "## Viewing data frame \n",
    "View(dat_seurat_obj_filtered@meta.data)"
   ]
  },
  {
   "cell_type": "code",
   "execution_count": 5,
   "id": "e50771d9",
   "metadata": {},
   "outputs": [
    {
     "data": {
      "text/html": [
       "<style>\n",
       ".list-inline {list-style: none; margin:0; padding: 0}\n",
       ".list-inline>li {display: inline-block}\n",
       ".list-inline>li:not(:last-child)::after {content: \"\\00b7\"; padding: 0 .5ex}\n",
       "</style>\n",
       "<ol class=list-inline><li>'orig.ident'</li><li>'nCount_RNA'</li><li>'nFeature_RNA'</li><li>'percent.mt'</li><li>'S.Score'</li><li>'G2M.Score'</li><li>'Phase'</li><li>'old.ident'</li><li>'CC.Difference'</li><li>'RNA_snn_res.1'</li><li>'seurat_clusters'</li><li>'pANN_0.25_0.26_16'</li><li>'DF.classifications_0.25_0.26_16'</li></ol>\n"
      ],
      "text/latex": [
       "\\begin{enumerate*}\n",
       "\\item 'orig.ident'\n",
       "\\item 'nCount\\_RNA'\n",
       "\\item 'nFeature\\_RNA'\n",
       "\\item 'percent.mt'\n",
       "\\item 'S.Score'\n",
       "\\item 'G2M.Score'\n",
       "\\item 'Phase'\n",
       "\\item 'old.ident'\n",
       "\\item 'CC.Difference'\n",
       "\\item 'RNA\\_snn\\_res.1'\n",
       "\\item 'seurat\\_clusters'\n",
       "\\item 'pANN\\_0.25\\_0.26\\_16'\n",
       "\\item 'DF.classifications\\_0.25\\_0.26\\_16'\n",
       "\\end{enumerate*}\n"
      ],
      "text/markdown": [
       "1. 'orig.ident'\n",
       "2. 'nCount_RNA'\n",
       "3. 'nFeature_RNA'\n",
       "4. 'percent.mt'\n",
       "5. 'S.Score'\n",
       "6. 'G2M.Score'\n",
       "7. 'Phase'\n",
       "8. 'old.ident'\n",
       "9. 'CC.Difference'\n",
       "10. 'RNA_snn_res.1'\n",
       "11. 'seurat_clusters'\n",
       "12. 'pANN_0.25_0.26_16'\n",
       "13. 'DF.classifications_0.25_0.26_16'\n",
       "\n",
       "\n"
      ],
      "text/plain": [
       " [1] \"orig.ident\"                      \"nCount_RNA\"                     \n",
       " [3] \"nFeature_RNA\"                    \"percent.mt\"                     \n",
       " [5] \"S.Score\"                         \"G2M.Score\"                      \n",
       " [7] \"Phase\"                           \"old.ident\"                      \n",
       " [9] \"CC.Difference\"                   \"RNA_snn_res.1\"                  \n",
       "[11] \"seurat_clusters\"                 \"pANN_0.25_0.26_16\"              \n",
       "[13] \"DF.classifications_0.25_0.26_16\""
      ]
     },
     "metadata": {},
     "output_type": "display_data"
    },
    {
     "data": {
      "text/html": [
       "21"
      ],
      "text/latex": [
       "21"
      ],
      "text/markdown": [
       "21"
      ],
      "text/plain": [
       "[1] 21"
      ]
     },
     "metadata": {},
     "output_type": "display_data"
    },
    {
     "data": {
      "text/html": [
       "16"
      ],
      "text/latex": [
       "16"
      ],
      "text/markdown": [
       "16"
      ],
      "text/plain": [
       "[1] 16"
      ]
     },
     "metadata": {},
     "output_type": "display_data"
    }
   ],
   "source": [
    "# before plotting we need to see following items in our data\n",
    "names(dat_seurat_obj_filtered@meta.data)\n",
    "# from there we got the DF.classification, which we need for plot\n",
    "# homotypic.prop\n",
    "nExp_poi ## number of expected doublets\n",
    "nExp_poi.adj ## number of actual doublets"
   ]
  },
  {
   "cell_type": "code",
   "execution_count": 6,
   "id": "e0db210b",
   "metadata": {},
   "outputs": [
    {
     "data": {
      "text/html": [
       "<strong>png:</strong> 2"
      ],
      "text/latex": [
       "\\textbf{png:} 2"
      ],
      "text/markdown": [
       "**png:** 2"
      ],
      "text/plain": [
       "png \n",
       "  2 "
      ]
     },
     "metadata": {},
     "output_type": "display_data"
    },
    {
     "data": {
      "text/html": [
       "<strong>png:</strong> 2"
      ],
      "text/latex": [
       "\\textbf{png:} 2"
      ],
      "text/markdown": [
       "**png:** 2"
      ],
      "text/plain": [
       "png \n",
       "  2 "
      ]
     },
     "metadata": {},
     "output_type": "display_data"
    }
   ],
   "source": [
    "### visulaize the doublets \n",
    "png(\"/data/kumarr9/scRNA/atac.scRNA.parth/SCAF2037/alternate_cell_cycle_regress_out/doublets.jpg\", width = 3000, height = 2000, res=300)\n",
    "DimPlot(dat_seurat_obj_filtered, reduction = \"umap\", label = TRUE, group.by = \"DF.classifications_0.25_0.26_16\")\n",
    "dev.off()\n",
    "\n",
    "## Step 13. Doublets removal\n",
    "#since we have the name doublets in one of our meta data column of a \"dat_seurat_obj_filtered@meta_data\", this column has singlet and doublet information\n",
    "#we can only select singlet by specifying values and so\n",
    "#Link --- https://nbisweden.github.io/workshop-scRNAseq/labs/compiled/seurat/seurat_01_qc.html\n",
    "#data.filt = data.filt[, data.filt@meta.data[, DF.name] == \"Singlet\"]\n",
    "data.filt = dat_seurat_obj_filtered[, dat_seurat_obj_filtered@meta.data[, \"DF.classifications_0.25_0.26_16\"] == \"Singlet\"]\n",
    "#dim(data.filt)\n",
    "\n",
    "### ploting the doublet removed dataset for PC & UMAP\n",
    "#png(\"/data/kumarr9/scRNA/scRNA_results/SCAF3163/UMAP_doublets_removed.jpg\", width = 3000, height = 2000, res=300)\n",
    "#DimPlot(data.filt, reduction = \"umap\", label = TRUE, group.by = \"DF.classifications_0.25_0.01_145\")\n",
    "#dev.off()\n",
    "\n",
    "\n",
    "### plotting the doublet removed dataset with cluster info \n",
    "png(\"/data/kumarr9/scRNA/atac.scRNA.parth/SCAF2037/alternate_cell_cycle_regress_out/without_doublets.jpg\", width = 3000, height = 2000, res=300)\n",
    "DimPlot(data.filt, reduction = \"umap\", label = TRUE)\n",
    "dev.off()\n",
    "\n",
    "\n",
    "\n"
   ]
  },
  {
   "cell_type": "code",
   "execution_count": 7,
   "id": "6ed15f97",
   "metadata": {
    "scrolled": true
   },
   "outputs": [
    {
     "name": "stderr",
     "output_type": "stream",
     "text": [
      "Calculating cluster 0\n",
      "\n",
      "Calculating cluster 1\n",
      "\n",
      "Calculating cluster 2\n",
      "\n",
      "Calculating cluster 3\n",
      "\n",
      "Calculating cluster 4\n",
      "\n"
     ]
    },
    {
     "data": {
      "text/html": [
       "<table class=\"dataframe\">\n",
       "<caption>A grouped_df: 10 × 7</caption>\n",
       "<thead>\n",
       "\t<tr><th scope=col>p_val</th><th scope=col>avg_log2FC</th><th scope=col>pct.1</th><th scope=col>pct.2</th><th scope=col>p_val_adj</th><th scope=col>cluster</th><th scope=col>gene</th></tr>\n",
       "\t<tr><th scope=col>&lt;dbl&gt;</th><th scope=col>&lt;dbl&gt;</th><th scope=col>&lt;dbl&gt;</th><th scope=col>&lt;dbl&gt;</th><th scope=col>&lt;dbl&gt;</th><th scope=col>&lt;fct&gt;</th><th scope=col>&lt;chr&gt;</th></tr>\n",
       "</thead>\n",
       "<tbody>\n",
       "\t<tr><td>3.062384e-26</td><td>3.319732</td><td>0.783</td><td>0.139</td><td>4.890321e-22</td><td>0</td><td>IL7R    </td></tr>\n",
       "\t<tr><td>1.104780e-12</td><td>2.796100</td><td>0.533</td><td>0.145</td><td>1.764223e-08</td><td>0</td><td>LTB     </td></tr>\n",
       "\t<tr><td>1.490899e-15</td><td>5.102063</td><td>0.488</td><td>0.073</td><td>2.380817e-11</td><td>1</td><td>GNLY    </td></tr>\n",
       "\t<tr><td>1.463923e-20</td><td>4.973677</td><td>0.512</td><td>0.034</td><td>2.337739e-16</td><td>1</td><td>GZMB    </td></tr>\n",
       "\t<tr><td>4.506473e-06</td><td>9.750836</td><td>0.275</td><td>0.055</td><td>7.196386e-02</td><td>2</td><td>IGHV3-30</td></tr>\n",
       "\t<tr><td>9.298355e-08</td><td>5.571970</td><td>0.475</td><td>0.138</td><td>1.484854e-03</td><td>2</td><td>IGHG2   </td></tr>\n",
       "\t<tr><td>3.094935e-17</td><td>8.170423</td><td>0.545</td><td>0.034</td><td>4.942301e-13</td><td>3</td><td>IGHV3-53</td></tr>\n",
       "\t<tr><td>2.755291e-14</td><td>5.145153</td><td>0.409</td><td>0.021</td><td>4.399923e-10</td><td>3</td><td>IGHV1-24</td></tr>\n",
       "\t<tr><td>2.115731e-12</td><td>5.047429</td><td>0.250</td><td>0.004</td><td>3.378611e-08</td><td>4</td><td>WFDC2   </td></tr>\n",
       "\t<tr><td>7.478706e-13</td><td>4.767131</td><td>0.417</td><td>0.034</td><td>1.194275e-08</td><td>4</td><td>ID1     </td></tr>\n",
       "</tbody>\n",
       "</table>\n"
      ],
      "text/latex": [
       "A grouped\\_df: 10 × 7\n",
       "\\begin{tabular}{lllllll}\n",
       " p\\_val & avg\\_log2FC & pct.1 & pct.2 & p\\_val\\_adj & cluster & gene\\\\\n",
       " <dbl> & <dbl> & <dbl> & <dbl> & <dbl> & <fct> & <chr>\\\\\n",
       "\\hline\n",
       "\t 3.062384e-26 & 3.319732 & 0.783 & 0.139 & 4.890321e-22 & 0 & IL7R    \\\\\n",
       "\t 1.104780e-12 & 2.796100 & 0.533 & 0.145 & 1.764223e-08 & 0 & LTB     \\\\\n",
       "\t 1.490899e-15 & 5.102063 & 0.488 & 0.073 & 2.380817e-11 & 1 & GNLY    \\\\\n",
       "\t 1.463923e-20 & 4.973677 & 0.512 & 0.034 & 2.337739e-16 & 1 & GZMB    \\\\\n",
       "\t 4.506473e-06 & 9.750836 & 0.275 & 0.055 & 7.196386e-02 & 2 & IGHV3-30\\\\\n",
       "\t 9.298355e-08 & 5.571970 & 0.475 & 0.138 & 1.484854e-03 & 2 & IGHG2   \\\\\n",
       "\t 3.094935e-17 & 8.170423 & 0.545 & 0.034 & 4.942301e-13 & 3 & IGHV3-53\\\\\n",
       "\t 2.755291e-14 & 5.145153 & 0.409 & 0.021 & 4.399923e-10 & 3 & IGHV1-24\\\\\n",
       "\t 2.115731e-12 & 5.047429 & 0.250 & 0.004 & 3.378611e-08 & 4 & WFDC2   \\\\\n",
       "\t 7.478706e-13 & 4.767131 & 0.417 & 0.034 & 1.194275e-08 & 4 & ID1     \\\\\n",
       "\\end{tabular}\n"
      ],
      "text/markdown": [
       "\n",
       "A grouped_df: 10 × 7\n",
       "\n",
       "| p_val &lt;dbl&gt; | avg_log2FC &lt;dbl&gt; | pct.1 &lt;dbl&gt; | pct.2 &lt;dbl&gt; | p_val_adj &lt;dbl&gt; | cluster &lt;fct&gt; | gene &lt;chr&gt; |\n",
       "|---|---|---|---|---|---|---|\n",
       "| 3.062384e-26 | 3.319732 | 0.783 | 0.139 | 4.890321e-22 | 0 | IL7R     |\n",
       "| 1.104780e-12 | 2.796100 | 0.533 | 0.145 | 1.764223e-08 | 0 | LTB      |\n",
       "| 1.490899e-15 | 5.102063 | 0.488 | 0.073 | 2.380817e-11 | 1 | GNLY     |\n",
       "| 1.463923e-20 | 4.973677 | 0.512 | 0.034 | 2.337739e-16 | 1 | GZMB     |\n",
       "| 4.506473e-06 | 9.750836 | 0.275 | 0.055 | 7.196386e-02 | 2 | IGHV3-30 |\n",
       "| 9.298355e-08 | 5.571970 | 0.475 | 0.138 | 1.484854e-03 | 2 | IGHG2    |\n",
       "| 3.094935e-17 | 8.170423 | 0.545 | 0.034 | 4.942301e-13 | 3 | IGHV3-53 |\n",
       "| 2.755291e-14 | 5.145153 | 0.409 | 0.021 | 4.399923e-10 | 3 | IGHV1-24 |\n",
       "| 2.115731e-12 | 5.047429 | 0.250 | 0.004 | 3.378611e-08 | 4 | WFDC2    |\n",
       "| 7.478706e-13 | 4.767131 | 0.417 | 0.034 | 1.194275e-08 | 4 | ID1      |\n",
       "\n"
      ],
      "text/plain": [
       "   p_val        avg_log2FC pct.1 pct.2 p_val_adj    cluster gene    \n",
       "1  3.062384e-26 3.319732   0.783 0.139 4.890321e-22 0       IL7R    \n",
       "2  1.104780e-12 2.796100   0.533 0.145 1.764223e-08 0       LTB     \n",
       "3  1.490899e-15 5.102063   0.488 0.073 2.380817e-11 1       GNLY    \n",
       "4  1.463923e-20 4.973677   0.512 0.034 2.337739e-16 1       GZMB    \n",
       "5  4.506473e-06 9.750836   0.275 0.055 7.196386e-02 2       IGHV3-30\n",
       "6  9.298355e-08 5.571970   0.475 0.138 1.484854e-03 2       IGHG2   \n",
       "7  3.094935e-17 8.170423   0.545 0.034 4.942301e-13 3       IGHV3-53\n",
       "8  2.755291e-14 5.145153   0.409 0.021 4.399923e-10 3       IGHV1-24\n",
       "9  2.115731e-12 5.047429   0.250 0.004 3.378611e-08 4       WFDC2   \n",
       "10 7.478706e-13 4.767131   0.417 0.034 1.194275e-08 4       ID1     "
      ]
     },
     "metadata": {},
     "output_type": "display_data"
    },
    {
     "data": {
      "text/html": [
       "<strong>png:</strong> 2"
      ],
      "text/latex": [
       "\\textbf{png:} 2"
      ],
      "text/markdown": [
       "**png:** 2"
      ],
      "text/plain": [
       "png \n",
       "  2 "
      ]
     },
     "metadata": {},
     "output_type": "display_data"
    }
   ],
   "source": [
    "## step 14. Finding differentially expressed features (cluster biomarkers)\n",
    "# find markers for every cluster compared to all remaining cells, report only the positive ones\n",
    "dat_filt.markers <- FindAllMarkers(data.filt, only.pos = TRUE, min.pct = 0.25, logfc.threshold = 0.25)\n",
    "dat_filt.markers %>%\n",
    "    group_by(cluster) %>%\n",
    "    slice_max(n = 2, order_by = avg_log2FC)\n",
    "# saving all the markers genes\n",
    "write.csv(dat_filt.markers, file=\"/data/kumarr9/scRNA/atac.scRNA.parth/SCAF2037/alternate_cell_cycle_regress_out/SCAF2037_positive_marker_gene.csv\")\n",
    "# saving markers genes for a defined crieria\n",
    "sub_df <- subset(dat_filt.markers, avg_log2FC > 2 & p_val < 0.05)\n",
    "write.csv(sub_df, file=\"/data/kumarr9/scRNA/atac.scRNA.parth/SCAF2037/alternate_cell_cycle_regress_out/SCAF2037_positive_marker_gene_significant.csv\")\n",
    "# plotting the marker gene \n",
    "png(\"/data/kumarr9/scRNA/atac.scRNA.parth/SCAF2037/alternate_cell_cycle_regress_out/top5_markers.jpg\", width = 5500, height = 3300, res=300)\n",
    "dat_filt.markers %>%\n",
    "    group_by(cluster) %>%\n",
    "    top_n(n = 5, wt = avg_log2FC) -> top5\n",
    "DoHeatmap(data.filt, features = top5$gene) + NoLegend()\n",
    "dev.off()"
   ]
  },
  {
   "cell_type": "code",
   "execution_count": 69,
   "id": "914612c2",
   "metadata": {
    "scrolled": true
   },
   "outputs": [
    {
     "name": "stderr",
     "output_type": "stream",
     "text": [
      "Warning message:\n",
      "“The following arguments are not used: scale.factor”\n",
      "Centering and scaling data matrix\n",
      "\n",
      "The number of cells in your dataset is less than 3,000. Fast mode has been disabled.\n",
      "\n",
      "CytoTRACE will be run on 1 sub-sample(s) of approximately 258 cells each using 1 / 1 core(s)\n",
      "\n",
      "Pre-processing data and generating similarity matrix...\n",
      "\n",
      "Calculating gene counts signature...\n",
      "\n",
      "Smoothing values with NNLS regression and diffusion...\n",
      "\n",
      "Calculating genes associated with CytoTRACE...\n",
      "\n",
      "Done\n",
      "\n",
      "Warning message:\n",
      "“The following features are not present in the object: FAM57B, not searching for symbol synonyms”\n",
      "Warning message:\n",
      "“The following features are not present in the object: CYR61, PTGES, SLC16A5, not searching for symbol synonyms”\n"
     ]
    },
    {
     "data": {
      "image/png": "[encoded data removed]",
      "text/plain": [
       "plot without title"
      ]
     },
     "metadata": {
      "image/png": {
       "height": 420,
       "width": 420
      }
     },
     "output_type": "display_data"
    }
   ],
   "source": [
    "#### Cyotrace analysis starts from here ####\n",
    "# Link - https://cytotrace.stanford.edu/\n",
    "####\n",
    "#install.packages(\"devtools\")\n",
    "#devtools::install_local(\"/data/kumarr9/CytoTRACE_0.3.3.tar.gz\")\n",
    "library(CytoTRACE)\n",
    "#### Cyotrace needs the normalized seurat object\n",
    "# mtrx should be non-negative(?) => seurat_obj should be normalized using scale.factor=1e6 instead of default (1e5)\n",
    "seurat_obj <- ScaleData(data.filt, scale.factor=1e6 )\n",
    "# seurat_obj <- RunPCA(seurat_obj)\n",
    "# seurat_obj <- JackStraw(seurat_obj)\n",
    "# seurat_obj <- ScoreJackStraw(seurat_obj)\n",
    "# seurat_obj <- FindClusters(seurat_obj)\n",
    "mtrx <- FetchData(seurat_obj, vars=rownames(seurat_obj))\n",
    "mtrx <- t(mtrx)\n",
    "## remove genes with 0 reads (of the genes included)\n",
    " genes.w.reads <- names(rowSums(mtrx)[rowSums(mtrx)>0])\n",
    " mtrx <- mtrx[genes.w.reads,]\n",
    "\n",
    " mtrx <- data.frame(mtrx)\n",
    " mtrx[mtrx=='.'] <- 0\n",
    "\n",
    "# ##  outputs a list that includes CytoTRACE score per cell\n",
    " Cytotrace.out <- CytoTRACE(mtrx)\n",
    "\n",
    " meta <- paste0('cluster.', seurat_obj$seurat_clusters)\n",
    " names(meta) <- colnames(seurat_obj)\n",
    " names(meta) <- str_replace(names(meta), '-', '.')\n",
    "\n",
    "# ## UMAP embeddings from Seurat\n",
    " umap.embeddings <- as.data.frame(seurat_obj[[\"umap\"]]@cell.embeddings)\n",
    " row.names(umap.embeddings) <- str_replace(row.names(umap.embeddings), '-', '.')\n",
    "\n",
    " cytotrace.plots <- plotCytoTRACE(Cytotrace.out, emb = umap.embeddings, phenotype = meta, outputDir = '/data/kumarr9/scRNA/atac.scRNA.parth/SCAF2037/alternate_cell_cycle_regress_out/CytoTRACE.output.data')\n",
    "#### Getting NE, Non-NE gene expression within each cluster of seurat object ####\n",
    "\n",
    "# Provide a list of genes whose expression you want to see within each cluster\n",
    "sclc_ne_genes <- c(\"ASCL1\", \"BEX1\", \"BSN\", \"CELF3\", \"CHGA\", \"CHGB\",\"CRMP1\", \"FAM57B\", \"INSM1\", \"KIF1A\", \n",
    "                   \"KIF5C\", \"MYT1\", \"RTN1\", \"RUNDC3A\", \"SCG3\",\"SEZ6\", \"SH3GL2\", \"SYN1\", \"SYP\", \"SYT11\", \n",
    "                    \"SYT4\", \"TAGLN3\" ,\"TFF3\", \"TMSB15A\", \"TMSB15B\")\n",
    "sclc_non_ne_genes <- c(\"ABCC3\", \"AHNAK\", \"ANXA1\", \"ARHGDIB\", \"CAV1\",\"CAV2\", \"CCND1\", \"CYR61\", \"EMP1\", \"EPHA2\",\n",
    "                        \"IFITM2\", \"IFITM3\", \"ITGB4\", \"LGALS3\", \"MYOF\",\"PLAU\", \"PTGES\", \"RAB27B\", \"S100A10\", \"S100A16\",\n",
    "                        \"SLC16A5\", \"TACSTD2\", \"TGFBI\", \"TGFBR2\", \"YAP1\")\n",
    "\n",
    "# Use the marker genes for each cluster identified in previous steps -\n",
    "#dat_filt.markers <- FindAllMarkers(data.filt, only.pos = TRUE, min.pct = 0.25, logfc.threshold = 0.25)\n",
    "\n",
    "seurat_obj <- AddModuleScore(object = seurat_obj, \n",
    "                                   features = list(sclc_ne_genes),\n",
    "                                   ctrl = 20,\n",
    "                                   name = \"neuro\"\n",
    "                                   )\n",
    "\n",
    "seurat_obj <- AddModuleScore(object = seurat_obj, \n",
    "                                   features = list(sclc_non_ne_genes),\n",
    "                                   ctrl = 20,\n",
    "                                   name = \"non_neuro\"\n",
    "                                   )\n"
   ]
  },
  {
   "cell_type": "code",
   "execution_count": 78,
   "id": "00c48d33",
   "metadata": {},
   "outputs": [
    {
     "data": {
      "text/html": [
       "<strong>png:</strong> 2"
      ],
      "text/latex": [
       "\\textbf{png:} 2"
      ],
      "text/markdown": [
       "**png:** 2"
      ],
      "text/plain": [
       "png \n",
       "  2 "
      ]
     },
     "metadata": {},
     "output_type": "display_data"
    }
   ],
   "source": [
    "#Getting NE expression data\n",
    "gene_data <- seurat_obj@meta.data$neuro1\n",
    "cluster_info <- as.numeric(as.character(seurat_obj@meta.data$seurat_clusters))\n",
    "#cluster_info <- as.numeric(cluster_info)\n",
    "data_df <- cbind(gene_data, cluster_info)\n",
    "data_df <- as.data.frame(data_df)\n",
    "#data_df <- data.frame(gene_data, cluster_info)\n",
    "# Set the plot title and y-axis label\n",
    "\n",
    "\n",
    "gene_data2 <- seurat_obj@meta.data$non_neuro1\n",
    "cluster_info2 <- as.numeric(as.character(seurat_obj@meta.data$seurat_clusters))\n",
    "#cluster_info2 <- as.numeric(cluster_info2)\n",
    "data_df2 <- cbind(gene_data2, cluster_info2)\n",
    "data_df2 <- as.data.frame(data_df2)\n",
    "#data_d2f <- data.frame(gene_data2, cluster_info2)\n",
    "\n",
    "## Plotting starts from here \n",
    "ne <- ggplot(data_df, aes(x = factor(cluster_info), y = gene_data, fill= factor(cluster_info))) +\n",
    "  geom_violin() +\n",
    "  labs(x = \"Cluster\", y = \"Expression\") + theme_minimal() + \n",
    "  ggtitle(\"NE gene expression by Cluster\") + geom_hline(yintercept=0.00, linetype=\"dashed\", color = \"red\")\n",
    "ne1 <- ne + theme(legend.position = \"none\") ## added to remove the fill label\n",
    " non_ne <- ggplot(data_df2, aes(x = factor(cluster_info2), y = gene_data2, fill= factor(cluster_info2))) +\n",
    "    geom_violin() +\n",
    "    labs(x = \"Cluster\", y = \"Expression\") + theme_minimal() + \n",
    "    ggtitle(\"Non-NE gene expression by Cluster\") + geom_hline(yintercept=0.00, linetype=\"dashed\", color = \"red\")\n",
    "non_ne1 <-  non_ne + theme(legend.position = \"none\") ## added to remove the fill label\n",
    "png(\"/data/kumarr9/scRNA/atac.scRNA.parth/SCAF2037/alternate_cell_cycle_regress_out/NE_NonNE.jpg\", width = 3000, height = 1500, res=300)\n",
    "ggarrange(ne1, non_ne1, \n",
    "          ncol = 2, nrow = 1)\n",
    "dev.off()"
   ]
  },
  {
   "cell_type": "code",
   "execution_count": 9,
   "id": "57256481",
   "metadata": {},
   "outputs": [],
   "source": [
    "saveRDS(seurat_obj, file = \"/data/kumarr9/scRNA/atac.scRNA.parth/SCAF2037/alternate_cell_cycle_regress_out/SCAF2037_cell_cycle_regress_difference_out_resolution_1.rds\")"
   ]
  },
  {
   "cell_type": "code",
   "execution_count": 79,
   "id": "1209a9bb",
   "metadata": {},
   "outputs": [
    {
     "name": "stderr",
     "output_type": "stream",
     "text": [
      "Warning message:\n",
      "“\u001b[1m\u001b[22mThe `slot` argument of `GetAssayData()` is deprecated as of SeuratObject 5.0.0.\n",
      "\u001b[36mℹ\u001b[39m Please use the `layer` argument instead.”\n",
      "Warning message in asMethod(object):\n",
      "“sparse->dense coercion: allocating vector of size 1.6 GiB”\n"
     ]
    }
   ],
   "source": [
    "####################################################################\n",
    "#### Working with saved object to create InferCNV plots and so #####\n",
    "####################################################################\n",
    "\n",
    "#### trying working with seurat object ---\n",
    "## trying InferCNV from the saved .rds file\n",
    "SCAF2037 <- readRDS(\"/data/kumarr9/scRNA/atac.scRNA.parth/SCAF2037/alternate_cell_cycle_regress_out/SCAF2037_cell_cycle_regress_difference_out_resolution_1.rds\")\n",
    "load(\"/data/kumarr9/scRNA/PBMC_seu.RData\")\n",
    "\n",
    "## step 16. mergind the two seurat object \n",
    "# link - https://satijalab.org/seurat/articles/merge_vignette.html\n",
    "# We are merging based on normalized one and hence added the parameters of merge.data=TRUE\n",
    "SCAF2037_merged <- merge(SCAF2037, y = PBMC_seu, add.cell.ids = c(\"SCLC\", \"PBMC\"), project = \"SCLC\",\n",
    "     merge.data = TRUE)\n",
    "# to see the content of merged object\n",
    "# SCAF3163_merged@assays$RNA@counts\n",
    "# dim(SCAF3163_merged)\n",
    "# dim(SCAF3163)\n",
    "# dim(PBMC_seu)\n",
    "\n",
    "## step 17. Getting count matrix from merged dataframe\n",
    "#str(SCAF3163_merged)\n",
    "expr_matrix <- GetAssayData(object = SCAF2037_merged, slot = \"counts\", assay = \"RNA\")\n",
    "# converting the expr_matrix which is dgCmatrix to dataframe \n",
    "expr_df <- as.data.frame(expr_matrix)\n",
    "#expr_df[1:20, 1:20]\n",
    "write.table(expr_df, file = \"/data/kumarr9/scRNA/atac.scRNA.parth/SCAF2037/alternate_cell_cycle_regress_out/SCAF2037_matrix.csv\", sep = \"\\t\", row.names = TRUE, col.names = TRUE)\n",
    "### creating gene order matrix for infercnv \n",
    "gene_names <- rownames(SCAF2037_merged)\n",
    "### converted it to dataframe \n",
    "gene_names <- data.frame(gene_names)\n",
    "## adding chromosme number, start and end to it\n",
    "## read a gtf file ----\n",
    "gtf_file <- read.table(\"/data/SCLCgenomics/rajesh/gene_version_27_cp.gtf\")\n",
    "matching_rows <- gtf_file[gtf_file$V5 %in% gene_names$gene_names, ]\n",
    "### correcting this dataframe as given in inferCNV package\n",
    "gene_df <- matching_rows %>% \n",
    "  select(V5, everything())\n",
    "gene_df <- gene_df[, -5]\n",
    "gene_df = gene_df[!duplicated(gene_df$V5),]\n",
    "# names(gene_df)[2] <- \"chr\"\n",
    "# names(gene_df)[3] <- \"start\"\n",
    "# names(gene_df)[4] <- \"stop\"\n",
    "\n",
    "###\n",
    "write.table(gene_df, file = \"/data/kumarr9/scRNA/atac.scRNA.parth/SCAF2037/alternate_cell_cycle_regress_out/SCAF2037_gene_order.txt\", sep = \"\\t\", row.names = FALSE, col.names = FALSE)\n",
    "## getting the cluster info from the seurat object/merged object\n",
    "clust_info <- SCAF2037_merged@meta.data[, \"seurat_clusters\", drop=F]\n",
    "## making dataset what looks like or needed by the inferCNV\n",
    "clust_info$cellID <- rownames(clust_info)\n",
    "clust_info$clstr <- paste0('cluster.', clust_info$seurat_clusters)\n",
    "clust_info_df <- clust_info[, !names(clust_info) %in% \"seurat_clusters\"]\n",
    "write.table(clust_info_df, file = \"/data/kumarr9/scRNA/atac.scRNA.parth/SCAF2037/alternate_cell_cycle_regress_out/SCAF2037_annotation.txt\", sep = \"\\t\", row.names = FALSE, col.names = FALSE)\n",
    "\n"
   ]
  },
  {
   "cell_type": "code",
   "execution_count": 80,
   "id": "c2e56926",
   "metadata": {},
   "outputs": [],
   "source": [
    "write.table(clust_info_df, file = \"/data/kumarr9/scRNA/atac.scRNA.parth/SCAF2037/alternate_cell_cycle_regress_out/SCAF2037_annotation.txt\", sep = \"\\t\", row.names = FALSE, col.names = FALSE)"
   ]
  },
  {
   "cell_type": "code",
   "execution_count": 92,
   "id": "46545e43",
   "metadata": {},
   "outputs": [],
   "source": [
    "### running Infercnv with the script and then plotting result using the code below\n",
    "\n",
    "#Below is the code for cnv score calculation after running inferCNV for the sample RU1311AT1 using cluster 2 as ref\n",
    "# Read the infercnv result tableinto a matrix format\n",
    "expr <- read.table(paste0(\"/data/kumarr9/scRNA/atac.scRNA.parth/SCAF2037/alternate_cell_cycle_regress_out/infercnv_result_1_10_1/infercnv.observations.txt\"), header=T) %>% as.matrix()\n",
    "# Scale the expression matrix by subtracting the column means and dividing by the column standard deviations\n",
    "expr.scale <- scale(t(expr))\n",
    "# Subtract the minimum value of each column from the scaled expression matrix\n",
    "tmp1 <- sweep(expr.scale, 2, apply(expr.scale, 2, min),'-')\n",
    "# Calculate the range (maximum - minimum) of each column in the scaled expression matrix\n",
    "tmp2 <- apply(expr.scale, 2, max) - apply(expr.scale,2,min)\n",
    "# Normalize the scaled expression matrix to the range of -1 to 1\n",
    "expr_1 <- t(2*sweep(tmp1, 2, tmp2, \"/\")-1)\n",
    "# Calculate the CNV score by summing the squared values of each column in the normalized expression matrix\n",
    "cnv_score <- as.data.frame(colSums(expr_1 * expr_1))\n",
    "#head(cnv_score)\n",
    "#### CNV score calculation ends here #######\n",
    "\n",
    "###################################\n",
    "### CNV plot starts from here #####\n",
    "###################################\n",
    "### before plotting, needs some sort of processing such as doing add rownames of cell ID to dataframe and assign name CellID to this\n",
    "cnv_score <- tibble::rownames_to_column(cnv_score, var = \"CellID\")\n",
    "colnames(cnv_score)[2] =\"score\"\n",
    "# saving this dataframe for future use, if needed\n",
    "write.table(cnv_score, file = \"/data/kumarr9/scRNA/atac.scRNA.parth/SCAF2037/alternate_cell_cycle_regress_out/infercnv_result_1_10_1/SCAF2037_cnv_score.txt\", sep = \"\\t\", row.names=FALSE)\n",
    "## Since, the two dataframe i.e. cnv score dataset and annotation dataset has similar thing in terms of cellID but in different order\n",
    "## so, make them in similar order\n",
    "# Read File 1 into a data frame\n",
    "file1 <- read.table(\"/data/kumarr9/scRNA/atac.scRNA.parth/SCAF2037/alternate_cell_cycle_regress_out/infercnv_result_1_10_1/SCAF2037_cnv_score.txt\", header = TRUE)\n",
    "\n",
    "# Read File 2 into a data frame\n",
    "file2 <- read.table(\"/data/kumarr9/scRNA/atac.scRNA.parth/SCAF2037/alternate_cell_cycle_regress_out/SCAF2037_annotation.txt\", header = TRUE)\n",
    "### make copy of the annotation file, since InferCNV needs the file without header and here we are adding header for plot and so\n",
    "file2_cp <- read.table(\"/data/kumarr9/scRNA/atac.scRNA.parth/SCAF2037/alternate_cell_cycle_regress_out/SCAF2037_annotation.txt\", header = FALSE)\n",
    "# Add headers to the data\n",
    "headers <- c(\"CellID\", \"Info\")\n",
    "colnames(file2_cp) <- headers\n",
    "# save the annotation copied file with header info\n",
    "write.table(file2_cp, file = \"/data/kumarr9/scRNA/atac.scRNA.parth/SCAF2037/alternate_cell_cycle_regress_out/infercnv_result_1_10_1/annotation_cp.txt\", sep = \"\\t\", col.names = TRUE, row.names = FALSE)\n",
    "\n",
    "## in saved file change :%s/-/./g, so that file1 and file3 has same column\n",
    "file3 <- read.table(\"/data/kumarr9/scRNA/atac.scRNA.parth/SCAF2037/alternate_cell_cycle_regress_out/infercnv_result_1_10_1/annotation_cp.txt\", header = TRUE)\n",
    "# Merge File 1 and File 2 based on the cell ID column\n",
    "merged <- merge(file1, file3, by = \"CellID\")\n",
    "\n",
    "# Reorder the rows of File 1 based on the order in File 2\n",
    "ordered_file1 <- merged[order(merged$CellID), ]\n",
    "\n",
    "## save the dataframe for future use \n",
    "write.table(ordered_file1, file = \"/data/kumarr9/scRNA/atac.scRNA.parth/SCAF2037/alternate_cell_cycle_regress_out/infercnv_result_1_10_1/cnv_score_ordered_annotation.txt\", sep = \"\\t\", row.names = FALSE)\n",
    "### plotting the results ###\n",
    "library(ggplot2)\n",
    "png(\"/data/kumarr9/scRNA/atac.scRNA.parth/SCAF2037/alternate_cell_cycle_regress_out/infercnv_result_1_10_1/SCAF2037_classic.jpg\", width = 3000, height = 2000, res=300)\n",
    "ggplot(ordered_file1, aes(x=Info, y=score, fill=Info)) + \n",
    "  geom_violin(trim=FALSE)+\n",
    "  geom_boxplot(width=0.1, fill=\"white\")+ ggtitle(\"InferCNV estimation for SCAF2037\") +\n",
    "  labs(title=\"\",x=\"Cluster\", y = \"CNV Scores\") +  theme_classic() + theme(axis.text.x = element_text(angle = 30, hjust = 1)) \n",
    "dev.off()\n",
    "\n",
    "png(\"/data/kumarr9/scRNA/atac.scRNA.parth/SCAF2037/alternate_cell_cycle_regress_out/infercnv_result_1_10_1/SCAF2037_minimal.jpg\", width = 3000, height = 2000, res=300)\n",
    "ggplot(ordered_file1, aes(x=Info, y=score, fill=Info)) + \n",
    "  geom_violin(trim=FALSE)+\n",
    "  geom_boxplot(width=0.1, fill=\"white\")+ ggtitle(\"InferCNV estimation for SCAF2037\") +\n",
    "  labs(title=\"\",x=\"Cluster\", y = \"CNV Scores\") + theme_minimal() + theme(axis.text.x=element_text(angle=30, hjust=1))\n",
    "dev.off()"
   ]
  },
  {
   "cell_type": "code",
   "execution_count": 122,
   "id": "2c9e018f",
   "metadata": {},
   "outputs": [
    {
     "name": "stderr",
     "output_type": "stream",
     "text": [
      "Calculating cluster 0\n",
      "\n",
      "Calculating cluster 1\n",
      "\n",
      "Calculating cluster 2\n",
      "\n",
      "Calculating cluster 3\n",
      "\n",
      "Calculating cluster 4\n",
      "\n",
      "'select()' returned 1:1 mapping between keys and columns\n",
      "\n",
      "Warning message in bitr(top100$gene, fromType = \"SYMBOL\", toType = \"ENTREZID\", OrgDb = \"org.Hs.eg.db\"):\n",
      "“4.11% of input gene IDs are fail to map...”\n",
      "\u001b[1m\u001b[22mScale for \u001b[32mcolour\u001b[39m is already present.\n",
      "Adding another scale for \u001b[32mcolour\u001b[39m, which will replace the existing scale.\n"
     ]
    },
    {
     "data": {
      "text/html": [
       "<strong>png:</strong> 2"
      ],
      "text/latex": [
       "\\textbf{png:} 2"
      ],
      "text/markdown": [
       "**png:** 2"
      ],
      "text/plain": [
       "png \n",
       "  2 "
      ]
     },
     "metadata": {},
     "output_type": "display_data"
    }
   ],
   "source": [
    "## This can be done just after # step 13, after removing doublets\n",
    "### cluster_profiler analysis/plot starts from here \n",
    "# load libraries\n",
    "library(clusterProfiler)\n",
    "library(org.Hs.eg.db)\n",
    "################\n",
    "logFCfilter=0.5 ## define cutoff\n",
    "adjPvalFilter=0.05\n",
    "Cells.markers <- FindAllMarkers(data.filt, # the Seurat obejct\n",
    "only.pos = TRUE,\n",
    "min.pct = 0.25,\n",
    "logfc.threshold = logFCfilter)\n",
    "################\n",
    "Cells.markers %>%\n",
    "  group_by(cluster) %>%\n",
    "  top_n(n = 50, wt = abs(avg_log2FC)) -> top50\n",
    "top100$cluster <- factor(top100$cluster, levels = c(\"0\", \"1\", \"2\", \"3\", \"4\")) ## change this to for number of clusters, this can be seen from UMAP plot \n",
    "eg = bitr(top100$gene, fromType=\"SYMBOL\", toType=\"ENTREZID\", OrgDb=\"org.Hs.eg.db\")\n",
    "top100 <- merge(top100, eg, by.x = \"gene\", by.y = \"SYMBOL\")\n",
    "#################\n",
    "cpr <- compareCluster(ENTREZID ~ cluster,\n",
    "                      data = top100,\n",
    "                      fun = \"enrichGO\",\n",
    "                      OrgDb=\"org.Hs.eg.db\"\n",
    ")\n",
    "\n",
    "## plot the result for clusterprofiler ####\n",
    "png(\"/data/kumarr9/scRNA/atac.scRNA.parth/SCAF2037/alternate_cell_cycle_regress_out/infercnv_result_1_10_1/SCAF2037_cluster_profile.jpg\", width = 2000, height = 1900, res=300)\n",
    "dotplot(cpr, label_format = 100)+xlab(\"\")+\n",
    "  theme(axis.text.x = element_text(angle = 90, hjust = 1, vjust = 0.5))+\n",
    "  scale_color_viridis_c(option = \"viridis\", begin = 1, end = 0)+ ### change \"viridis\" to either \"magma\" or so link - https://cran.r-project.org/web/packages/viridis/vignettes/intro-to-viridis.html\n",
    "  theme_linedraw()\n",
    "dev.off()"
   ]
  },
  {
   "cell_type": "code",
   "execution_count": 126,
   "id": "d7449a12",
   "metadata": {},
   "outputs": [
    {
     "name": "stderr",
     "output_type": "stream",
     "text": [
      "Warning message:\n",
      "“'msigdbr_show_species' is deprecated.\n",
      "Use 'msigdbr_species' instead.\n",
      "See help(\"Deprecated\")”\n"
     ]
    },
    {
     "data": {
      "text/html": [
       "<style>\n",
       ".list-inline {list-style: none; margin:0; padding: 0}\n",
       ".list-inline>li {display: inline-block}\n",
       ".list-inline>li:not(:last-child)::after {content: \"\\00b7\"; padding: 0 .5ex}\n",
       "</style>\n",
       "<ol class=list-inline><li>'Anolis carolinensis'</li><li>'Bos taurus'</li><li>'Caenorhabditis elegans'</li><li>'Canis lupus familiaris'</li><li>'Danio rerio'</li><li>'Drosophila melanogaster'</li><li>'Equus caballus'</li><li>'Felis catus'</li><li>'Gallus gallus'</li><li>'Homo sapiens'</li><li>'Macaca mulatta'</li><li>'Monodelphis domestica'</li><li>'Mus musculus'</li><li>'Ornithorhynchus anatinus'</li><li>'Pan troglodytes'</li><li>'Rattus norvegicus'</li><li>'Saccharomyces cerevisiae'</li><li>'Schizosaccharomyces pombe 972h-'</li><li>'Sus scrofa'</li><li>'Xenopus tropicalis'</li></ol>\n"
      ],
      "text/latex": [
       "\\begin{enumerate*}\n",
       "\\item 'Anolis carolinensis'\n",
       "\\item 'Bos taurus'\n",
       "\\item 'Caenorhabditis elegans'\n",
       "\\item 'Canis lupus familiaris'\n",
       "\\item 'Danio rerio'\n",
       "\\item 'Drosophila melanogaster'\n",
       "\\item 'Equus caballus'\n",
       "\\item 'Felis catus'\n",
       "\\item 'Gallus gallus'\n",
       "\\item 'Homo sapiens'\n",
       "\\item 'Macaca mulatta'\n",
       "\\item 'Monodelphis domestica'\n",
       "\\item 'Mus musculus'\n",
       "\\item 'Ornithorhynchus anatinus'\n",
       "\\item 'Pan troglodytes'\n",
       "\\item 'Rattus norvegicus'\n",
       "\\item 'Saccharomyces cerevisiae'\n",
       "\\item 'Schizosaccharomyces pombe 972h-'\n",
       "\\item 'Sus scrofa'\n",
       "\\item 'Xenopus tropicalis'\n",
       "\\end{enumerate*}\n"
      ],
      "text/markdown": [
       "1. 'Anolis carolinensis'\n",
       "2. 'Bos taurus'\n",
       "3. 'Caenorhabditis elegans'\n",
       "4. 'Canis lupus familiaris'\n",
       "5. 'Danio rerio'\n",
       "6. 'Drosophila melanogaster'\n",
       "7. 'Equus caballus'\n",
       "8. 'Felis catus'\n",
       "9. 'Gallus gallus'\n",
       "10. 'Homo sapiens'\n",
       "11. 'Macaca mulatta'\n",
       "12. 'Monodelphis domestica'\n",
       "13. 'Mus musculus'\n",
       "14. 'Ornithorhynchus anatinus'\n",
       "15. 'Pan troglodytes'\n",
       "16. 'Rattus norvegicus'\n",
       "17. 'Saccharomyces cerevisiae'\n",
       "18. 'Schizosaccharomyces pombe 972h-'\n",
       "19. 'Sus scrofa'\n",
       "20. 'Xenopus tropicalis'\n",
       "\n",
       "\n"
      ],
      "text/plain": [
       " [1] \"Anolis carolinensis\"             \"Bos taurus\"                     \n",
       " [3] \"Caenorhabditis elegans\"          \"Canis lupus familiaris\"         \n",
       " [5] \"Danio rerio\"                     \"Drosophila melanogaster\"        \n",
       " [7] \"Equus caballus\"                  \"Felis catus\"                    \n",
       " [9] \"Gallus gallus\"                   \"Homo sapiens\"                   \n",
       "[11] \"Macaca mulatta\"                  \"Monodelphis domestica\"          \n",
       "[13] \"Mus musculus\"                    \"Ornithorhynchus anatinus\"       \n",
       "[15] \"Pan troglodytes\"                 \"Rattus norvegicus\"              \n",
       "[17] \"Saccharomyces cerevisiae\"        \"Schizosaccharomyces pombe 972h-\"\n",
       "[19] \"Sus scrofa\"                      \"Xenopus tropicalis\"             "
      ]
     },
     "metadata": {},
     "output_type": "display_data"
    },
    {
     "name": "stderr",
     "output_type": "stream",
     "text": [
      "\u001b[1m\u001b[22mScale for \u001b[32mcolour\u001b[39m is already present.\n",
      "Adding another scale for \u001b[32mcolour\u001b[39m, which will replace the existing scale.\n"
     ]
    },
    {
     "data": {
      "text/html": [
       "<strong>png:</strong> 2"
      ],
      "text/latex": [
       "\\textbf{png:} 2"
      ],
      "text/markdown": [
       "**png:** 2"
      ],
      "text/plain": [
       "png \n",
       "  2 "
      ]
     },
     "metadata": {},
     "output_type": "display_data"
    }
   ],
   "source": [
    "##Hallmark gene set analysis within clusters ###\n",
    "library(msigdbr)\n",
    "msigdbr_show_species()\n",
    "### retrieving only human datasets ###\n",
    "#Molecular Signatures Database is a collection of annotated gene sets. It contains 8 major collections:\n",
    "\n",
    "# H: hallmark gene sets\n",
    "# C1: positional gene sets\n",
    "# C2: curated gene sets\n",
    "# C3: motif gene sets\n",
    "# C4: computational gene sets\n",
    "# C5: GO gene sets\n",
    "# C6: oncogenic signatures\n",
    "# C7: immunologic signatures\n",
    "cp.t2g <- clusterProfiler::read.gmt(\"/data/kumarr9/h.all.v2022.1.Hs.symbols.gmt\")\n",
    "#trying running for the enrichment analysis like before:\n",
    "cpr_hall <- compareCluster(gene ~ cluster,\n",
    "                      data = top100,\n",
    "                      fun = \"enricher\",\n",
    "                      TERM2GENE = cp.t2g,\n",
    "                      minGSSize = 0,\n",
    "                      maxGSSize = 5000)\n",
    "\n",
    "## plot the result for clusterprofiler ####\n",
    "# dotplot(cpr_hall, label_format = 100)+xlab(\"\")+\n",
    "#   theme(axis.text.x = element_text(angle = 90, hjust = 1, vjust = 0.5))+\n",
    "#   scale_color_viridis_c(option = \"viridis\", begin = 1, end = 0)+ ### change \"viridis\" to either \"magma\" or so link - https://cran.r-project.org/web/packages/viridis/vignettes/intro-to-viridis.html\n",
    "#   theme_linedraw()\n",
    "\n",
    "## plot the result for clusterprofiler ####\n",
    "png(\"/data/kumarr9/scRNA/atac.scRNA.parth/SCAF2037/alternate_cell_cycle_regress_out/infercnv_result_1_10_1/SCAF2037_hallmark.jpg\", width = 2000, height = 1900, res=300)\n",
    "dotplot(cpr_hall, label_format = 100)+xlab(\"\")+\n",
    "   theme(axis.text.x = element_text(angle = 90, hjust = 1, vjust = 0.5))+\n",
    "   scale_color_viridis_c(option = \"viridis\", begin = 1, end = 0)+ ### change \"viridis\" to either \"magma\" or so link - https://cran.r-project.org/web/packages/viridis/vignettes/intro-to-viridis.html\n",
    "   theme_linedraw()\n",
    "dev.off()"
   ]
  },
  {
   "cell_type": "code",
   "execution_count": 2,
   "id": "0369cd47",
   "metadata": {},
   "outputs": [],
   "source": [
    "## Trying getting UMAP coordinates and barcodes for scvelo analysis"
   ]
  },
  {
   "cell_type": "code",
   "execution_count": 3,
   "id": "97231cab",
   "metadata": {},
   "outputs": [],
   "source": [
    "## Getting UMAP coordinates\n",
    "SCAF2037 <- readRDS(\"/data/kumarr9/scRNA/atac.scRNA.parth/SCAF2037/alternate_cell_cycle_regress_out/SCAF2037_cell_cycle_regress_difference_out_resolution_1.rds\")\n",
    "SCAF2037_coords <- SCAF2037$umap@cell.embeddings\n",
    "SCAF2037_coords <- data.frame(SCAF2037_coords)\n",
    "SCAF2037_coords <- tibble::rownames_to_column(SCAF2037_coords, \"Barcode\")\n",
    "write.table(SCAF2037_coords, file = \"/data/kumarr9/scRNA/atac.scRNA.parth/SCAF2037/alternate_cell_cycle_regress_out/SCAF2037_umap_coordinates.txt\", sep = \"\\t\", row.names = F, col.names = TRUE)"
   ]
  },
  {
   "cell_type": "code",
   "execution_count": 20,
   "id": "b566f47e",
   "metadata": {},
   "outputs": [],
   "source": [
    "# Getting Seuart clusters\n",
    "SCAF2037_cluster <- SCAF2037$seurat_clusters\n",
    "SCAF2037_cluster <- data.frame(SCAF2037_cluster)\n",
    "SCAF2037_cluster <- tibble::rownames_to_column(SCAF2037_cluster, \"Barcode\")\n",
    "write.table(SCAF2037_cluster, file = \"/data/kumarr9/scRNA/atac.scRNA.parth/SCAF2037/alternate_cell_cycle_regress_out/SCAF2037_clusters.txt\", sep = \"\\t\", row.names = F, col.names = TRUE)\n",
    "## File has been moved to .csv from .txt"
   ]
  },
  {
   "cell_type": "code",
   "execution_count": null,
   "id": "d695a782",
   "metadata": {},
   "outputs": [],
   "source": []
  }
 ],
 "metadata": {
  "kernelspec": {
   "display_name": "R/4.2",
   "language": "R",
   "name": "ir42"
  },
  "language_info": {
   "codemirror_mode": "r",
   "file_extension": ".r",
   "mimetype": "text/x-r-source",
   "name": "R",
   "pygments_lexer": "r",
   "version": "4.2.2"
  }
 },
 "nbformat": 4,
 "nbformat_minor": 5
}

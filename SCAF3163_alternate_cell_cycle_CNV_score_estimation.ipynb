{
 "cells": [
  {
   "cell_type": "code",
   "execution_count": 1,
   "id": "cd3019e0",
   "metadata": {},
   "outputs": [
    {
     "name": "stderr",
     "output_type": "stream",
     "text": [
      "Attaching SeuratObject\n",
      "\n",
      "-- \u001b[1mAttaching core tidyverse packages\u001b[22m ----------------------------------------------------------------------------------------------------------------------------------------------- tidyverse 2.0.0 --\n",
      "\u001b[32mv\u001b[39m \u001b[34mdplyr    \u001b[39m 1.1.1     \u001b[32mv\u001b[39m \u001b[34mreadr    \u001b[39m 2.1.4\n",
      "\u001b[32mv\u001b[39m \u001b[34mforcats  \u001b[39m 1.0.0     \u001b[32mv\u001b[39m \u001b[34mstringr  \u001b[39m 1.5.0\n",
      "\u001b[32mv\u001b[39m \u001b[34mggplot2  \u001b[39m 3.4.2     \u001b[32mv\u001b[39m \u001b[34mtibble   \u001b[39m 3.2.1\n",
      "\u001b[32mv\u001b[39m \u001b[34mlubridate\u001b[39m 1.9.2     \u001b[32mv\u001b[39m \u001b[34mtidyr    \u001b[39m 1.3.0\n",
      "\u001b[32mv\u001b[39m \u001b[34mpurrr    \u001b[39m 1.0.1     \n",
      "-- \u001b[1mConflicts\u001b[22m ----------------------------------------------------------------------------------------------------------------------------------------------------------------- tidyverse_conflicts() --\n",
      "\u001b[31mx\u001b[39m \u001b[34mdplyr\u001b[39m::\u001b[32mfilter()\u001b[39m masks \u001b[34mstats\u001b[39m::filter()\n",
      "\u001b[31mx\u001b[39m \u001b[34mdplyr\u001b[39m::\u001b[32mlag()\u001b[39m    masks \u001b[34mstats\u001b[39m::lag()\n",
      "\u001b[36mi\u001b[39m Use the conflicted package (\u001b[3m\u001b[34m<http://conflicted.r-lib.org/>\u001b[39m\u001b[23m) to force all conflicts to become errors\n",
      "Registered S3 method overwritten by 'SeuratDisk':\n",
      "  method            from  \n",
      "  as.sparse.H5Group Seurat\n",
      "\n"
     ]
    }
   ],
   "source": [
    "######################################################\n",
    "### Attaching and downloading necessary packagaes ####\n",
    "######################################################\n",
    "# if (!requireNamespace(\"BiocManager\", quietly = FALSE))\n",
    "#     install.packages(\"BiocManager\")\n",
    "# BiocManager::version()\n",
    "# library(\"devtools\")\n",
    "# devtools::install_github(\"broadinstitute/infercnv\", force=TRUE)\n",
    "# detach(\"package:infercnv\", unload=T)  ### package infercnv_1.15.3  seems to work fine\n",
    "library(infercnv)\n",
    "#### loading packages and others \n",
    "library(\"Seurat\")\n",
    "library(\"tidyverse\")\n",
    "#remotes::install_github(\"mojaveazure/seurat-disk\")\n",
    "library(\"SeuratDisk\")\n",
    "#install.packages(\"ggplot2\")\n",
    "library(ggplot2)\n",
    "#install.packages(\"remotes\")\n",
    "#remotes::install_github(\"chris-mcginnis-ucsf/DoubletFinder\", force=TRUE)\n",
    "library(DoubletFinder)\n",
    "library(dplyr)\n",
    "library(tidyverse)"
   ]
  },
  {
   "cell_type": "code",
   "execution_count": 2,
   "id": "1efe5302",
   "metadata": {},
   "outputs": [
    {
     "data": {
      "text/html": [
       "<strong>png:</strong> 2"
      ],
      "text/latex": [
       "\\textbf{png:} 2"
      ],
      "text/markdown": [
       "**png:** 2"
      ],
      "text/plain": [
       "png \n",
       "  2 "
      ]
     },
     "metadata": {},
     "output_type": "display_data"
    },
    {
     "data": {
      "text/html": [
       "<strong>png:</strong> 2"
      ],
      "text/latex": [
       "\\textbf{png:} 2"
      ],
      "text/markdown": [
       "**png:** 2"
      ],
      "text/plain": [
       "png \n",
       "  2 "
      ]
     },
     "metadata": {},
     "output_type": "display_data"
    }
   ],
   "source": [
    "#Below is the code for cnv score calculation after running inferCNV:\n",
    "# Read the infercnv result tableinto a matrix format\n",
    "expr <- read.table(paste0(\"/data/kumarr9/scRNA/scRNA_results/cell_cycle_regress_out/SCAF3163/alternate/infercnv_result_1.10.1/infercnv.observations.txt\"), header=T) %>% as.matrix()\n",
    "# Scale the expression matrix by subtracting the column means and dividing by the column standard deviations\n",
    "expr.scale <- scale(t(expr))\n",
    "# Subtract the minimum value of each column from the scaled expression matrix\n",
    "tmp1 <- sweep(expr.scale, 2, apply(expr.scale, 2, min),'-')\n",
    "# Calculate the range (maximum - minimum) of each column in the scaled expression matrix\n",
    "tmp2 <- apply(expr.scale, 2, max) - apply(expr.scale,2,min)\n",
    "# Normalize the scaled expression matrix to the range of -1 to 1\n",
    "expr_1 <- t(2*sweep(tmp1, 2, tmp2, \"/\")-1)\n",
    "# Calculate the CNV score by summing the squared values of each column in the normalized expression matrix\n",
    "cnv_score <- as.data.frame(colSums(expr_1 * expr_1))\n",
    "#head(cnv_score)\n",
    "#### CNV score calculation ends here #######\n",
    "\n",
    "###################################\n",
    "### CNV plot starts from here #####\n",
    "###################################\n",
    "### before plotting, needs some sort of processing such as doing add rownames of cell ID to dataframe and assign name CellID to this\n",
    "cnv_score <- tibble::rownames_to_column(cnv_score, var = \"CellID\")\n",
    "\n",
    "## change name of second column to score, initially it is \"colSums(expr_1 * expr_1)\"\n",
    "colnames(cnv_score)[2] =\"score\"\n",
    "# saving this dataframe for future use, if needed\n",
    "write.table(cnv_score, file = \"/data/kumarr9/scRNA/scRNA_results/cell_cycle_regress_out/SCAF3163/alternate/infercnv_result_1.10.1/cnv_score.txt\", sep = \"\\t\", row.names=FALSE)\n",
    "\n",
    "## Since, the tow dataframe i.e. cnv score dataset and annotation dataset has similar thing in terms of cellID but in different order\n",
    "## so, make them in similar order\n",
    "# Read File 1 into a data frame\n",
    "file1 <- read.table(\"/data/kumarr9/scRNA/scRNA_results/cell_cycle_regress_out/SCAF3163/alternate/infercnv_result_1.10.1/cnv_score.txt\", header = TRUE)\n",
    "\n",
    "# Read File 2 into a data frame\n",
    "file2 <- read.table(\"/data/kumarr9/scRNA/scRNA_results/cell_cycle_regress_out/SCAF3163/alternate/annotation.txt\", header = TRUE)\n",
    "\n",
    "### make copy of the annotation file, since InferCNV needs the file without header and here we are adding header for plot and so\n",
    "file2_cp <- read.table(\"/data/kumarr9/scRNA/scRNA_results/cell_cycle_regress_out/SCAF3163/alternate/annotation.txt\", header = FALSE)\n",
    "# Add headers to the data\n",
    "headers <- c(\"CellID\", \"Info\")\n",
    "colnames(file2_cp) <- headers\n",
    "\n",
    "# save the annotation copied file with header info\n",
    "#write.table(file2_cp, file = \"/data/kumarr9/scRNA/scRNA_results/cell_cycle_regress_out/SCAF3163/alternate/annotation_cp.txt\", sep = \"\\t\", col.names = TRUE, row.names = FALSE)\n",
    "## since the name of cell ID in file2_cp and file1 are different, in file 1 name is separated by \"-\" while in file2_cp it is by \".\"\n",
    "file3 <- read.table(\"/data/kumarr9/scRNA/scRNA_results/cell_cycle_regress_out/SCAF3163/alternate/annotation_cp.txt\", header = TRUE)\n",
    "# Merge File 1 and File 2 based on the cell ID column\n",
    "merged <- merge(file1, file3, by = \"CellID\")\n",
    "\n",
    "# Reorder the rows of File 1 based on the order in File 2\n",
    "ordered_file1 <- merged[order(merged$CellID), ]\n",
    "\n",
    "## save the dataframe for future use \n",
    "write.table(ordered_file1, file = \"/data/kumarr9/scRNA/scRNA_results/cell_cycle_regress_out/SCAF3163/alternate/cnv_score_ordered_annotation.txt\", sep = \"\\t\", row.names = FALSE)\n",
    "\n",
    "### plotting the results ###\n",
    "library(ggplot2)\n",
    "png(\"/data/kumarr9/scRNA/scRNA_results/cell_cycle_regress_out/SCAF3163/alternate/SCAF3163_classic.jpg\", width = 3000, height = 2000, res=300)\n",
    "ggplot(ordered_file1, aes(x=Info, y=score, fill=Info)) + \n",
    "  geom_violin(trim=FALSE)+\n",
    "  geom_boxplot(width=0.1, fill=\"white\")+\n",
    "  labs(title=\"\",x=\"Cluster\", y = \"CNV Scores\") +  theme_classic() + theme(axis.text.x = element_text(angle = 30, hjust = 1)) \n",
    "dev.off()\n",
    "\n",
    "png(\"/data/kumarr9/scRNA/scRNA_results/cell_cycle_regress_out/SCAF3163/alternate/SCAF3163_minimal.jpg\", width = 3000, height = 2000, res=300)\n",
    "ggplot(ordered_file1, aes(x=Info, y=score, fill=Info)) + \n",
    "  geom_violin(trim=FALSE)+\n",
    "  geom_boxplot(width=0.1, fill=\"white\")+\n",
    "  labs(title=\"\",x=\"Cluster\", y = \"CNV Scores\") + theme_minimal() + theme(axis.text.x=element_text(angle=30, hjust=1))\n",
    "dev.off()"
   ]
  },
  {
   "cell_type": "code",
   "execution_count": 7,
   "id": "40affa62",
   "metadata": {},
   "outputs": [
    {
     "data": {
      "text/html": [
       "<strong>png:</strong> 2"
      ],
      "text/latex": [
       "\\textbf{png:} 2"
      ],
      "text/markdown": [
       "**png:** 2"
      ],
      "text/plain": [
       "png \n",
       "  2 "
      ]
     },
     "metadata": {},
     "output_type": "display_data"
    },
    {
     "data": {
      "text/html": [
       "<strong>png:</strong> 2"
      ],
      "text/latex": [
       "\\textbf{png:} 2"
      ],
      "text/markdown": [
       "**png:** 2"
      ],
      "text/plain": [
       "png \n",
       "  2 "
      ]
     },
     "metadata": {},
     "output_type": "display_data"
    }
   ],
   "source": [
    "file3 <- read.table(\"/data/kumarr9/scRNA/scRNA_results/cell_cycle_regress_out/SCAF3163/alternate/annotation_cp.txt\", header = TRUE)\n",
    "# Merge File 1 and File 2 based on the cell ID column\n",
    "merged <- merge(file1, file3, by = \"CellID\")\n",
    "\n",
    "# Reorder the rows of File 1 based on the order in File 2\n",
    "ordered_file1 <- merged[order(merged$CellID), ]\n",
    "\n",
    "## save the dataframe for future use \n",
    "write.table(ordered_file1, file = \"/data/kumarr9/scRNA/scRNA_results/cell_cycle_regress_out/SCAF3163/alternate/cnv_score_ordered_annotation.txt\", sep = \"\\t\", row.names = FALSE)\n",
    "\n",
    "### plotting the results ###\n",
    "library(ggplot2)\n",
    "png(\"/data/kumarr9/scRNA/scRNA_results/cell_cycle_regress_out/SCAF3163/alternate/SCAF3163_classic.jpg\", width = 3000, height = 2000, res=300)\n",
    "ggplot(ordered_file1, aes(x=Info, y=score, fill=Info)) + \n",
    "  geom_violin(trim=FALSE)+\n",
    "  geom_boxplot(width=0.1, fill=\"white\")+\n",
    "  labs(title=\"\",x=\"Cluster\", y = \"CNV Scores\") +  theme_classic() + theme(axis.text.x = element_text(angle = 30, hjust = 1)) \n",
    "dev.off()\n",
    "\n",
    "png(\"/data/kumarr9/scRNA/scRNA_results/cell_cycle_regress_out/SCAF3163/alternate/SCAF3163_minimal.jpg\", width = 3000, height = 2000, res=300)\n",
    "ggplot(ordered_file1, aes(x=Info, y=score, fill=Info)) + \n",
    "  geom_violin(trim=FALSE)+\n",
    "  geom_boxplot(width=0.1, fill=\"white\")+\n",
    "  labs(title=\"\",x=\"Cluster\", y = \"CNV Scores\") + theme_minimal() + theme(axis.text.x=element_text(angle=30, hjust=1))\n",
    "dev.off()"
   ]
  }
 ],
 "metadata": {
  "kernelspec": {
   "display_name": "R/4.2",
   "language": "R",
   "name": "ir42"
  },
  "language_info": {
   "codemirror_mode": "r",
   "file_extension": ".r",
   "mimetype": "text/x-r-source",
   "name": "R",
   "pygments_lexer": "r",
   "version": "4.2.2"
  }
 },
 "nbformat": 4,
 "nbformat_minor": 5
}
